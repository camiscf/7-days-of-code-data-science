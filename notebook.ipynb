{
 "cells": [
  {
   "cell_type": "code",
   "execution_count": null,
   "metadata": {},
   "outputs": [],
   "source": []
  },
  {
   "cell_type": "markdown",
   "metadata": {},
   "source": [
    "# Day 1: Data Cleaning"
   ]
  },
  {
   "cell_type": "code",
   "execution_count": 77,
   "metadata": {},
   "outputs": [],
   "source": [
    "import pandas as pd"
   ]
  },
  {
   "cell_type": "code",
   "execution_count": 78,
   "metadata": {},
   "outputs": [],
   "source": [
    "despesas_2019 = pd.read_csv('despesa_ceaps_2019.csv', encoding=\"ISO-8859-1\",delimiter=';')\n",
    "despesas_2020 = pd.read_csv('despesa_ceaps_2020.csv', encoding=\"ISO-8859-1\",delimiter=';')\n",
    "despesas_2021 = pd.read_csv('despesa_ceaps_2021.csv', encoding=\"ISO-8859-1\",delimiter=';')\n",
    "despesas_2022 = pd.read_csv('despesa_ceaps_2022.csv', encoding=\"ISO-8859-1\",delimiter=';')"
   ]
  },
  {
   "cell_type": "code",
   "execution_count": 79,
   "metadata": {},
   "outputs": [],
   "source": [
    "# Concatenate them\n",
    "combined_df = pd.concat([despesas_2019, despesas_2020, despesas_2021, despesas_2022])\n",
    "\n",
    "# Reset the index if you want a new continuous index\n",
    "combined_df.reset_index(drop=True, inplace=True)\n"
   ]
  },
  {
   "cell_type": "code",
   "execution_count": 80,
   "metadata": {},
   "outputs": [
    {
     "data": {
      "text/html": [
       "<div>\n",
       "<style scoped>\n",
       "    .dataframe tbody tr th:only-of-type {\n",
       "        vertical-align: middle;\n",
       "    }\n",
       "\n",
       "    .dataframe tbody tr th {\n",
       "        vertical-align: top;\n",
       "    }\n",
       "\n",
       "    .dataframe thead th {\n",
       "        text-align: right;\n",
       "    }\n",
       "</style>\n",
       "<table border=\"1\" class=\"dataframe\">\n",
       "  <thead>\n",
       "    <tr style=\"text-align: right;\">\n",
       "      <th></th>\n",
       "      <th>ANO</th>\n",
       "      <th>MES</th>\n",
       "      <th>SENADOR</th>\n",
       "      <th>TIPO_DESPESA</th>\n",
       "      <th>CNPJ_CPF</th>\n",
       "      <th>FORNECEDOR</th>\n",
       "      <th>DOCUMENTO</th>\n",
       "      <th>DATA</th>\n",
       "      <th>DETALHAMENTO</th>\n",
       "      <th>VALOR_REEMBOLSADO</th>\n",
       "      <th>COD_DOCUMENTO</th>\n",
       "    </tr>\n",
       "  </thead>\n",
       "  <tbody>\n",
       "    <tr>\n",
       "      <th>0</th>\n",
       "      <td>2019</td>\n",
       "      <td>1</td>\n",
       "      <td>ACIR GURGACZ</td>\n",
       "      <td>Aluguel de imï¿½veis para escritï¿½rio polï¿½t...</td>\n",
       "      <td>05.914.650/0001-66</td>\n",
       "      <td>ENERGISA</td>\n",
       "      <td>006582758</td>\n",
       "      <td>04/01/2019</td>\n",
       "      <td>Despesa com pagamento de energia elï¿½trica do...</td>\n",
       "      <td>66,02</td>\n",
       "      <td>2116543</td>\n",
       "    </tr>\n",
       "    <tr>\n",
       "      <th>1</th>\n",
       "      <td>2019</td>\n",
       "      <td>1</td>\n",
       "      <td>ACIR GURGACZ</td>\n",
       "      <td>Aluguel de imï¿½veis para escritï¿½rio polï¿½t...</td>\n",
       "      <td>05.914.650/0001-66</td>\n",
       "      <td>ENERGISA</td>\n",
       "      <td>006582755</td>\n",
       "      <td>04/01/2019</td>\n",
       "      <td>Despesa com pagamento de energia elï¿½trica do...</td>\n",
       "      <td>139,98</td>\n",
       "      <td>2116546</td>\n",
       "    </tr>\n",
       "    <tr>\n",
       "      <th>2</th>\n",
       "      <td>2019</td>\n",
       "      <td>1</td>\n",
       "      <td>ACIR GURGACZ</td>\n",
       "      <td>Aluguel de imï¿½veis para escritï¿½rio polï¿½t...</td>\n",
       "      <td>004.948.028-63</td>\n",
       "      <td>GILBERTO PISELO DO NASCIMENTO</td>\n",
       "      <td>00119</td>\n",
       "      <td>07/01/2019</td>\n",
       "      <td>Despesa com pagamento de aluguel de imï¿½vel p...</td>\n",
       "      <td>6000</td>\n",
       "      <td>2113817</td>\n",
       "    </tr>\n",
       "    <tr>\n",
       "      <th>3</th>\n",
       "      <td>2019</td>\n",
       "      <td>1</td>\n",
       "      <td>ACIR GURGACZ</td>\n",
       "      <td>Aluguel de imï¿½veis para escritï¿½rio polï¿½t...</td>\n",
       "      <td>05.423.963/0001-11</td>\n",
       "      <td>OI Mï¿½VEL S.A.</td>\n",
       "      <td>86161151</td>\n",
       "      <td>25/12/2018</td>\n",
       "      <td>Despesa com pagamento de telefonia para o escr...</td>\n",
       "      <td>316,39</td>\n",
       "      <td>2116541</td>\n",
       "    </tr>\n",
       "    <tr>\n",
       "      <th>4</th>\n",
       "      <td>2019</td>\n",
       "      <td>2</td>\n",
       "      <td>ACIR GURGACZ</td>\n",
       "      <td>Aluguel de imï¿½veis para escritï¿½rio polï¿½t...</td>\n",
       "      <td>05.914.650/0001-66</td>\n",
       "      <td>ENERGISA</td>\n",
       "      <td>007236036</td>\n",
       "      <td>04/02/2019</td>\n",
       "      <td>Despesa com pagamento de energia elï¿½trica pa...</td>\n",
       "      <td>99,45</td>\n",
       "      <td>2116550</td>\n",
       "    </tr>\n",
       "    <tr>\n",
       "      <th>...</th>\n",
       "      <td>...</td>\n",
       "      <td>...</td>\n",
       "      <td>...</td>\n",
       "      <td>...</td>\n",
       "      <td>...</td>\n",
       "      <td>...</td>\n",
       "      <td>...</td>\n",
       "      <td>...</td>\n",
       "      <td>...</td>\n",
       "      <td>...</td>\n",
       "      <td>...</td>\n",
       "    </tr>\n",
       "    <tr>\n",
       "      <th>69328</th>\n",
       "      <td>2022</td>\n",
       "      <td>12</td>\n",
       "      <td>ZEQUINHA MARINHO</td>\n",
       "      <td>Passagens aï¿½reas, aquï¿½ticas e terrestres n...</td>\n",
       "      <td>22.052.777/0001-32</td>\n",
       "      <td>Exceller Tour</td>\n",
       "      <td>WIXHAI</td>\n",
       "      <td>06/12/2022</td>\n",
       "      <td>Companhia Aï¿½rea: LATAM, Localizador: WIXHAI....</td>\n",
       "      <td>2893,04</td>\n",
       "      <td>2191398</td>\n",
       "    </tr>\n",
       "    <tr>\n",
       "      <th>69329</th>\n",
       "      <td>2022</td>\n",
       "      <td>12</td>\n",
       "      <td>ZEQUINHA MARINHO</td>\n",
       "      <td>Passagens aï¿½reas, aquï¿½ticas e terrestres n...</td>\n",
       "      <td>22.052.777/0001-32</td>\n",
       "      <td>Exceller Tour</td>\n",
       "      <td>WITOLM</td>\n",
       "      <td>09/12/2022</td>\n",
       "      <td>Companhia Aï¿½rea: GOL, Localizador: WITOLM. P...</td>\n",
       "      <td>1180,19</td>\n",
       "      <td>2192272</td>\n",
       "    </tr>\n",
       "    <tr>\n",
       "      <th>69330</th>\n",
       "      <td>2022</td>\n",
       "      <td>12</td>\n",
       "      <td>ZEQUINHA MARINHO</td>\n",
       "      <td>Passagens aï¿½reas, aquï¿½ticas e terrestres n...</td>\n",
       "      <td>22.052.777/0001-32</td>\n",
       "      <td>Exceller Tour</td>\n",
       "      <td>THPKVQ</td>\n",
       "      <td>20/12/2022</td>\n",
       "      <td>Companhia Aï¿½rea: TAM, Localizador: THPKVQ. P...</td>\n",
       "      <td>2671,9</td>\n",
       "      <td>2192274</td>\n",
       "    </tr>\n",
       "    <tr>\n",
       "      <th>69331</th>\n",
       "      <td>2022</td>\n",
       "      <td>12</td>\n",
       "      <td>ZEQUINHA MARINHO</td>\n",
       "      <td>Passagens aï¿½reas, aquï¿½ticas e terrestres n...</td>\n",
       "      <td>22.052.777/0001-32</td>\n",
       "      <td>Exceller Tour</td>\n",
       "      <td>QNN9HX</td>\n",
       "      <td>21/12/2022</td>\n",
       "      <td>Companhia Aï¿½rea: AZUL, Localizador: QNN9HX. ...</td>\n",
       "      <td>1334,31</td>\n",
       "      <td>2192244</td>\n",
       "    </tr>\n",
       "    <tr>\n",
       "      <th>69332</th>\n",
       "      <td>2022</td>\n",
       "      <td>12</td>\n",
       "      <td>ZEQUINHA MARINHO</td>\n",
       "      <td>Passagens aï¿½reas, aquï¿½ticas e terrestres n...</td>\n",
       "      <td>22.052.777/0001-32</td>\n",
       "      <td>Exceller Tour</td>\n",
       "      <td>WMQWBX</td>\n",
       "      <td>30/12/2022</td>\n",
       "      <td>Companhia Aï¿½rea: TAM, Localizador: WMQWBX. P...</td>\n",
       "      <td>2250,72</td>\n",
       "      <td>2193622</td>\n",
       "    </tr>\n",
       "  </tbody>\n",
       "</table>\n",
       "<p>69333 rows × 11 columns</p>\n",
       "</div>"
      ],
      "text/plain": [
       "        ANO  MES           SENADOR  \\\n",
       "0      2019    1      ACIR GURGACZ   \n",
       "1      2019    1      ACIR GURGACZ   \n",
       "2      2019    1      ACIR GURGACZ   \n",
       "3      2019    1      ACIR GURGACZ   \n",
       "4      2019    2      ACIR GURGACZ   \n",
       "...     ...  ...               ...   \n",
       "69328  2022   12  ZEQUINHA MARINHO   \n",
       "69329  2022   12  ZEQUINHA MARINHO   \n",
       "69330  2022   12  ZEQUINHA MARINHO   \n",
       "69331  2022   12  ZEQUINHA MARINHO   \n",
       "69332  2022   12  ZEQUINHA MARINHO   \n",
       "\n",
       "                                            TIPO_DESPESA            CNPJ_CPF  \\\n",
       "0      Aluguel de imï¿½veis para escritï¿½rio polï¿½t...  05.914.650/0001-66   \n",
       "1      Aluguel de imï¿½veis para escritï¿½rio polï¿½t...  05.914.650/0001-66   \n",
       "2      Aluguel de imï¿½veis para escritï¿½rio polï¿½t...      004.948.028-63   \n",
       "3      Aluguel de imï¿½veis para escritï¿½rio polï¿½t...  05.423.963/0001-11   \n",
       "4      Aluguel de imï¿½veis para escritï¿½rio polï¿½t...  05.914.650/0001-66   \n",
       "...                                                  ...                 ...   \n",
       "69328  Passagens aï¿½reas, aquï¿½ticas e terrestres n...  22.052.777/0001-32   \n",
       "69329  Passagens aï¿½reas, aquï¿½ticas e terrestres n...  22.052.777/0001-32   \n",
       "69330  Passagens aï¿½reas, aquï¿½ticas e terrestres n...  22.052.777/0001-32   \n",
       "69331  Passagens aï¿½reas, aquï¿½ticas e terrestres n...  22.052.777/0001-32   \n",
       "69332  Passagens aï¿½reas, aquï¿½ticas e terrestres n...  22.052.777/0001-32   \n",
       "\n",
       "                          FORNECEDOR  DOCUMENTO        DATA  \\\n",
       "0                           ENERGISA  006582758  04/01/2019   \n",
       "1                           ENERGISA  006582755  04/01/2019   \n",
       "2      GILBERTO PISELO DO NASCIMENTO      00119  07/01/2019   \n",
       "3                    OI Mï¿½VEL S.A.   86161151  25/12/2018   \n",
       "4                           ENERGISA  007236036  04/02/2019   \n",
       "...                              ...        ...         ...   \n",
       "69328                  Exceller Tour     WIXHAI  06/12/2022   \n",
       "69329                  Exceller Tour     WITOLM  09/12/2022   \n",
       "69330                  Exceller Tour     THPKVQ  20/12/2022   \n",
       "69331                  Exceller Tour     QNN9HX  21/12/2022   \n",
       "69332                  Exceller Tour     WMQWBX  30/12/2022   \n",
       "\n",
       "                                            DETALHAMENTO VALOR_REEMBOLSADO  \\\n",
       "0      Despesa com pagamento de energia elï¿½trica do...             66,02   \n",
       "1      Despesa com pagamento de energia elï¿½trica do...            139,98   \n",
       "2      Despesa com pagamento de aluguel de imï¿½vel p...              6000   \n",
       "3      Despesa com pagamento de telefonia para o escr...            316,39   \n",
       "4      Despesa com pagamento de energia elï¿½trica pa...             99,45   \n",
       "...                                                  ...               ...   \n",
       "69328  Companhia Aï¿½rea: LATAM, Localizador: WIXHAI....           2893,04   \n",
       "69329  Companhia Aï¿½rea: GOL, Localizador: WITOLM. P...           1180,19   \n",
       "69330  Companhia Aï¿½rea: TAM, Localizador: THPKVQ. P...            2671,9   \n",
       "69331  Companhia Aï¿½rea: AZUL, Localizador: QNN9HX. ...           1334,31   \n",
       "69332  Companhia Aï¿½rea: TAM, Localizador: WMQWBX. P...           2250,72   \n",
       "\n",
       "       COD_DOCUMENTO  \n",
       "0            2116543  \n",
       "1            2116546  \n",
       "2            2113817  \n",
       "3            2116541  \n",
       "4            2116550  \n",
       "...              ...  \n",
       "69328        2191398  \n",
       "69329        2192272  \n",
       "69330        2192274  \n",
       "69331        2192244  \n",
       "69332        2193622  \n",
       "\n",
       "[69333 rows x 11 columns]"
      ]
     },
     "execution_count": 80,
     "metadata": {},
     "output_type": "execute_result"
    }
   ],
   "source": [
    "combined_df"
   ]
  },
  {
   "cell_type": "code",
   "execution_count": 81,
   "metadata": {},
   "outputs": [
    {
     "data": {
      "text/html": [
       "<div>\n",
       "<style scoped>\n",
       "    .dataframe tbody tr th:only-of-type {\n",
       "        vertical-align: middle;\n",
       "    }\n",
       "\n",
       "    .dataframe tbody tr th {\n",
       "        vertical-align: top;\n",
       "    }\n",
       "\n",
       "    .dataframe thead th {\n",
       "        text-align: right;\n",
       "    }\n",
       "</style>\n",
       "<table border=\"1\" class=\"dataframe\">\n",
       "  <thead>\n",
       "    <tr style=\"text-align: right;\">\n",
       "      <th></th>\n",
       "      <th>ANO</th>\n",
       "      <th>MES</th>\n",
       "      <th>SENADOR</th>\n",
       "      <th>TIPO_DESPESA</th>\n",
       "      <th>CNPJ_CPF</th>\n",
       "      <th>FORNECEDOR</th>\n",
       "      <th>DOCUMENTO</th>\n",
       "      <th>DATA</th>\n",
       "      <th>DETALHAMENTO</th>\n",
       "      <th>VALOR_REEMBOLSADO</th>\n",
       "      <th>COD_DOCUMENTO</th>\n",
       "    </tr>\n",
       "  </thead>\n",
       "  <tbody>\n",
       "    <tr>\n",
       "      <th>0</th>\n",
       "      <td>2019</td>\n",
       "      <td>1</td>\n",
       "      <td>ACIR GURGACZ</td>\n",
       "      <td>Aluguel de imï¿½veis para escritï¿½rio polï¿½t...</td>\n",
       "      <td>05.914.650/0001-66</td>\n",
       "      <td>ENERGISA</td>\n",
       "      <td>006582758</td>\n",
       "      <td>04/01/2019</td>\n",
       "      <td>Despesa com pagamento de energia elï¿½trica do...</td>\n",
       "      <td>66,02</td>\n",
       "      <td>2116543</td>\n",
       "    </tr>\n",
       "    <tr>\n",
       "      <th>1</th>\n",
       "      <td>2019</td>\n",
       "      <td>1</td>\n",
       "      <td>ACIR GURGACZ</td>\n",
       "      <td>Aluguel de imï¿½veis para escritï¿½rio polï¿½t...</td>\n",
       "      <td>05.914.650/0001-66</td>\n",
       "      <td>ENERGISA</td>\n",
       "      <td>006582755</td>\n",
       "      <td>04/01/2019</td>\n",
       "      <td>Despesa com pagamento de energia elï¿½trica do...</td>\n",
       "      <td>139,98</td>\n",
       "      <td>2116546</td>\n",
       "    </tr>\n",
       "    <tr>\n",
       "      <th>2</th>\n",
       "      <td>2019</td>\n",
       "      <td>1</td>\n",
       "      <td>ACIR GURGACZ</td>\n",
       "      <td>Aluguel de imï¿½veis para escritï¿½rio polï¿½t...</td>\n",
       "      <td>004.948.028-63</td>\n",
       "      <td>GILBERTO PISELO DO NASCIMENTO</td>\n",
       "      <td>00119</td>\n",
       "      <td>07/01/2019</td>\n",
       "      <td>Despesa com pagamento de aluguel de imï¿½vel p...</td>\n",
       "      <td>6000</td>\n",
       "      <td>2113817</td>\n",
       "    </tr>\n",
       "    <tr>\n",
       "      <th>3</th>\n",
       "      <td>2019</td>\n",
       "      <td>1</td>\n",
       "      <td>ACIR GURGACZ</td>\n",
       "      <td>Aluguel de imï¿½veis para escritï¿½rio polï¿½t...</td>\n",
       "      <td>05.423.963/0001-11</td>\n",
       "      <td>OI Mï¿½VEL S.A.</td>\n",
       "      <td>86161151</td>\n",
       "      <td>25/12/2018</td>\n",
       "      <td>Despesa com pagamento de telefonia para o escr...</td>\n",
       "      <td>316,39</td>\n",
       "      <td>2116541</td>\n",
       "    </tr>\n",
       "    <tr>\n",
       "      <th>4</th>\n",
       "      <td>2019</td>\n",
       "      <td>2</td>\n",
       "      <td>ACIR GURGACZ</td>\n",
       "      <td>Aluguel de imï¿½veis para escritï¿½rio polï¿½t...</td>\n",
       "      <td>05.914.650/0001-66</td>\n",
       "      <td>ENERGISA</td>\n",
       "      <td>007236036</td>\n",
       "      <td>04/02/2019</td>\n",
       "      <td>Despesa com pagamento de energia elï¿½trica pa...</td>\n",
       "      <td>99,45</td>\n",
       "      <td>2116550</td>\n",
       "    </tr>\n",
       "    <tr>\n",
       "      <th>...</th>\n",
       "      <td>...</td>\n",
       "      <td>...</td>\n",
       "      <td>...</td>\n",
       "      <td>...</td>\n",
       "      <td>...</td>\n",
       "      <td>...</td>\n",
       "      <td>...</td>\n",
       "      <td>...</td>\n",
       "      <td>...</td>\n",
       "      <td>...</td>\n",
       "      <td>...</td>\n",
       "    </tr>\n",
       "    <tr>\n",
       "      <th>69328</th>\n",
       "      <td>2022</td>\n",
       "      <td>12</td>\n",
       "      <td>ZEQUINHA MARINHO</td>\n",
       "      <td>Passagens aï¿½reas, aquï¿½ticas e terrestres n...</td>\n",
       "      <td>22.052.777/0001-32</td>\n",
       "      <td>Exceller Tour</td>\n",
       "      <td>WIXHAI</td>\n",
       "      <td>06/12/2022</td>\n",
       "      <td>Companhia Aï¿½rea: LATAM, Localizador: WIXHAI....</td>\n",
       "      <td>2893,04</td>\n",
       "      <td>2191398</td>\n",
       "    </tr>\n",
       "    <tr>\n",
       "      <th>69329</th>\n",
       "      <td>2022</td>\n",
       "      <td>12</td>\n",
       "      <td>ZEQUINHA MARINHO</td>\n",
       "      <td>Passagens aï¿½reas, aquï¿½ticas e terrestres n...</td>\n",
       "      <td>22.052.777/0001-32</td>\n",
       "      <td>Exceller Tour</td>\n",
       "      <td>WITOLM</td>\n",
       "      <td>09/12/2022</td>\n",
       "      <td>Companhia Aï¿½rea: GOL, Localizador: WITOLM. P...</td>\n",
       "      <td>1180,19</td>\n",
       "      <td>2192272</td>\n",
       "    </tr>\n",
       "    <tr>\n",
       "      <th>69330</th>\n",
       "      <td>2022</td>\n",
       "      <td>12</td>\n",
       "      <td>ZEQUINHA MARINHO</td>\n",
       "      <td>Passagens aï¿½reas, aquï¿½ticas e terrestres n...</td>\n",
       "      <td>22.052.777/0001-32</td>\n",
       "      <td>Exceller Tour</td>\n",
       "      <td>THPKVQ</td>\n",
       "      <td>20/12/2022</td>\n",
       "      <td>Companhia Aï¿½rea: TAM, Localizador: THPKVQ. P...</td>\n",
       "      <td>2671,9</td>\n",
       "      <td>2192274</td>\n",
       "    </tr>\n",
       "    <tr>\n",
       "      <th>69331</th>\n",
       "      <td>2022</td>\n",
       "      <td>12</td>\n",
       "      <td>ZEQUINHA MARINHO</td>\n",
       "      <td>Passagens aï¿½reas, aquï¿½ticas e terrestres n...</td>\n",
       "      <td>22.052.777/0001-32</td>\n",
       "      <td>Exceller Tour</td>\n",
       "      <td>QNN9HX</td>\n",
       "      <td>21/12/2022</td>\n",
       "      <td>Companhia Aï¿½rea: AZUL, Localizador: QNN9HX. ...</td>\n",
       "      <td>1334,31</td>\n",
       "      <td>2192244</td>\n",
       "    </tr>\n",
       "    <tr>\n",
       "      <th>69332</th>\n",
       "      <td>2022</td>\n",
       "      <td>12</td>\n",
       "      <td>ZEQUINHA MARINHO</td>\n",
       "      <td>Passagens aï¿½reas, aquï¿½ticas e terrestres n...</td>\n",
       "      <td>22.052.777/0001-32</td>\n",
       "      <td>Exceller Tour</td>\n",
       "      <td>WMQWBX</td>\n",
       "      <td>30/12/2022</td>\n",
       "      <td>Companhia Aï¿½rea: TAM, Localizador: WMQWBX. P...</td>\n",
       "      <td>2250,72</td>\n",
       "      <td>2193622</td>\n",
       "    </tr>\n",
       "  </tbody>\n",
       "</table>\n",
       "<p>69333 rows × 11 columns</p>\n",
       "</div>"
      ],
      "text/plain": [
       "        ANO  MES           SENADOR  \\\n",
       "0      2019    1      ACIR GURGACZ   \n",
       "1      2019    1      ACIR GURGACZ   \n",
       "2      2019    1      ACIR GURGACZ   \n",
       "3      2019    1      ACIR GURGACZ   \n",
       "4      2019    2      ACIR GURGACZ   \n",
       "...     ...  ...               ...   \n",
       "69328  2022   12  ZEQUINHA MARINHO   \n",
       "69329  2022   12  ZEQUINHA MARINHO   \n",
       "69330  2022   12  ZEQUINHA MARINHO   \n",
       "69331  2022   12  ZEQUINHA MARINHO   \n",
       "69332  2022   12  ZEQUINHA MARINHO   \n",
       "\n",
       "                                            TIPO_DESPESA            CNPJ_CPF  \\\n",
       "0      Aluguel de imï¿½veis para escritï¿½rio polï¿½t...  05.914.650/0001-66   \n",
       "1      Aluguel de imï¿½veis para escritï¿½rio polï¿½t...  05.914.650/0001-66   \n",
       "2      Aluguel de imï¿½veis para escritï¿½rio polï¿½t...      004.948.028-63   \n",
       "3      Aluguel de imï¿½veis para escritï¿½rio polï¿½t...  05.423.963/0001-11   \n",
       "4      Aluguel de imï¿½veis para escritï¿½rio polï¿½t...  05.914.650/0001-66   \n",
       "...                                                  ...                 ...   \n",
       "69328  Passagens aï¿½reas, aquï¿½ticas e terrestres n...  22.052.777/0001-32   \n",
       "69329  Passagens aï¿½reas, aquï¿½ticas e terrestres n...  22.052.777/0001-32   \n",
       "69330  Passagens aï¿½reas, aquï¿½ticas e terrestres n...  22.052.777/0001-32   \n",
       "69331  Passagens aï¿½reas, aquï¿½ticas e terrestres n...  22.052.777/0001-32   \n",
       "69332  Passagens aï¿½reas, aquï¿½ticas e terrestres n...  22.052.777/0001-32   \n",
       "\n",
       "                          FORNECEDOR  DOCUMENTO        DATA  \\\n",
       "0                           ENERGISA  006582758  04/01/2019   \n",
       "1                           ENERGISA  006582755  04/01/2019   \n",
       "2      GILBERTO PISELO DO NASCIMENTO      00119  07/01/2019   \n",
       "3                    OI Mï¿½VEL S.A.   86161151  25/12/2018   \n",
       "4                           ENERGISA  007236036  04/02/2019   \n",
       "...                              ...        ...         ...   \n",
       "69328                  Exceller Tour     WIXHAI  06/12/2022   \n",
       "69329                  Exceller Tour     WITOLM  09/12/2022   \n",
       "69330                  Exceller Tour     THPKVQ  20/12/2022   \n",
       "69331                  Exceller Tour     QNN9HX  21/12/2022   \n",
       "69332                  Exceller Tour     WMQWBX  30/12/2022   \n",
       "\n",
       "                                            DETALHAMENTO VALOR_REEMBOLSADO  \\\n",
       "0      Despesa com pagamento de energia elï¿½trica do...             66,02   \n",
       "1      Despesa com pagamento de energia elï¿½trica do...            139,98   \n",
       "2      Despesa com pagamento de aluguel de imï¿½vel p...              6000   \n",
       "3      Despesa com pagamento de telefonia para o escr...            316,39   \n",
       "4      Despesa com pagamento de energia elï¿½trica pa...             99,45   \n",
       "...                                                  ...               ...   \n",
       "69328  Companhia Aï¿½rea: LATAM, Localizador: WIXHAI....           2893,04   \n",
       "69329  Companhia Aï¿½rea: GOL, Localizador: WITOLM. P...           1180,19   \n",
       "69330  Companhia Aï¿½rea: TAM, Localizador: THPKVQ. P...            2671,9   \n",
       "69331  Companhia Aï¿½rea: AZUL, Localizador: QNN9HX. ...           1334,31   \n",
       "69332  Companhia Aï¿½rea: TAM, Localizador: WMQWBX. P...           2250,72   \n",
       "\n",
       "       COD_DOCUMENTO  \n",
       "0            2116543  \n",
       "1            2116546  \n",
       "2            2113817  \n",
       "3            2116541  \n",
       "4            2116550  \n",
       "...              ...  \n",
       "69328        2191398  \n",
       "69329        2192272  \n",
       "69330        2192274  \n",
       "69331        2192244  \n",
       "69332        2193622  \n",
       "\n",
       "[69333 rows x 11 columns]"
      ]
     },
     "execution_count": 81,
     "metadata": {},
     "output_type": "execute_result"
    }
   ],
   "source": [
    "combined_df.drop_duplicates()"
   ]
  },
  {
   "cell_type": "code",
   "execution_count": 82,
   "metadata": {},
   "outputs": [
    {
     "data": {
      "text/html": [
       "<div>\n",
       "<style scoped>\n",
       "    .dataframe tbody tr th:only-of-type {\n",
       "        vertical-align: middle;\n",
       "    }\n",
       "\n",
       "    .dataframe tbody tr th {\n",
       "        vertical-align: top;\n",
       "    }\n",
       "\n",
       "    .dataframe thead th {\n",
       "        text-align: right;\n",
       "    }\n",
       "</style>\n",
       "<table border=\"1\" class=\"dataframe\">\n",
       "  <thead>\n",
       "    <tr style=\"text-align: right;\">\n",
       "      <th></th>\n",
       "      <th>ANO</th>\n",
       "      <th>MES</th>\n",
       "      <th>SENADOR</th>\n",
       "      <th>TIPO_DESPESA</th>\n",
       "      <th>CNPJ_CPF</th>\n",
       "      <th>FORNECEDOR</th>\n",
       "      <th>DOCUMENTO</th>\n",
       "      <th>DATA</th>\n",
       "      <th>DETALHAMENTO</th>\n",
       "      <th>VALOR_REEMBOLSADO</th>\n",
       "      <th>COD_DOCUMENTO</th>\n",
       "    </tr>\n",
       "  </thead>\n",
       "  <tbody>\n",
       "    <tr>\n",
       "      <th>0</th>\n",
       "      <td>2019</td>\n",
       "      <td>1</td>\n",
       "      <td>ACIR GURGACZ</td>\n",
       "      <td>Aluguel de imï¿½veis para escritï¿½rio polï¿½t...</td>\n",
       "      <td>05.914.650/0001-66</td>\n",
       "      <td>ENERGISA</td>\n",
       "      <td>006582758</td>\n",
       "      <td>04/01/2019</td>\n",
       "      <td>Despesa com pagamento de energia elï¿½trica do...</td>\n",
       "      <td>66,02</td>\n",
       "      <td>2116543</td>\n",
       "    </tr>\n",
       "    <tr>\n",
       "      <th>1</th>\n",
       "      <td>2019</td>\n",
       "      <td>1</td>\n",
       "      <td>ACIR GURGACZ</td>\n",
       "      <td>Aluguel de imï¿½veis para escritï¿½rio polï¿½t...</td>\n",
       "      <td>05.914.650/0001-66</td>\n",
       "      <td>ENERGISA</td>\n",
       "      <td>006582755</td>\n",
       "      <td>04/01/2019</td>\n",
       "      <td>Despesa com pagamento de energia elï¿½trica do...</td>\n",
       "      <td>139,98</td>\n",
       "      <td>2116546</td>\n",
       "    </tr>\n",
       "    <tr>\n",
       "      <th>2</th>\n",
       "      <td>2019</td>\n",
       "      <td>1</td>\n",
       "      <td>ACIR GURGACZ</td>\n",
       "      <td>Aluguel de imï¿½veis para escritï¿½rio polï¿½t...</td>\n",
       "      <td>004.948.028-63</td>\n",
       "      <td>GILBERTO PISELO DO NASCIMENTO</td>\n",
       "      <td>00119</td>\n",
       "      <td>07/01/2019</td>\n",
       "      <td>Despesa com pagamento de aluguel de imï¿½vel p...</td>\n",
       "      <td>6000</td>\n",
       "      <td>2113817</td>\n",
       "    </tr>\n",
       "    <tr>\n",
       "      <th>3</th>\n",
       "      <td>2019</td>\n",
       "      <td>1</td>\n",
       "      <td>ACIR GURGACZ</td>\n",
       "      <td>Aluguel de imï¿½veis para escritï¿½rio polï¿½t...</td>\n",
       "      <td>05.423.963/0001-11</td>\n",
       "      <td>OI Mï¿½VEL S.A.</td>\n",
       "      <td>86161151</td>\n",
       "      <td>25/12/2018</td>\n",
       "      <td>Despesa com pagamento de telefonia para o escr...</td>\n",
       "      <td>316,39</td>\n",
       "      <td>2116541</td>\n",
       "    </tr>\n",
       "    <tr>\n",
       "      <th>4</th>\n",
       "      <td>2019</td>\n",
       "      <td>2</td>\n",
       "      <td>ACIR GURGACZ</td>\n",
       "      <td>Aluguel de imï¿½veis para escritï¿½rio polï¿½t...</td>\n",
       "      <td>05.914.650/0001-66</td>\n",
       "      <td>ENERGISA</td>\n",
       "      <td>007236036</td>\n",
       "      <td>04/02/2019</td>\n",
       "      <td>Despesa com pagamento de energia elï¿½trica pa...</td>\n",
       "      <td>99,45</td>\n",
       "      <td>2116550</td>\n",
       "    </tr>\n",
       "    <tr>\n",
       "      <th>...</th>\n",
       "      <td>...</td>\n",
       "      <td>...</td>\n",
       "      <td>...</td>\n",
       "      <td>...</td>\n",
       "      <td>...</td>\n",
       "      <td>...</td>\n",
       "      <td>...</td>\n",
       "      <td>...</td>\n",
       "      <td>...</td>\n",
       "      <td>...</td>\n",
       "      <td>...</td>\n",
       "    </tr>\n",
       "    <tr>\n",
       "      <th>69328</th>\n",
       "      <td>2022</td>\n",
       "      <td>12</td>\n",
       "      <td>ZEQUINHA MARINHO</td>\n",
       "      <td>Passagens aï¿½reas, aquï¿½ticas e terrestres n...</td>\n",
       "      <td>22.052.777/0001-32</td>\n",
       "      <td>Exceller Tour</td>\n",
       "      <td>WIXHAI</td>\n",
       "      <td>06/12/2022</td>\n",
       "      <td>Companhia Aï¿½rea: LATAM, Localizador: WIXHAI....</td>\n",
       "      <td>2893,04</td>\n",
       "      <td>2191398</td>\n",
       "    </tr>\n",
       "    <tr>\n",
       "      <th>69329</th>\n",
       "      <td>2022</td>\n",
       "      <td>12</td>\n",
       "      <td>ZEQUINHA MARINHO</td>\n",
       "      <td>Passagens aï¿½reas, aquï¿½ticas e terrestres n...</td>\n",
       "      <td>22.052.777/0001-32</td>\n",
       "      <td>Exceller Tour</td>\n",
       "      <td>WITOLM</td>\n",
       "      <td>09/12/2022</td>\n",
       "      <td>Companhia Aï¿½rea: GOL, Localizador: WITOLM. P...</td>\n",
       "      <td>1180,19</td>\n",
       "      <td>2192272</td>\n",
       "    </tr>\n",
       "    <tr>\n",
       "      <th>69330</th>\n",
       "      <td>2022</td>\n",
       "      <td>12</td>\n",
       "      <td>ZEQUINHA MARINHO</td>\n",
       "      <td>Passagens aï¿½reas, aquï¿½ticas e terrestres n...</td>\n",
       "      <td>22.052.777/0001-32</td>\n",
       "      <td>Exceller Tour</td>\n",
       "      <td>THPKVQ</td>\n",
       "      <td>20/12/2022</td>\n",
       "      <td>Companhia Aï¿½rea: TAM, Localizador: THPKVQ. P...</td>\n",
       "      <td>2671,9</td>\n",
       "      <td>2192274</td>\n",
       "    </tr>\n",
       "    <tr>\n",
       "      <th>69331</th>\n",
       "      <td>2022</td>\n",
       "      <td>12</td>\n",
       "      <td>ZEQUINHA MARINHO</td>\n",
       "      <td>Passagens aï¿½reas, aquï¿½ticas e terrestres n...</td>\n",
       "      <td>22.052.777/0001-32</td>\n",
       "      <td>Exceller Tour</td>\n",
       "      <td>QNN9HX</td>\n",
       "      <td>21/12/2022</td>\n",
       "      <td>Companhia Aï¿½rea: AZUL, Localizador: QNN9HX. ...</td>\n",
       "      <td>1334,31</td>\n",
       "      <td>2192244</td>\n",
       "    </tr>\n",
       "    <tr>\n",
       "      <th>69332</th>\n",
       "      <td>2022</td>\n",
       "      <td>12</td>\n",
       "      <td>ZEQUINHA MARINHO</td>\n",
       "      <td>Passagens aï¿½reas, aquï¿½ticas e terrestres n...</td>\n",
       "      <td>22.052.777/0001-32</td>\n",
       "      <td>Exceller Tour</td>\n",
       "      <td>WMQWBX</td>\n",
       "      <td>30/12/2022</td>\n",
       "      <td>Companhia Aï¿½rea: TAM, Localizador: WMQWBX. P...</td>\n",
       "      <td>2250,72</td>\n",
       "      <td>2193622</td>\n",
       "    </tr>\n",
       "  </tbody>\n",
       "</table>\n",
       "<p>36752 rows × 11 columns</p>\n",
       "</div>"
      ],
      "text/plain": [
       "        ANO  MES           SENADOR  \\\n",
       "0      2019    1      ACIR GURGACZ   \n",
       "1      2019    1      ACIR GURGACZ   \n",
       "2      2019    1      ACIR GURGACZ   \n",
       "3      2019    1      ACIR GURGACZ   \n",
       "4      2019    2      ACIR GURGACZ   \n",
       "...     ...  ...               ...   \n",
       "69328  2022   12  ZEQUINHA MARINHO   \n",
       "69329  2022   12  ZEQUINHA MARINHO   \n",
       "69330  2022   12  ZEQUINHA MARINHO   \n",
       "69331  2022   12  ZEQUINHA MARINHO   \n",
       "69332  2022   12  ZEQUINHA MARINHO   \n",
       "\n",
       "                                            TIPO_DESPESA            CNPJ_CPF  \\\n",
       "0      Aluguel de imï¿½veis para escritï¿½rio polï¿½t...  05.914.650/0001-66   \n",
       "1      Aluguel de imï¿½veis para escritï¿½rio polï¿½t...  05.914.650/0001-66   \n",
       "2      Aluguel de imï¿½veis para escritï¿½rio polï¿½t...      004.948.028-63   \n",
       "3      Aluguel de imï¿½veis para escritï¿½rio polï¿½t...  05.423.963/0001-11   \n",
       "4      Aluguel de imï¿½veis para escritï¿½rio polï¿½t...  05.914.650/0001-66   \n",
       "...                                                  ...                 ...   \n",
       "69328  Passagens aï¿½reas, aquï¿½ticas e terrestres n...  22.052.777/0001-32   \n",
       "69329  Passagens aï¿½reas, aquï¿½ticas e terrestres n...  22.052.777/0001-32   \n",
       "69330  Passagens aï¿½reas, aquï¿½ticas e terrestres n...  22.052.777/0001-32   \n",
       "69331  Passagens aï¿½reas, aquï¿½ticas e terrestres n...  22.052.777/0001-32   \n",
       "69332  Passagens aï¿½reas, aquï¿½ticas e terrestres n...  22.052.777/0001-32   \n",
       "\n",
       "                          FORNECEDOR  DOCUMENTO        DATA  \\\n",
       "0                           ENERGISA  006582758  04/01/2019   \n",
       "1                           ENERGISA  006582755  04/01/2019   \n",
       "2      GILBERTO PISELO DO NASCIMENTO      00119  07/01/2019   \n",
       "3                    OI Mï¿½VEL S.A.   86161151  25/12/2018   \n",
       "4                           ENERGISA  007236036  04/02/2019   \n",
       "...                              ...        ...         ...   \n",
       "69328                  Exceller Tour     WIXHAI  06/12/2022   \n",
       "69329                  Exceller Tour     WITOLM  09/12/2022   \n",
       "69330                  Exceller Tour     THPKVQ  20/12/2022   \n",
       "69331                  Exceller Tour     QNN9HX  21/12/2022   \n",
       "69332                  Exceller Tour     WMQWBX  30/12/2022   \n",
       "\n",
       "                                            DETALHAMENTO VALOR_REEMBOLSADO  \\\n",
       "0      Despesa com pagamento de energia elï¿½trica do...             66,02   \n",
       "1      Despesa com pagamento de energia elï¿½trica do...            139,98   \n",
       "2      Despesa com pagamento de aluguel de imï¿½vel p...              6000   \n",
       "3      Despesa com pagamento de telefonia para o escr...            316,39   \n",
       "4      Despesa com pagamento de energia elï¿½trica pa...             99,45   \n",
       "...                                                  ...               ...   \n",
       "69328  Companhia Aï¿½rea: LATAM, Localizador: WIXHAI....           2893,04   \n",
       "69329  Companhia Aï¿½rea: GOL, Localizador: WITOLM. P...           1180,19   \n",
       "69330  Companhia Aï¿½rea: TAM, Localizador: THPKVQ. P...            2671,9   \n",
       "69331  Companhia Aï¿½rea: AZUL, Localizador: QNN9HX. ...           1334,31   \n",
       "69332  Companhia Aï¿½rea: TAM, Localizador: WMQWBX. P...           2250,72   \n",
       "\n",
       "       COD_DOCUMENTO  \n",
       "0            2116543  \n",
       "1            2116546  \n",
       "2            2113817  \n",
       "3            2116541  \n",
       "4            2116550  \n",
       "...              ...  \n",
       "69328        2191398  \n",
       "69329        2192272  \n",
       "69330        2192274  \n",
       "69331        2192244  \n",
       "69332        2193622  \n",
       "\n",
       "[36752 rows x 11 columns]"
      ]
     },
     "execution_count": 82,
     "metadata": {},
     "output_type": "execute_result"
    }
   ],
   "source": [
    "combined_df.dropna()"
   ]
  },
  {
   "cell_type": "code",
   "execution_count": 83,
   "metadata": {},
   "outputs": [],
   "source": [
    "# Substituir vírgulas por pontos na coluna 'VALOR_REEMBOLSADO'\n",
    "combined_df['VALOR_REEMBOLSADO'] = combined_df['VALOR_REEMBOLSADO'].str.replace(',', '.')\n",
    "\n",
    "# Convertendo a coluna 'VALOR_REEMBOLSADO' para tipo numérico (float)\n",
    "combined_df['VALOR_REEMBOLSADO'] = combined_df['VALOR_REEMBOLSADO'].astype(float)\n",
    "\n"
   ]
  },
  {
   "cell_type": "code",
   "execution_count": 84,
   "metadata": {},
   "outputs": [
    {
     "data": {
      "text/html": [
       "<div>\n",
       "<style scoped>\n",
       "    .dataframe tbody tr th:only-of-type {\n",
       "        vertical-align: middle;\n",
       "    }\n",
       "\n",
       "    .dataframe tbody tr th {\n",
       "        vertical-align: top;\n",
       "    }\n",
       "\n",
       "    .dataframe thead th {\n",
       "        text-align: right;\n",
       "    }\n",
       "</style>\n",
       "<table border=\"1\" class=\"dataframe\">\n",
       "  <thead>\n",
       "    <tr style=\"text-align: right;\">\n",
       "      <th></th>\n",
       "      <th>ANO</th>\n",
       "      <th>MES</th>\n",
       "      <th>SENADOR</th>\n",
       "      <th>TIPO_DESPESA</th>\n",
       "      <th>CNPJ_CPF</th>\n",
       "      <th>FORNECEDOR</th>\n",
       "      <th>DOCUMENTO</th>\n",
       "      <th>DATA</th>\n",
       "      <th>DETALHAMENTO</th>\n",
       "      <th>VALOR_REEMBOLSADO</th>\n",
       "      <th>COD_DOCUMENTO</th>\n",
       "    </tr>\n",
       "  </thead>\n",
       "  <tbody>\n",
       "    <tr>\n",
       "      <th>0</th>\n",
       "      <td>2019</td>\n",
       "      <td>1</td>\n",
       "      <td>ACIR GURGACZ</td>\n",
       "      <td>Aluguel de imï¿½veis para escritï¿½rio polï¿½t...</td>\n",
       "      <td>05.914.650/0001-66</td>\n",
       "      <td>ENERGISA</td>\n",
       "      <td>006582758</td>\n",
       "      <td>04/01/2019</td>\n",
       "      <td>Despesa com pagamento de energia elï¿½trica do...</td>\n",
       "      <td>66.02</td>\n",
       "      <td>2116543</td>\n",
       "    </tr>\n",
       "    <tr>\n",
       "      <th>1</th>\n",
       "      <td>2019</td>\n",
       "      <td>1</td>\n",
       "      <td>ACIR GURGACZ</td>\n",
       "      <td>Aluguel de imï¿½veis para escritï¿½rio polï¿½t...</td>\n",
       "      <td>05.914.650/0001-66</td>\n",
       "      <td>ENERGISA</td>\n",
       "      <td>006582755</td>\n",
       "      <td>04/01/2019</td>\n",
       "      <td>Despesa com pagamento de energia elï¿½trica do...</td>\n",
       "      <td>139.98</td>\n",
       "      <td>2116546</td>\n",
       "    </tr>\n",
       "    <tr>\n",
       "      <th>2</th>\n",
       "      <td>2019</td>\n",
       "      <td>1</td>\n",
       "      <td>ACIR GURGACZ</td>\n",
       "      <td>Aluguel de imï¿½veis para escritï¿½rio polï¿½t...</td>\n",
       "      <td>004.948.028-63</td>\n",
       "      <td>GILBERTO PISELO DO NASCIMENTO</td>\n",
       "      <td>00119</td>\n",
       "      <td>07/01/2019</td>\n",
       "      <td>Despesa com pagamento de aluguel de imï¿½vel p...</td>\n",
       "      <td>6000.00</td>\n",
       "      <td>2113817</td>\n",
       "    </tr>\n",
       "    <tr>\n",
       "      <th>3</th>\n",
       "      <td>2019</td>\n",
       "      <td>1</td>\n",
       "      <td>ACIR GURGACZ</td>\n",
       "      <td>Aluguel de imï¿½veis para escritï¿½rio polï¿½t...</td>\n",
       "      <td>05.423.963/0001-11</td>\n",
       "      <td>OI Mï¿½VEL S.A.</td>\n",
       "      <td>86161151</td>\n",
       "      <td>25/12/2018</td>\n",
       "      <td>Despesa com pagamento de telefonia para o escr...</td>\n",
       "      <td>316.39</td>\n",
       "      <td>2116541</td>\n",
       "    </tr>\n",
       "    <tr>\n",
       "      <th>4</th>\n",
       "      <td>2019</td>\n",
       "      <td>2</td>\n",
       "      <td>ACIR GURGACZ</td>\n",
       "      <td>Aluguel de imï¿½veis para escritï¿½rio polï¿½t...</td>\n",
       "      <td>05.914.650/0001-66</td>\n",
       "      <td>ENERGISA</td>\n",
       "      <td>007236036</td>\n",
       "      <td>04/02/2019</td>\n",
       "      <td>Despesa com pagamento de energia elï¿½trica pa...</td>\n",
       "      <td>99.45</td>\n",
       "      <td>2116550</td>\n",
       "    </tr>\n",
       "    <tr>\n",
       "      <th>...</th>\n",
       "      <td>...</td>\n",
       "      <td>...</td>\n",
       "      <td>...</td>\n",
       "      <td>...</td>\n",
       "      <td>...</td>\n",
       "      <td>...</td>\n",
       "      <td>...</td>\n",
       "      <td>...</td>\n",
       "      <td>...</td>\n",
       "      <td>...</td>\n",
       "      <td>...</td>\n",
       "    </tr>\n",
       "    <tr>\n",
       "      <th>69328</th>\n",
       "      <td>2022</td>\n",
       "      <td>12</td>\n",
       "      <td>ZEQUINHA MARINHO</td>\n",
       "      <td>Passagens aï¿½reas, aquï¿½ticas e terrestres n...</td>\n",
       "      <td>22.052.777/0001-32</td>\n",
       "      <td>Exceller Tour</td>\n",
       "      <td>WIXHAI</td>\n",
       "      <td>06/12/2022</td>\n",
       "      <td>Companhia Aï¿½rea: LATAM, Localizador: WIXHAI....</td>\n",
       "      <td>2893.04</td>\n",
       "      <td>2191398</td>\n",
       "    </tr>\n",
       "    <tr>\n",
       "      <th>69329</th>\n",
       "      <td>2022</td>\n",
       "      <td>12</td>\n",
       "      <td>ZEQUINHA MARINHO</td>\n",
       "      <td>Passagens aï¿½reas, aquï¿½ticas e terrestres n...</td>\n",
       "      <td>22.052.777/0001-32</td>\n",
       "      <td>Exceller Tour</td>\n",
       "      <td>WITOLM</td>\n",
       "      <td>09/12/2022</td>\n",
       "      <td>Companhia Aï¿½rea: GOL, Localizador: WITOLM. P...</td>\n",
       "      <td>1180.19</td>\n",
       "      <td>2192272</td>\n",
       "    </tr>\n",
       "    <tr>\n",
       "      <th>69330</th>\n",
       "      <td>2022</td>\n",
       "      <td>12</td>\n",
       "      <td>ZEQUINHA MARINHO</td>\n",
       "      <td>Passagens aï¿½reas, aquï¿½ticas e terrestres n...</td>\n",
       "      <td>22.052.777/0001-32</td>\n",
       "      <td>Exceller Tour</td>\n",
       "      <td>THPKVQ</td>\n",
       "      <td>20/12/2022</td>\n",
       "      <td>Companhia Aï¿½rea: TAM, Localizador: THPKVQ. P...</td>\n",
       "      <td>2671.90</td>\n",
       "      <td>2192274</td>\n",
       "    </tr>\n",
       "    <tr>\n",
       "      <th>69331</th>\n",
       "      <td>2022</td>\n",
       "      <td>12</td>\n",
       "      <td>ZEQUINHA MARINHO</td>\n",
       "      <td>Passagens aï¿½reas, aquï¿½ticas e terrestres n...</td>\n",
       "      <td>22.052.777/0001-32</td>\n",
       "      <td>Exceller Tour</td>\n",
       "      <td>QNN9HX</td>\n",
       "      <td>21/12/2022</td>\n",
       "      <td>Companhia Aï¿½rea: AZUL, Localizador: QNN9HX. ...</td>\n",
       "      <td>1334.31</td>\n",
       "      <td>2192244</td>\n",
       "    </tr>\n",
       "    <tr>\n",
       "      <th>69332</th>\n",
       "      <td>2022</td>\n",
       "      <td>12</td>\n",
       "      <td>ZEQUINHA MARINHO</td>\n",
       "      <td>Passagens aï¿½reas, aquï¿½ticas e terrestres n...</td>\n",
       "      <td>22.052.777/0001-32</td>\n",
       "      <td>Exceller Tour</td>\n",
       "      <td>WMQWBX</td>\n",
       "      <td>30/12/2022</td>\n",
       "      <td>Companhia Aï¿½rea: TAM, Localizador: WMQWBX. P...</td>\n",
       "      <td>2250.72</td>\n",
       "      <td>2193622</td>\n",
       "    </tr>\n",
       "  </tbody>\n",
       "</table>\n",
       "<p>69333 rows × 11 columns</p>\n",
       "</div>"
      ],
      "text/plain": [
       "        ANO  MES           SENADOR  \\\n",
       "0      2019    1      ACIR GURGACZ   \n",
       "1      2019    1      ACIR GURGACZ   \n",
       "2      2019    1      ACIR GURGACZ   \n",
       "3      2019    1      ACIR GURGACZ   \n",
       "4      2019    2      ACIR GURGACZ   \n",
       "...     ...  ...               ...   \n",
       "69328  2022   12  ZEQUINHA MARINHO   \n",
       "69329  2022   12  ZEQUINHA MARINHO   \n",
       "69330  2022   12  ZEQUINHA MARINHO   \n",
       "69331  2022   12  ZEQUINHA MARINHO   \n",
       "69332  2022   12  ZEQUINHA MARINHO   \n",
       "\n",
       "                                            TIPO_DESPESA            CNPJ_CPF  \\\n",
       "0      Aluguel de imï¿½veis para escritï¿½rio polï¿½t...  05.914.650/0001-66   \n",
       "1      Aluguel de imï¿½veis para escritï¿½rio polï¿½t...  05.914.650/0001-66   \n",
       "2      Aluguel de imï¿½veis para escritï¿½rio polï¿½t...      004.948.028-63   \n",
       "3      Aluguel de imï¿½veis para escritï¿½rio polï¿½t...  05.423.963/0001-11   \n",
       "4      Aluguel de imï¿½veis para escritï¿½rio polï¿½t...  05.914.650/0001-66   \n",
       "...                                                  ...                 ...   \n",
       "69328  Passagens aï¿½reas, aquï¿½ticas e terrestres n...  22.052.777/0001-32   \n",
       "69329  Passagens aï¿½reas, aquï¿½ticas e terrestres n...  22.052.777/0001-32   \n",
       "69330  Passagens aï¿½reas, aquï¿½ticas e terrestres n...  22.052.777/0001-32   \n",
       "69331  Passagens aï¿½reas, aquï¿½ticas e terrestres n...  22.052.777/0001-32   \n",
       "69332  Passagens aï¿½reas, aquï¿½ticas e terrestres n...  22.052.777/0001-32   \n",
       "\n",
       "                          FORNECEDOR  DOCUMENTO        DATA  \\\n",
       "0                           ENERGISA  006582758  04/01/2019   \n",
       "1                           ENERGISA  006582755  04/01/2019   \n",
       "2      GILBERTO PISELO DO NASCIMENTO      00119  07/01/2019   \n",
       "3                    OI Mï¿½VEL S.A.   86161151  25/12/2018   \n",
       "4                           ENERGISA  007236036  04/02/2019   \n",
       "...                              ...        ...         ...   \n",
       "69328                  Exceller Tour     WIXHAI  06/12/2022   \n",
       "69329                  Exceller Tour     WITOLM  09/12/2022   \n",
       "69330                  Exceller Tour     THPKVQ  20/12/2022   \n",
       "69331                  Exceller Tour     QNN9HX  21/12/2022   \n",
       "69332                  Exceller Tour     WMQWBX  30/12/2022   \n",
       "\n",
       "                                            DETALHAMENTO  VALOR_REEMBOLSADO  \\\n",
       "0      Despesa com pagamento de energia elï¿½trica do...              66.02   \n",
       "1      Despesa com pagamento de energia elï¿½trica do...             139.98   \n",
       "2      Despesa com pagamento de aluguel de imï¿½vel p...            6000.00   \n",
       "3      Despesa com pagamento de telefonia para o escr...             316.39   \n",
       "4      Despesa com pagamento de energia elï¿½trica pa...              99.45   \n",
       "...                                                  ...                ...   \n",
       "69328  Companhia Aï¿½rea: LATAM, Localizador: WIXHAI....            2893.04   \n",
       "69329  Companhia Aï¿½rea: GOL, Localizador: WITOLM. P...            1180.19   \n",
       "69330  Companhia Aï¿½rea: TAM, Localizador: THPKVQ. P...            2671.90   \n",
       "69331  Companhia Aï¿½rea: AZUL, Localizador: QNN9HX. ...            1334.31   \n",
       "69332  Companhia Aï¿½rea: TAM, Localizador: WMQWBX. P...            2250.72   \n",
       "\n",
       "       COD_DOCUMENTO  \n",
       "0            2116543  \n",
       "1            2116546  \n",
       "2            2113817  \n",
       "3            2116541  \n",
       "4            2116550  \n",
       "...              ...  \n",
       "69328        2191398  \n",
       "69329        2192272  \n",
       "69330        2192274  \n",
       "69331        2192244  \n",
       "69332        2193622  \n",
       "\n",
       "[69333 rows x 11 columns]"
      ]
     },
     "execution_count": 84,
     "metadata": {},
     "output_type": "execute_result"
    }
   ],
   "source": [
    "combined_df"
   ]
  },
  {
   "cell_type": "markdown",
   "metadata": {},
   "source": [
    "# Day 2: Data Visualization & Storytelling"
   ]
  },
  {
   "cell_type": "code",
   "execution_count": 85,
   "metadata": {},
   "outputs": [
    {
     "data": {
      "text/plain": [
       "Index(['ANO', 'MES', 'SENADOR', 'TIPO_DESPESA', 'CNPJ_CPF', 'FORNECEDOR',\n",
       "       'DOCUMENTO', 'DATA', 'DETALHAMENTO', 'VALOR_REEMBOLSADO',\n",
       "       'COD_DOCUMENTO'],\n",
       "      dtype='object')"
      ]
     },
     "execution_count": 85,
     "metadata": {},
     "output_type": "execute_result"
    }
   ],
   "source": [
    "combined_df.columns"
   ]
  },
  {
   "cell_type": "code",
   "execution_count": 86,
   "metadata": {},
   "outputs": [
    {
     "data": {
      "text/html": [
       "<div>\n",
       "<style scoped>\n",
       "    .dataframe tbody tr th:only-of-type {\n",
       "        vertical-align: middle;\n",
       "    }\n",
       "\n",
       "    .dataframe tbody tr th {\n",
       "        vertical-align: top;\n",
       "    }\n",
       "\n",
       "    .dataframe thead th {\n",
       "        text-align: right;\n",
       "    }\n",
       "</style>\n",
       "<table border=\"1\" class=\"dataframe\">\n",
       "  <thead>\n",
       "    <tr style=\"text-align: right;\">\n",
       "      <th></th>\n",
       "      <th>ANO</th>\n",
       "      <th>MES</th>\n",
       "      <th>VALOR_REEMBOLSADO</th>\n",
       "      <th>COD_DOCUMENTO</th>\n",
       "    </tr>\n",
       "  </thead>\n",
       "  <tbody>\n",
       "    <tr>\n",
       "      <th>count</th>\n",
       "      <td>69333.000000</td>\n",
       "      <td>69333.000000</td>\n",
       "      <td>69333.000000</td>\n",
       "      <td>6.933300e+04</td>\n",
       "    </tr>\n",
       "    <tr>\n",
       "      <th>mean</th>\n",
       "      <td>2020.414766</td>\n",
       "      <td>6.584945</td>\n",
       "      <td>1413.131098</td>\n",
       "      <td>2.153664e+06</td>\n",
       "    </tr>\n",
       "    <tr>\n",
       "      <th>std</th>\n",
       "      <td>1.162288</td>\n",
       "      <td>3.369021</td>\n",
       "      <td>3098.174309</td>\n",
       "      <td>2.257438e+04</td>\n",
       "    </tr>\n",
       "    <tr>\n",
       "      <th>min</th>\n",
       "      <td>2019.000000</td>\n",
       "      <td>1.000000</td>\n",
       "      <td>0.010000</td>\n",
       "      <td>2.112846e+06</td>\n",
       "    </tr>\n",
       "    <tr>\n",
       "      <th>25%</th>\n",
       "      <td>2019.000000</td>\n",
       "      <td>4.000000</td>\n",
       "      <td>158.140000</td>\n",
       "      <td>2.134374e+06</td>\n",
       "    </tr>\n",
       "    <tr>\n",
       "      <th>50%</th>\n",
       "      <td>2020.000000</td>\n",
       "      <td>7.000000</td>\n",
       "      <td>426.040000</td>\n",
       "      <td>2.153693e+06</td>\n",
       "    </tr>\n",
       "    <tr>\n",
       "      <th>75%</th>\n",
       "      <td>2021.000000</td>\n",
       "      <td>10.000000</td>\n",
       "      <td>1570.560000</td>\n",
       "      <td>2.172904e+06</td>\n",
       "    </tr>\n",
       "    <tr>\n",
       "      <th>max</th>\n",
       "      <td>2022.000000</td>\n",
       "      <td>12.000000</td>\n",
       "      <td>120000.000000</td>\n",
       "      <td>2.198297e+06</td>\n",
       "    </tr>\n",
       "  </tbody>\n",
       "</table>\n",
       "</div>"
      ],
      "text/plain": [
       "                ANO           MES  VALOR_REEMBOLSADO  COD_DOCUMENTO\n",
       "count  69333.000000  69333.000000       69333.000000   6.933300e+04\n",
       "mean    2020.414766      6.584945        1413.131098   2.153664e+06\n",
       "std        1.162288      3.369021        3098.174309   2.257438e+04\n",
       "min     2019.000000      1.000000           0.010000   2.112846e+06\n",
       "25%     2019.000000      4.000000         158.140000   2.134374e+06\n",
       "50%     2020.000000      7.000000         426.040000   2.153693e+06\n",
       "75%     2021.000000     10.000000        1570.560000   2.172904e+06\n",
       "max     2022.000000     12.000000      120000.000000   2.198297e+06"
      ]
     },
     "execution_count": 86,
     "metadata": {},
     "output_type": "execute_result"
    }
   ],
   "source": [
    "combined_df.describe()"
   ]
  },
  {
   "cell_type": "code",
   "execution_count": 87,
   "metadata": {},
   "outputs": [
    {
     "name": "stdout",
     "output_type": "stream",
     "text": [
      "Requirement already satisfied: plotly in c:\\users\\camil\\appdata\\local\\programs\\python\\python310\\lib\\site-packages (5.18.0)Note: you may need to restart the kernel to use updated packages.\n",
      "\n",
      "Requirement already satisfied: tenacity>=6.2.0 in c:\\users\\camil\\appdata\\local\\programs\\python\\python310\\lib\\site-packages (from plotly) (8.2.3)\n",
      "Requirement already satisfied: packaging in c:\\users\\camil\\appdata\\roaming\\python\\python310\\site-packages (from plotly) (23.1)\n"
     ]
    },
    {
     "name": "stderr",
     "output_type": "stream",
     "text": [
      "WARNING: You are using pip version 21.2.3; however, version 24.0 is available.\n",
      "You should consider upgrading via the 'c:\\Users\\camil\\AppData\\Local\\Programs\\Python\\Python310\\python.exe -m pip install --upgrade pip' command.\n"
     ]
    }
   ],
   "source": [
    "pip install plotly"
   ]
  },
  {
   "cell_type": "code",
   "execution_count": 88,
   "metadata": {},
   "outputs": [],
   "source": [
    "import plotly.offline as py\n",
    "import plotly.graph_objs as go"
   ]
  },
  {
   "cell_type": "markdown",
   "metadata": {},
   "source": [
    "### Qual foi o senador que mais declarou despesas?"
   ]
  },
  {
   "cell_type": "code",
   "execution_count": 89,
   "metadata": {},
   "outputs": [
    {
     "name": "stdout",
     "output_type": "stream",
     "text": [
      "O senador que mais declarou despesas é: TELMï¿½RIO MOTA\n"
     ]
    }
   ],
   "source": [
    "total_por_senador = combined_df.groupby('SENADOR')['VALOR_REEMBOLSADO'].sum()\n",
    "\n",
    "# Ordenar os resultados em ordem decrescente\n",
    "total_por_senador = total_por_senador.sort_values(ascending=False)\n",
    "\n",
    "# Obter o senador que mais declarou despesas\n",
    "senador_mais_despesas = total_por_senador.idxmax()\n",
    "\n",
    "print(\"O senador que mais declarou despesas é:\", senador_mais_despesas)\n"
   ]
  },
  {
   "cell_type": "code",
   "execution_count": 90,
   "metadata": {},
   "outputs": [
    {
     "data": {
      "application/vnd.plotly.v1+json": {
       "config": {
        "plotlyServerURL": "https://plot.ly"
       },
       "data": [
        {
         "type": "bar",
         "x": [
          "TELMï¿½RIO MOTA",
          "ROGï¿½RIO CARVALHO",
          "MECIAS DE JESUS",
          "PAULO ROCHA",
          "MAILZA GOMES",
          "ROBERTO ROCHA",
          "ZEQUINHA MARINHO",
          "ELIZIANE GAMA",
          "EDUARDO BRAGA",
          "WELLINGTON FAGUNDES",
          "DAVI ALCOLUMBRE",
          "JEAN PAUL PRATES",
          "MARCIO BITTAR",
          "CHICO RODRIGUES",
          "JAQUES WAGNER",
          "OMAR AZIZ",
          "LUCAS BARRETO",
          "ANGELO CORONEL",
          "Sï¿½RGIO PETECï¿½O",
          "ELMANO Fï¿½RRER",
          "MARCOS ROGï¿½RIO",
          "ALESSANDRO VIEIRA",
          "NELSINHO TRAD",
          "ACIR GURGACZ",
          "HUMBERTO COSTA",
          "FERNANDO BEZERRA COELHO",
          "FERNANDO COLLOR",
          "WEVERTON ROCHA",
          "MARCELO CASTRO",
          "RANDOLFE RODRIGUES",
          "ZENAIDE MAIA",
          "VENEZIANO VITAL DO Rï¿½GO",
          "LUIS CARLOS HEINZE",
          "CARLOS VIANA",
          "PLï¿½NIO VALï¿½RIO",
          "JARBAS VASCONCELOS",
          "JADER BARBALHO",
          "RODRIGO CUNHA",
          "JORGINHO MELLO",
          "DANIELLA RIBEIRO",
          "ESPERIDIï¿½O AMIN",
          "IRAJï¿½",
          "CIRO NOGUEIRA",
          "ROMï¿½RIO",
          "PAULO PAIM",
          "MARA GABRILLI",
          "RENAN CALHEIROS",
          "Dï¿½RIO BERGER",
          "CID GOMES",
          "EDUARDO GOMES",
          "LUIZ CARLOS DO CARMO",
          "RODRIGO PACHECO",
          "CARLOS Fï¿½VARO",
          "IZALCI LUCAS",
          "MARIA DO CARMO ALVES",
          "LASIER MARTINS",
          "JOSï¿½ SERRA",
          "SORAYA THRONICKE",
          "ANTONIO ANASTASIA",
          "MARCOS DO VAL",
          "JAYME CAMPOS",
          "CARLOS PORTINHO",
          "SIMONE TEBET",
          "CONFï¿½CIO MOURA",
          "Kï¿½TIA ABREU",
          "ROSE DE FREITAS",
          "FLï¿½VIO ARNS",
          "TASSO JEREISSATI",
          "OTTO ALENCAR",
          "FLï¿½VIO BOLSONARO",
          "FABIANO CONTARATO",
          "STYVENSON VALENTIM",
          "MAJOR OLIMPIO",
          "JOSï¿½ MARANHï¿½O",
          "NILDA GONDIM",
          "ELIANE NOGUEIRA",
          "AROLDE DE OLIVEIRA",
          "JUï¿½ZA SELMA",
          "GIORDANO",
          "VANDERLAN CARDOSO",
          "ALEXANDRE SILVEIRA",
          "ALVARO DIAS",
          "ORIOVISTO GUIMARï¿½ES",
          "JOSï¿½ ANï¿½BAL",
          "EDUARDO VELLOSO",
          "PAULO ALBUQUERQUE",
          "MARGARETH BUZETTI",
          "EDUARDO GIRï¿½O",
          "DRA. EUDï¿½CIA",
          "RENILDE BULHï¿½ES",
          "JULIO VENTURA",
          "MARIA DAS VITï¿½RIAS",
          "CHIQUINHO FEITOSA",
          "ROBERTH BRINGEL",
          "IVETE DA SILVEIRA",
          "RAFAEL TENï¿½RIO",
          "DIEGO TAVARES",
          "FABIO GARCIA",
          "MARIA ELIZA DE AGUIAR E SILVA",
          "LUIZ PASTORE",
          "PRISCO BEZERRA",
          "NEY SUASSUNA",
          "FERNANDO DUEIRE",
          "GUARACY SILVEIRA",
          "JOï¿½O CAPIBERIBE",
          "ANTï¿½NIO CARLOS VALADARES",
          "OGARI PACHECO",
          "ï¿½NGELA PORTELA",
          "Zï¿½ SANTANA",
          "EDISON LOBï¿½O",
          "ARMANDO MONTEIRO",
          "JOSï¿½ MEDEIROS",
          "IVO CASSOL",
          "VALDIR RAUPP",
          "FLEXA RIBEIRO",
          "VANESSA GRAZZIOTIN",
          "JORGE VIANA",
          "GLEISI HOFFMANN",
          "JOSï¿½ AGRIPINO",
          "VICENTINHO ALVES",
          "ATAï¿½DES OLIVEIRA",
          "Lï¿½CIA Vï¿½NIA",
          "RICARDO FERRAï¿½O",
          "WILDER MORAIS",
          "Hï¿½LIO JOSï¿½",
          "Aï¿½CIO NEVES",
          "Lï¿½DICE DA MATA",
          "LINDBERGH FARIAS",
          "ALOYSIO NUNES FERREIRA",
          "PAULO BAUER",
          "ROBERTO REQUIï¿½O",
          "ROMERO JUCï¿½",
          "ANA AMï¿½LIA",
          "DALIRIO BEBER",
          "RAIMUNDO LIRA",
          "MARTA SUPLICY",
          "EDUARDO AMORIM",
          "Cï¿½SSIO CUNHA LIMA",
          "JOï¿½O ALBERTO SOUZA",
          "WALTER PINHEIRO",
          "PEDRO CHAVES DOS SANTOS FILHO",
          "GARIBALDI ALVES FILHO",
          "LEILA BARROS",
          "BLAIRO MAGGI",
          "BENEDITO DE LIRA",
          "ZEZï¿½ PERRELLA",
          "SAMUEL ARAUJO",
          "WALDEMIR MOKA",
          "SIQUEIRA CAMPOS",
          "VIRGINIO DE CARVALHO",
          "MAGNO MALTA",
          "JOSï¿½ PIMENTEL",
          "NAILDE PANTA"
         ],
         "y": [
          1951401.21,
          1928300.49,
          1913241.64,
          1885315.28,
          1793120.58,
          1727057.62,
          1698140.72,
          1697709.01,
          1683525.68,
          1671934.35,
          1660472.68,
          1651654.38,
          1644885.07,
          1640967.75,
          1640880.43,
          1628325.53,
          1596777.49,
          1584308.03,
          1574648.24,
          1566917.21,
          1556065.51,
          1552531.31,
          1546415.06,
          1503143.33,
          1502329.79,
          1477856.19,
          1475529.26,
          1466484.84,
          1452035.67,
          1426900.15,
          1372918.98,
          1366926.1,
          1346962.08,
          1306418.45,
          1298402.08,
          1265313.1,
          1258146.97,
          1228559.78,
          1227729.68,
          1224185.15,
          1215137.57,
          1184770.52,
          1141032.32,
          1106681.73,
          1078519.85,
          1069633.69,
          1045615.42,
          1042374.23,
          1023049.99,
          986152,
          949707.97,
          935853.77,
          931513.65,
          918382.95,
          889657.99,
          888641.61,
          885001.33,
          858733.1,
          857489.51,
          848604.91,
          835382.63,
          824604.37,
          795978.14,
          794187.05,
          789778.3,
          757864.99,
          733724.09,
          713858.46,
          690473.67,
          652969.6,
          562350.97,
          554292.71,
          516835.08,
          496884.6,
          467401.35,
          446282.26,
          429084.01,
          393556.47000000003,
          368673.47000000003,
          344251.23,
          243079.18,
          219253.43,
          213045.51,
          167344.5,
          155344.72,
          143591.24,
          141726.55,
          140284.37,
          137039.53,
          134978.27,
          129336.67,
          128518.22,
          123347.22,
          122079.31,
          120394.89,
          119423.79,
          106364.41,
          101915.43000000001,
          63084.59,
          60406.189999999995,
          51998.36,
          50123.91,
          50109.17,
          44501.020000000004,
          42855.2,
          41844.45,
          39771.86,
          39411.85,
          38678.43,
          37396.6,
          34974.54,
          34934.45,
          34016.2,
          33526.85,
          33263.42,
          31853.02,
          28663.81,
          28134.75,
          26222.93,
          25215.2,
          24621.579999999998,
          21045.2,
          20897.1,
          20887.38,
          20850,
          19739.01,
          19053.78,
          18886.420000000002,
          18450.05,
          18428.66,
          18037.04,
          16909.27,
          16596.829999999998,
          14635.33,
          14090.7,
          13323.43,
          12810.46,
          12032.51,
          11595.28,
          11505.99,
          10948.09,
          10668.93,
          10567.64,
          8543.95,
          8508.78,
          7961.09,
          7710.9,
          7096.87,
          5926.99,
          5720.5599999999995,
          4725.79,
          4713.74,
          1650.62
         ]
        }
       ],
       "layout": {
        "template": {
         "data": {
          "bar": [
           {
            "error_x": {
             "color": "#2a3f5f"
            },
            "error_y": {
             "color": "#2a3f5f"
            },
            "marker": {
             "line": {
              "color": "#E5ECF6",
              "width": 0.5
             },
             "pattern": {
              "fillmode": "overlay",
              "size": 10,
              "solidity": 0.2
             }
            },
            "type": "bar"
           }
          ],
          "barpolar": [
           {
            "marker": {
             "line": {
              "color": "#E5ECF6",
              "width": 0.5
             },
             "pattern": {
              "fillmode": "overlay",
              "size": 10,
              "solidity": 0.2
             }
            },
            "type": "barpolar"
           }
          ],
          "carpet": [
           {
            "aaxis": {
             "endlinecolor": "#2a3f5f",
             "gridcolor": "white",
             "linecolor": "white",
             "minorgridcolor": "white",
             "startlinecolor": "#2a3f5f"
            },
            "baxis": {
             "endlinecolor": "#2a3f5f",
             "gridcolor": "white",
             "linecolor": "white",
             "minorgridcolor": "white",
             "startlinecolor": "#2a3f5f"
            },
            "type": "carpet"
           }
          ],
          "choropleth": [
           {
            "colorbar": {
             "outlinewidth": 0,
             "ticks": ""
            },
            "type": "choropleth"
           }
          ],
          "contour": [
           {
            "colorbar": {
             "outlinewidth": 0,
             "ticks": ""
            },
            "colorscale": [
             [
              0,
              "#0d0887"
             ],
             [
              0.1111111111111111,
              "#46039f"
             ],
             [
              0.2222222222222222,
              "#7201a8"
             ],
             [
              0.3333333333333333,
              "#9c179e"
             ],
             [
              0.4444444444444444,
              "#bd3786"
             ],
             [
              0.5555555555555556,
              "#d8576b"
             ],
             [
              0.6666666666666666,
              "#ed7953"
             ],
             [
              0.7777777777777778,
              "#fb9f3a"
             ],
             [
              0.8888888888888888,
              "#fdca26"
             ],
             [
              1,
              "#f0f921"
             ]
            ],
            "type": "contour"
           }
          ],
          "contourcarpet": [
           {
            "colorbar": {
             "outlinewidth": 0,
             "ticks": ""
            },
            "type": "contourcarpet"
           }
          ],
          "heatmap": [
           {
            "colorbar": {
             "outlinewidth": 0,
             "ticks": ""
            },
            "colorscale": [
             [
              0,
              "#0d0887"
             ],
             [
              0.1111111111111111,
              "#46039f"
             ],
             [
              0.2222222222222222,
              "#7201a8"
             ],
             [
              0.3333333333333333,
              "#9c179e"
             ],
             [
              0.4444444444444444,
              "#bd3786"
             ],
             [
              0.5555555555555556,
              "#d8576b"
             ],
             [
              0.6666666666666666,
              "#ed7953"
             ],
             [
              0.7777777777777778,
              "#fb9f3a"
             ],
             [
              0.8888888888888888,
              "#fdca26"
             ],
             [
              1,
              "#f0f921"
             ]
            ],
            "type": "heatmap"
           }
          ],
          "heatmapgl": [
           {
            "colorbar": {
             "outlinewidth": 0,
             "ticks": ""
            },
            "colorscale": [
             [
              0,
              "#0d0887"
             ],
             [
              0.1111111111111111,
              "#46039f"
             ],
             [
              0.2222222222222222,
              "#7201a8"
             ],
             [
              0.3333333333333333,
              "#9c179e"
             ],
             [
              0.4444444444444444,
              "#bd3786"
             ],
             [
              0.5555555555555556,
              "#d8576b"
             ],
             [
              0.6666666666666666,
              "#ed7953"
             ],
             [
              0.7777777777777778,
              "#fb9f3a"
             ],
             [
              0.8888888888888888,
              "#fdca26"
             ],
             [
              1,
              "#f0f921"
             ]
            ],
            "type": "heatmapgl"
           }
          ],
          "histogram": [
           {
            "marker": {
             "pattern": {
              "fillmode": "overlay",
              "size": 10,
              "solidity": 0.2
             }
            },
            "type": "histogram"
           }
          ],
          "histogram2d": [
           {
            "colorbar": {
             "outlinewidth": 0,
             "ticks": ""
            },
            "colorscale": [
             [
              0,
              "#0d0887"
             ],
             [
              0.1111111111111111,
              "#46039f"
             ],
             [
              0.2222222222222222,
              "#7201a8"
             ],
             [
              0.3333333333333333,
              "#9c179e"
             ],
             [
              0.4444444444444444,
              "#bd3786"
             ],
             [
              0.5555555555555556,
              "#d8576b"
             ],
             [
              0.6666666666666666,
              "#ed7953"
             ],
             [
              0.7777777777777778,
              "#fb9f3a"
             ],
             [
              0.8888888888888888,
              "#fdca26"
             ],
             [
              1,
              "#f0f921"
             ]
            ],
            "type": "histogram2d"
           }
          ],
          "histogram2dcontour": [
           {
            "colorbar": {
             "outlinewidth": 0,
             "ticks": ""
            },
            "colorscale": [
             [
              0,
              "#0d0887"
             ],
             [
              0.1111111111111111,
              "#46039f"
             ],
             [
              0.2222222222222222,
              "#7201a8"
             ],
             [
              0.3333333333333333,
              "#9c179e"
             ],
             [
              0.4444444444444444,
              "#bd3786"
             ],
             [
              0.5555555555555556,
              "#d8576b"
             ],
             [
              0.6666666666666666,
              "#ed7953"
             ],
             [
              0.7777777777777778,
              "#fb9f3a"
             ],
             [
              0.8888888888888888,
              "#fdca26"
             ],
             [
              1,
              "#f0f921"
             ]
            ],
            "type": "histogram2dcontour"
           }
          ],
          "mesh3d": [
           {
            "colorbar": {
             "outlinewidth": 0,
             "ticks": ""
            },
            "type": "mesh3d"
           }
          ],
          "parcoords": [
           {
            "line": {
             "colorbar": {
              "outlinewidth": 0,
              "ticks": ""
             }
            },
            "type": "parcoords"
           }
          ],
          "pie": [
           {
            "automargin": true,
            "type": "pie"
           }
          ],
          "scatter": [
           {
            "fillpattern": {
             "fillmode": "overlay",
             "size": 10,
             "solidity": 0.2
            },
            "type": "scatter"
           }
          ],
          "scatter3d": [
           {
            "line": {
             "colorbar": {
              "outlinewidth": 0,
              "ticks": ""
             }
            },
            "marker": {
             "colorbar": {
              "outlinewidth": 0,
              "ticks": ""
             }
            },
            "type": "scatter3d"
           }
          ],
          "scattercarpet": [
           {
            "marker": {
             "colorbar": {
              "outlinewidth": 0,
              "ticks": ""
             }
            },
            "type": "scattercarpet"
           }
          ],
          "scattergeo": [
           {
            "marker": {
             "colorbar": {
              "outlinewidth": 0,
              "ticks": ""
             }
            },
            "type": "scattergeo"
           }
          ],
          "scattergl": [
           {
            "marker": {
             "colorbar": {
              "outlinewidth": 0,
              "ticks": ""
             }
            },
            "type": "scattergl"
           }
          ],
          "scattermapbox": [
           {
            "marker": {
             "colorbar": {
              "outlinewidth": 0,
              "ticks": ""
             }
            },
            "type": "scattermapbox"
           }
          ],
          "scatterpolar": [
           {
            "marker": {
             "colorbar": {
              "outlinewidth": 0,
              "ticks": ""
             }
            },
            "type": "scatterpolar"
           }
          ],
          "scatterpolargl": [
           {
            "marker": {
             "colorbar": {
              "outlinewidth": 0,
              "ticks": ""
             }
            },
            "type": "scatterpolargl"
           }
          ],
          "scatterternary": [
           {
            "marker": {
             "colorbar": {
              "outlinewidth": 0,
              "ticks": ""
             }
            },
            "type": "scatterternary"
           }
          ],
          "surface": [
           {
            "colorbar": {
             "outlinewidth": 0,
             "ticks": ""
            },
            "colorscale": [
             [
              0,
              "#0d0887"
             ],
             [
              0.1111111111111111,
              "#46039f"
             ],
             [
              0.2222222222222222,
              "#7201a8"
             ],
             [
              0.3333333333333333,
              "#9c179e"
             ],
             [
              0.4444444444444444,
              "#bd3786"
             ],
             [
              0.5555555555555556,
              "#d8576b"
             ],
             [
              0.6666666666666666,
              "#ed7953"
             ],
             [
              0.7777777777777778,
              "#fb9f3a"
             ],
             [
              0.8888888888888888,
              "#fdca26"
             ],
             [
              1,
              "#f0f921"
             ]
            ],
            "type": "surface"
           }
          ],
          "table": [
           {
            "cells": {
             "fill": {
              "color": "#EBF0F8"
             },
             "line": {
              "color": "white"
             }
            },
            "header": {
             "fill": {
              "color": "#C8D4E3"
             },
             "line": {
              "color": "white"
             }
            },
            "type": "table"
           }
          ]
         },
         "layout": {
          "annotationdefaults": {
           "arrowcolor": "#2a3f5f",
           "arrowhead": 0,
           "arrowwidth": 1
          },
          "autotypenumbers": "strict",
          "coloraxis": {
           "colorbar": {
            "outlinewidth": 0,
            "ticks": ""
           }
          },
          "colorscale": {
           "diverging": [
            [
             0,
             "#8e0152"
            ],
            [
             0.1,
             "#c51b7d"
            ],
            [
             0.2,
             "#de77ae"
            ],
            [
             0.3,
             "#f1b6da"
            ],
            [
             0.4,
             "#fde0ef"
            ],
            [
             0.5,
             "#f7f7f7"
            ],
            [
             0.6,
             "#e6f5d0"
            ],
            [
             0.7,
             "#b8e186"
            ],
            [
             0.8,
             "#7fbc41"
            ],
            [
             0.9,
             "#4d9221"
            ],
            [
             1,
             "#276419"
            ]
           ],
           "sequential": [
            [
             0,
             "#0d0887"
            ],
            [
             0.1111111111111111,
             "#46039f"
            ],
            [
             0.2222222222222222,
             "#7201a8"
            ],
            [
             0.3333333333333333,
             "#9c179e"
            ],
            [
             0.4444444444444444,
             "#bd3786"
            ],
            [
             0.5555555555555556,
             "#d8576b"
            ],
            [
             0.6666666666666666,
             "#ed7953"
            ],
            [
             0.7777777777777778,
             "#fb9f3a"
            ],
            [
             0.8888888888888888,
             "#fdca26"
            ],
            [
             1,
             "#f0f921"
            ]
           ],
           "sequentialminus": [
            [
             0,
             "#0d0887"
            ],
            [
             0.1111111111111111,
             "#46039f"
            ],
            [
             0.2222222222222222,
             "#7201a8"
            ],
            [
             0.3333333333333333,
             "#9c179e"
            ],
            [
             0.4444444444444444,
             "#bd3786"
            ],
            [
             0.5555555555555556,
             "#d8576b"
            ],
            [
             0.6666666666666666,
             "#ed7953"
            ],
            [
             0.7777777777777778,
             "#fb9f3a"
            ],
            [
             0.8888888888888888,
             "#fdca26"
            ],
            [
             1,
             "#f0f921"
            ]
           ]
          },
          "colorway": [
           "#636efa",
           "#EF553B",
           "#00cc96",
           "#ab63fa",
           "#FFA15A",
           "#19d3f3",
           "#FF6692",
           "#B6E880",
           "#FF97FF",
           "#FECB52"
          ],
          "font": {
           "color": "#2a3f5f"
          },
          "geo": {
           "bgcolor": "white",
           "lakecolor": "white",
           "landcolor": "#E5ECF6",
           "showlakes": true,
           "showland": true,
           "subunitcolor": "white"
          },
          "hoverlabel": {
           "align": "left"
          },
          "hovermode": "closest",
          "mapbox": {
           "style": "light"
          },
          "paper_bgcolor": "white",
          "plot_bgcolor": "#E5ECF6",
          "polar": {
           "angularaxis": {
            "gridcolor": "white",
            "linecolor": "white",
            "ticks": ""
           },
           "bgcolor": "#E5ECF6",
           "radialaxis": {
            "gridcolor": "white",
            "linecolor": "white",
            "ticks": ""
           }
          },
          "scene": {
           "xaxis": {
            "backgroundcolor": "#E5ECF6",
            "gridcolor": "white",
            "gridwidth": 2,
            "linecolor": "white",
            "showbackground": true,
            "ticks": "",
            "zerolinecolor": "white"
           },
           "yaxis": {
            "backgroundcolor": "#E5ECF6",
            "gridcolor": "white",
            "gridwidth": 2,
            "linecolor": "white",
            "showbackground": true,
            "ticks": "",
            "zerolinecolor": "white"
           },
           "zaxis": {
            "backgroundcolor": "#E5ECF6",
            "gridcolor": "white",
            "gridwidth": 2,
            "linecolor": "white",
            "showbackground": true,
            "ticks": "",
            "zerolinecolor": "white"
           }
          },
          "shapedefaults": {
           "line": {
            "color": "#2a3f5f"
           }
          },
          "ternary": {
           "aaxis": {
            "gridcolor": "white",
            "linecolor": "white",
            "ticks": ""
           },
           "baxis": {
            "gridcolor": "white",
            "linecolor": "white",
            "ticks": ""
           },
           "bgcolor": "#E5ECF6",
           "caxis": {
            "gridcolor": "white",
            "linecolor": "white",
            "ticks": ""
           }
          },
          "title": {
           "x": 0.05
          },
          "xaxis": {
           "automargin": true,
           "gridcolor": "white",
           "linecolor": "white",
           "ticks": "",
           "title": {
            "standoff": 15
           },
           "zerolinecolor": "white",
           "zerolinewidth": 2
          },
          "yaxis": {
           "automargin": true,
           "gridcolor": "white",
           "linecolor": "white",
           "ticks": "",
           "title": {
            "standoff": 15
           },
           "zerolinecolor": "white",
           "zerolinewidth": 2
          }
         }
        },
        "title": {
         "text": "Despesas Reembolsadas por Senador"
        },
        "xaxis": {
         "title": {
          "text": "Senador"
         }
        },
        "yaxis": {
         "title": {
          "text": "Valor Reembolsado (R$)"
         }
        }
       }
      }
     },
     "metadata": {},
     "output_type": "display_data"
    }
   ],
   "source": [
    "trace = go.Bar(\n",
    "    x=total_por_senador.index,  # Senadores no eixo x\n",
    "    y=total_por_senador.values,  # Valores reembolsados no eixo y\n",
    ")\n",
    "\n",
    "data = [trace]\n",
    "\n",
    "layout = go.Layout(\n",
    "    title='Despesas Reembolsadas por Senador',\n",
    "    xaxis=dict(title='Senador'),\n",
    "    yaxis=dict(title='Valor Reembolsado (R$)'),\n",
    ")\n",
    "\n",
    "fig = go.Figure(data=data, layout=layout)\n",
    "\n",
    "fig.show()"
   ]
  },
  {
   "cell_type": "markdown",
   "metadata": {},
   "source": [
    "### Qual foi o percentual da cota que os senadores gastaram? \n"
   ]
  },
  {
   "cell_type": "code",
   "execution_count": 91,
   "metadata": {},
   "outputs": [
    {
     "data": {
      "application/vnd.plotly.v1+json": {
       "config": {
        "plotlyServerURL": "https://plot.ly"
       },
       "data": [
        {
         "marker": {
          "color": "skyblue"
         },
         "type": "bar",
         "x": [
          "TELMï¿½RIO MOTA",
          "ROGï¿½RIO CARVALHO",
          "MECIAS DE JESUS",
          "PAULO ROCHA",
          "MAILZA GOMES",
          "ROBERTO ROCHA",
          "ZEQUINHA MARINHO",
          "ELIZIANE GAMA",
          "EDUARDO BRAGA",
          "WELLINGTON FAGUNDES",
          "DAVI ALCOLUMBRE",
          "JEAN PAUL PRATES",
          "MARCIO BITTAR",
          "CHICO RODRIGUES",
          "JAQUES WAGNER",
          "OMAR AZIZ",
          "LUCAS BARRETO",
          "ANGELO CORONEL",
          "Sï¿½RGIO PETECï¿½O",
          "ELMANO Fï¿½RRER",
          "MARCOS ROGï¿½RIO",
          "ALESSANDRO VIEIRA",
          "NELSINHO TRAD",
          "ACIR GURGACZ",
          "HUMBERTO COSTA",
          "FERNANDO BEZERRA COELHO",
          "FERNANDO COLLOR",
          "WEVERTON ROCHA",
          "MARCELO CASTRO",
          "RANDOLFE RODRIGUES",
          "ZENAIDE MAIA",
          "VENEZIANO VITAL DO Rï¿½GO",
          "LUIS CARLOS HEINZE",
          "CARLOS VIANA",
          "PLï¿½NIO VALï¿½RIO",
          "JARBAS VASCONCELOS",
          "JADER BARBALHO",
          "RODRIGO CUNHA",
          "JORGINHO MELLO",
          "DANIELLA RIBEIRO",
          "ESPERIDIï¿½O AMIN",
          "IRAJï¿½",
          "CIRO NOGUEIRA",
          "ROMï¿½RIO",
          "PAULO PAIM",
          "MARA GABRILLI",
          "RENAN CALHEIROS",
          "Dï¿½RIO BERGER",
          "CID GOMES",
          "EDUARDO GOMES",
          "LUIZ CARLOS DO CARMO",
          "RODRIGO PACHECO",
          "CARLOS Fï¿½VARO",
          "IZALCI LUCAS",
          "MARIA DO CARMO ALVES",
          "LASIER MARTINS",
          "JOSï¿½ SERRA",
          "SORAYA THRONICKE",
          "ANTONIO ANASTASIA",
          "MARCOS DO VAL",
          "JAYME CAMPOS",
          "CARLOS PORTINHO",
          "SIMONE TEBET",
          "CONFï¿½CIO MOURA",
          "Kï¿½TIA ABREU",
          "ROSE DE FREITAS",
          "FLï¿½VIO ARNS",
          "TASSO JEREISSATI",
          "OTTO ALENCAR",
          "FLï¿½VIO BOLSONARO",
          "FABIANO CONTARATO",
          "STYVENSON VALENTIM",
          "MAJOR OLIMPIO",
          "JOSï¿½ MARANHï¿½O",
          "NILDA GONDIM",
          "ELIANE NOGUEIRA",
          "AROLDE DE OLIVEIRA",
          "JUï¿½ZA SELMA",
          "GIORDANO",
          "VANDERLAN CARDOSO",
          "ALEXANDRE SILVEIRA",
          "ALVARO DIAS",
          "ORIOVISTO GUIMARï¿½ES",
          "JOSï¿½ ANï¿½BAL",
          "EDUARDO VELLOSO",
          "PAULO ALBUQUERQUE",
          "MARGARETH BUZETTI",
          "EDUARDO GIRï¿½O",
          "DRA. EUDï¿½CIA",
          "RENILDE BULHï¿½ES",
          "JULIO VENTURA",
          "MARIA DAS VITï¿½RIAS",
          "CHIQUINHO FEITOSA",
          "ROBERTH BRINGEL",
          "IVETE DA SILVEIRA",
          "RAFAEL TENï¿½RIO",
          "DIEGO TAVARES",
          "FABIO GARCIA",
          "MARIA ELIZA DE AGUIAR E SILVA",
          "LUIZ PASTORE",
          "PRISCO BEZERRA",
          "NEY SUASSUNA",
          "FERNANDO DUEIRE",
          "GUARACY SILVEIRA",
          "JOï¿½O CAPIBERIBE",
          "ANTï¿½NIO CARLOS VALADARES",
          "OGARI PACHECO",
          "ï¿½NGELA PORTELA",
          "Zï¿½ SANTANA",
          "EDISON LOBï¿½O",
          "ARMANDO MONTEIRO",
          "JOSï¿½ MEDEIROS",
          "IVO CASSOL",
          "VALDIR RAUPP",
          "FLEXA RIBEIRO",
          "VANESSA GRAZZIOTIN",
          "JORGE VIANA",
          "GLEISI HOFFMANN",
          "JOSï¿½ AGRIPINO",
          "VICENTINHO ALVES",
          "ATAï¿½DES OLIVEIRA",
          "Lï¿½CIA Vï¿½NIA",
          "RICARDO FERRAï¿½O",
          "WILDER MORAIS",
          "Hï¿½LIO JOSï¿½",
          "Aï¿½CIO NEVES",
          "Lï¿½DICE DA MATA",
          "LINDBERGH FARIAS",
          "ALOYSIO NUNES FERREIRA",
          "PAULO BAUER",
          "ROBERTO REQUIï¿½O",
          "ROMERO JUCï¿½",
          "ANA AMï¿½LIA",
          "DALIRIO BEBER",
          "RAIMUNDO LIRA",
          "MARTA SUPLICY",
          "EDUARDO AMORIM",
          "Cï¿½SSIO CUNHA LIMA",
          "JOï¿½O ALBERTO SOUZA",
          "WALTER PINHEIRO",
          "PEDRO CHAVES DOS SANTOS FILHO",
          "GARIBALDI ALVES FILHO",
          "LEILA BARROS",
          "BLAIRO MAGGI",
          "BENEDITO DE LIRA",
          "ZEZï¿½ PERRELLA",
          "SAMUEL ARAUJO",
          "WALDEMIR MOKA",
          "SIQUEIRA CAMPOS",
          "VIRGINIO DE CARVALHO",
          "MAGNO MALTA",
          "JOSï¿½ PIMENTEL",
          "NAILDE PANTA"
         ],
         "y": [
          1.991700919127986,
          1.9681231305006444,
          1.9527532899817845,
          1.924250203791785,
          1.8301515285487129,
          1.7627242575815518,
          1.7332101750785835,
          1.7327695495427429,
          1.7182933099808662,
          1.7064625995679545,
          1.6947642268515912,
          1.6857638141608837,
          1.6788547065515562,
          1.6748564873209149,
          1.6747673640164058,
          1.6619531842662765,
          1.6297536243076731,
          1.6170266490368985,
          1.607167368165804,
          1.5992766794248627,
          1.5882008736124327,
          1.584593686452606,
          1.5783511256280094,
          1.534185761800415,
          1.533355420834424,
          1.5083763999316078,
          1.5060014149228886,
          1.4967702124747877,
          1.4820226428708736,
          1.4563680322094608,
          1.401272060477126,
          1.3951554174500247,
          1.374779106940568,
          1.3333981829552923,
          1.325216261464596,
          1.2914439385095395,
          1.284129815901411,
          1.2539316007853025,
          1.2530843578275264,
          1.2494666273358677,
          1.2402321996284646,
          1.2092380190948748,
          1.1645965518791177,
          1.1295365645607802,
          1.1007930944876156,
          1.0917234203740496,
          1.067209132799705,
          1.0639010067880028,
          1.0441776888089953,
          1.006517693406525,
          0.9693210330397273,
          0.9551807205645788,
          0.9507509698045462,
          0.9373490988183159,
          0.9080309201983925,
          0.9069935502460682,
          0.903278092356256,
          0.8764673793328357,
          0.8751981071127891,
          0.8661300252158406,
          0.8526346829489535,
          0.8416338337957441,
          0.8124164241159739,
          0.8105883451023091,
          0.8060885470176264,
          0.7735161736206578,
          0.7488767235310595,
          0.7286008349401857,
          0.7047331097907199,
          0.6664545178193434,
          0.573964461066166,
          0.5657397844766849,
          0.5275085915692275,
          0.5071461006834886,
          0.47705397210277506,
          0.4554987374597942,
          0.43794531474136056,
          0.40168407143078777,
          0.3762871957310634,
          0.3513605954984212,
          0.24809917291528025,
          0.22378138120195362,
          0.21744525723804922,
          0.17080044470250852,
          0.1585528491117824,
          0.14655664002930857,
          0.14465344105215475,
          0.14318147761540562,
          0.13986962622507917,
          0.13776579774761205,
          0.13200768924190276,
          0.13117233687617358,
          0.12589454705005634,
          0.12460045258120463,
          0.12288124648201523,
          0.12189009163766355,
          0.10856101352909683,
          0.10402015462741458,
          0.06438739262942865,
          0.06165367917549859,
          0.05307221337899441,
          0.05115905284146485,
          0.05114400843573347,
          0.04542004072864795,
          0.043740231784223225,
          0.04270860810084516,
          0.040593215639868126,
          0.04022577082932849,
          0.039477204475766144,
          0.038168902535558866,
          0.035696822932726635,
          0.03565590500696198,
          0.03471869160378423,
          0.03421923570523261,
          0.03395036543373888,
          0.03251083830731156,
          0.029255765769823396,
          0.02871577979314469,
          0.026764477502414195,
          0.025735936187103212,
          0.025130056938103076,
          0.021479818690505113,
          0.021328660177016817,
          0.021318739442708203,
          0.021280587482990495,
          0.02014665367542562,
          0.019447272526218445,
          0.019276456261414936,
          0.018831074488755338,
          0.018809242749366312,
          0.018409535139290115,
          0.017258474796571065,
          0.016939582386346335,
          0.014937574120260684,
          0.014381696596957995,
          0.013598581184100721,
          0.013075017492918483,
          0.012281001520141869,
          0.01183474198703933,
          0.011743607998724884,
          0.011174186427657237,
          0.01088926130527107,
          0.010785879496822526,
          0.008720396902891926,
          0.008684500583382248,
          0.008125499865945362,
          0.007870143022666254,
          0.007243432272921378,
          0.006049392288048433,
          0.0058386991621916596,
          0.004823385492625499,
          0.0048110866399075115,
          0.001684708072478358
         ]
        }
       ],
       "layout": {
        "template": {
         "data": {
          "bar": [
           {
            "error_x": {
             "color": "#2a3f5f"
            },
            "error_y": {
             "color": "#2a3f5f"
            },
            "marker": {
             "line": {
              "color": "#E5ECF6",
              "width": 0.5
             },
             "pattern": {
              "fillmode": "overlay",
              "size": 10,
              "solidity": 0.2
             }
            },
            "type": "bar"
           }
          ],
          "barpolar": [
           {
            "marker": {
             "line": {
              "color": "#E5ECF6",
              "width": 0.5
             },
             "pattern": {
              "fillmode": "overlay",
              "size": 10,
              "solidity": 0.2
             }
            },
            "type": "barpolar"
           }
          ],
          "carpet": [
           {
            "aaxis": {
             "endlinecolor": "#2a3f5f",
             "gridcolor": "white",
             "linecolor": "white",
             "minorgridcolor": "white",
             "startlinecolor": "#2a3f5f"
            },
            "baxis": {
             "endlinecolor": "#2a3f5f",
             "gridcolor": "white",
             "linecolor": "white",
             "minorgridcolor": "white",
             "startlinecolor": "#2a3f5f"
            },
            "type": "carpet"
           }
          ],
          "choropleth": [
           {
            "colorbar": {
             "outlinewidth": 0,
             "ticks": ""
            },
            "type": "choropleth"
           }
          ],
          "contour": [
           {
            "colorbar": {
             "outlinewidth": 0,
             "ticks": ""
            },
            "colorscale": [
             [
              0,
              "#0d0887"
             ],
             [
              0.1111111111111111,
              "#46039f"
             ],
             [
              0.2222222222222222,
              "#7201a8"
             ],
             [
              0.3333333333333333,
              "#9c179e"
             ],
             [
              0.4444444444444444,
              "#bd3786"
             ],
             [
              0.5555555555555556,
              "#d8576b"
             ],
             [
              0.6666666666666666,
              "#ed7953"
             ],
             [
              0.7777777777777778,
              "#fb9f3a"
             ],
             [
              0.8888888888888888,
              "#fdca26"
             ],
             [
              1,
              "#f0f921"
             ]
            ],
            "type": "contour"
           }
          ],
          "contourcarpet": [
           {
            "colorbar": {
             "outlinewidth": 0,
             "ticks": ""
            },
            "type": "contourcarpet"
           }
          ],
          "heatmap": [
           {
            "colorbar": {
             "outlinewidth": 0,
             "ticks": ""
            },
            "colorscale": [
             [
              0,
              "#0d0887"
             ],
             [
              0.1111111111111111,
              "#46039f"
             ],
             [
              0.2222222222222222,
              "#7201a8"
             ],
             [
              0.3333333333333333,
              "#9c179e"
             ],
             [
              0.4444444444444444,
              "#bd3786"
             ],
             [
              0.5555555555555556,
              "#d8576b"
             ],
             [
              0.6666666666666666,
              "#ed7953"
             ],
             [
              0.7777777777777778,
              "#fb9f3a"
             ],
             [
              0.8888888888888888,
              "#fdca26"
             ],
             [
              1,
              "#f0f921"
             ]
            ],
            "type": "heatmap"
           }
          ],
          "heatmapgl": [
           {
            "colorbar": {
             "outlinewidth": 0,
             "ticks": ""
            },
            "colorscale": [
             [
              0,
              "#0d0887"
             ],
             [
              0.1111111111111111,
              "#46039f"
             ],
             [
              0.2222222222222222,
              "#7201a8"
             ],
             [
              0.3333333333333333,
              "#9c179e"
             ],
             [
              0.4444444444444444,
              "#bd3786"
             ],
             [
              0.5555555555555556,
              "#d8576b"
             ],
             [
              0.6666666666666666,
              "#ed7953"
             ],
             [
              0.7777777777777778,
              "#fb9f3a"
             ],
             [
              0.8888888888888888,
              "#fdca26"
             ],
             [
              1,
              "#f0f921"
             ]
            ],
            "type": "heatmapgl"
           }
          ],
          "histogram": [
           {
            "marker": {
             "pattern": {
              "fillmode": "overlay",
              "size": 10,
              "solidity": 0.2
             }
            },
            "type": "histogram"
           }
          ],
          "histogram2d": [
           {
            "colorbar": {
             "outlinewidth": 0,
             "ticks": ""
            },
            "colorscale": [
             [
              0,
              "#0d0887"
             ],
             [
              0.1111111111111111,
              "#46039f"
             ],
             [
              0.2222222222222222,
              "#7201a8"
             ],
             [
              0.3333333333333333,
              "#9c179e"
             ],
             [
              0.4444444444444444,
              "#bd3786"
             ],
             [
              0.5555555555555556,
              "#d8576b"
             ],
             [
              0.6666666666666666,
              "#ed7953"
             ],
             [
              0.7777777777777778,
              "#fb9f3a"
             ],
             [
              0.8888888888888888,
              "#fdca26"
             ],
             [
              1,
              "#f0f921"
             ]
            ],
            "type": "histogram2d"
           }
          ],
          "histogram2dcontour": [
           {
            "colorbar": {
             "outlinewidth": 0,
             "ticks": ""
            },
            "colorscale": [
             [
              0,
              "#0d0887"
             ],
             [
              0.1111111111111111,
              "#46039f"
             ],
             [
              0.2222222222222222,
              "#7201a8"
             ],
             [
              0.3333333333333333,
              "#9c179e"
             ],
             [
              0.4444444444444444,
              "#bd3786"
             ],
             [
              0.5555555555555556,
              "#d8576b"
             ],
             [
              0.6666666666666666,
              "#ed7953"
             ],
             [
              0.7777777777777778,
              "#fb9f3a"
             ],
             [
              0.8888888888888888,
              "#fdca26"
             ],
             [
              1,
              "#f0f921"
             ]
            ],
            "type": "histogram2dcontour"
           }
          ],
          "mesh3d": [
           {
            "colorbar": {
             "outlinewidth": 0,
             "ticks": ""
            },
            "type": "mesh3d"
           }
          ],
          "parcoords": [
           {
            "line": {
             "colorbar": {
              "outlinewidth": 0,
              "ticks": ""
             }
            },
            "type": "parcoords"
           }
          ],
          "pie": [
           {
            "automargin": true,
            "type": "pie"
           }
          ],
          "scatter": [
           {
            "fillpattern": {
             "fillmode": "overlay",
             "size": 10,
             "solidity": 0.2
            },
            "type": "scatter"
           }
          ],
          "scatter3d": [
           {
            "line": {
             "colorbar": {
              "outlinewidth": 0,
              "ticks": ""
             }
            },
            "marker": {
             "colorbar": {
              "outlinewidth": 0,
              "ticks": ""
             }
            },
            "type": "scatter3d"
           }
          ],
          "scattercarpet": [
           {
            "marker": {
             "colorbar": {
              "outlinewidth": 0,
              "ticks": ""
             }
            },
            "type": "scattercarpet"
           }
          ],
          "scattergeo": [
           {
            "marker": {
             "colorbar": {
              "outlinewidth": 0,
              "ticks": ""
             }
            },
            "type": "scattergeo"
           }
          ],
          "scattergl": [
           {
            "marker": {
             "colorbar": {
              "outlinewidth": 0,
              "ticks": ""
             }
            },
            "type": "scattergl"
           }
          ],
          "scattermapbox": [
           {
            "marker": {
             "colorbar": {
              "outlinewidth": 0,
              "ticks": ""
             }
            },
            "type": "scattermapbox"
           }
          ],
          "scatterpolar": [
           {
            "marker": {
             "colorbar": {
              "outlinewidth": 0,
              "ticks": ""
             }
            },
            "type": "scatterpolar"
           }
          ],
          "scatterpolargl": [
           {
            "marker": {
             "colorbar": {
              "outlinewidth": 0,
              "ticks": ""
             }
            },
            "type": "scatterpolargl"
           }
          ],
          "scatterternary": [
           {
            "marker": {
             "colorbar": {
              "outlinewidth": 0,
              "ticks": ""
             }
            },
            "type": "scatterternary"
           }
          ],
          "surface": [
           {
            "colorbar": {
             "outlinewidth": 0,
             "ticks": ""
            },
            "colorscale": [
             [
              0,
              "#0d0887"
             ],
             [
              0.1111111111111111,
              "#46039f"
             ],
             [
              0.2222222222222222,
              "#7201a8"
             ],
             [
              0.3333333333333333,
              "#9c179e"
             ],
             [
              0.4444444444444444,
              "#bd3786"
             ],
             [
              0.5555555555555556,
              "#d8576b"
             ],
             [
              0.6666666666666666,
              "#ed7953"
             ],
             [
              0.7777777777777778,
              "#fb9f3a"
             ],
             [
              0.8888888888888888,
              "#fdca26"
             ],
             [
              1,
              "#f0f921"
             ]
            ],
            "type": "surface"
           }
          ],
          "table": [
           {
            "cells": {
             "fill": {
              "color": "#EBF0F8"
             },
             "line": {
              "color": "white"
             }
            },
            "header": {
             "fill": {
              "color": "#C8D4E3"
             },
             "line": {
              "color": "white"
             }
            },
            "type": "table"
           }
          ]
         },
         "layout": {
          "annotationdefaults": {
           "arrowcolor": "#2a3f5f",
           "arrowhead": 0,
           "arrowwidth": 1
          },
          "autotypenumbers": "strict",
          "coloraxis": {
           "colorbar": {
            "outlinewidth": 0,
            "ticks": ""
           }
          },
          "colorscale": {
           "diverging": [
            [
             0,
             "#8e0152"
            ],
            [
             0.1,
             "#c51b7d"
            ],
            [
             0.2,
             "#de77ae"
            ],
            [
             0.3,
             "#f1b6da"
            ],
            [
             0.4,
             "#fde0ef"
            ],
            [
             0.5,
             "#f7f7f7"
            ],
            [
             0.6,
             "#e6f5d0"
            ],
            [
             0.7,
             "#b8e186"
            ],
            [
             0.8,
             "#7fbc41"
            ],
            [
             0.9,
             "#4d9221"
            ],
            [
             1,
             "#276419"
            ]
           ],
           "sequential": [
            [
             0,
             "#0d0887"
            ],
            [
             0.1111111111111111,
             "#46039f"
            ],
            [
             0.2222222222222222,
             "#7201a8"
            ],
            [
             0.3333333333333333,
             "#9c179e"
            ],
            [
             0.4444444444444444,
             "#bd3786"
            ],
            [
             0.5555555555555556,
             "#d8576b"
            ],
            [
             0.6666666666666666,
             "#ed7953"
            ],
            [
             0.7777777777777778,
             "#fb9f3a"
            ],
            [
             0.8888888888888888,
             "#fdca26"
            ],
            [
             1,
             "#f0f921"
            ]
           ],
           "sequentialminus": [
            [
             0,
             "#0d0887"
            ],
            [
             0.1111111111111111,
             "#46039f"
            ],
            [
             0.2222222222222222,
             "#7201a8"
            ],
            [
             0.3333333333333333,
             "#9c179e"
            ],
            [
             0.4444444444444444,
             "#bd3786"
            ],
            [
             0.5555555555555556,
             "#d8576b"
            ],
            [
             0.6666666666666666,
             "#ed7953"
            ],
            [
             0.7777777777777778,
             "#fb9f3a"
            ],
            [
             0.8888888888888888,
             "#fdca26"
            ],
            [
             1,
             "#f0f921"
            ]
           ]
          },
          "colorway": [
           "#636efa",
           "#EF553B",
           "#00cc96",
           "#ab63fa",
           "#FFA15A",
           "#19d3f3",
           "#FF6692",
           "#B6E880",
           "#FF97FF",
           "#FECB52"
          ],
          "font": {
           "color": "#2a3f5f"
          },
          "geo": {
           "bgcolor": "white",
           "lakecolor": "white",
           "landcolor": "#E5ECF6",
           "showlakes": true,
           "showland": true,
           "subunitcolor": "white"
          },
          "hoverlabel": {
           "align": "left"
          },
          "hovermode": "closest",
          "mapbox": {
           "style": "light"
          },
          "paper_bgcolor": "white",
          "plot_bgcolor": "#E5ECF6",
          "polar": {
           "angularaxis": {
            "gridcolor": "white",
            "linecolor": "white",
            "ticks": ""
           },
           "bgcolor": "#E5ECF6",
           "radialaxis": {
            "gridcolor": "white",
            "linecolor": "white",
            "ticks": ""
           }
          },
          "scene": {
           "xaxis": {
            "backgroundcolor": "#E5ECF6",
            "gridcolor": "white",
            "gridwidth": 2,
            "linecolor": "white",
            "showbackground": true,
            "ticks": "",
            "zerolinecolor": "white"
           },
           "yaxis": {
            "backgroundcolor": "#E5ECF6",
            "gridcolor": "white",
            "gridwidth": 2,
            "linecolor": "white",
            "showbackground": true,
            "ticks": "",
            "zerolinecolor": "white"
           },
           "zaxis": {
            "backgroundcolor": "#E5ECF6",
            "gridcolor": "white",
            "gridwidth": 2,
            "linecolor": "white",
            "showbackground": true,
            "ticks": "",
            "zerolinecolor": "white"
           }
          },
          "shapedefaults": {
           "line": {
            "color": "#2a3f5f"
           }
          },
          "ternary": {
           "aaxis": {
            "gridcolor": "white",
            "linecolor": "white",
            "ticks": ""
           },
           "baxis": {
            "gridcolor": "white",
            "linecolor": "white",
            "ticks": ""
           },
           "bgcolor": "#E5ECF6",
           "caxis": {
            "gridcolor": "white",
            "linecolor": "white",
            "ticks": ""
           }
          },
          "title": {
           "x": 0.05
          },
          "xaxis": {
           "automargin": true,
           "gridcolor": "white",
           "linecolor": "white",
           "ticks": "",
           "title": {
            "standoff": 15
           },
           "zerolinecolor": "white",
           "zerolinewidth": 2
          },
          "yaxis": {
           "automargin": true,
           "gridcolor": "white",
           "linecolor": "white",
           "ticks": "",
           "title": {
            "standoff": 15
           },
           "zerolinecolor": "white",
           "zerolinewidth": 2
          }
         }
        },
        "title": {
         "text": "Percentual da Cota que os Senadores Gastaram"
        },
        "xaxis": {
         "title": {
          "text": "Senador"
         }
        },
        "yaxis": {
         "title": {
          "text": "Percentual da Cota"
         }
        }
       }
      }
     },
     "metadata": {},
     "output_type": "display_data"
    }
   ],
   "source": [
    "total_cota = combined_df['VALOR_REEMBOLSADO'].sum()\n",
    "\n",
    "# Calcula o percentual da cota gasto por senador\n",
    "percentual_por_senador = (total_por_senador / total_cota) * 100\n",
    "\n",
    "trace = go.Bar(\n",
    "    x=percentual_por_senador.index,   # Senadores no eixo x\n",
    "    y=percentual_por_senador.values,  # Percentuais no eixo y\n",
    "    marker=dict(color='skyblue'),     # Cor das barras\n",
    ")\n",
    "\n",
    "data = [trace]\n",
    "\n",
    "layout = go.Layout(\n",
    "    title='Percentual da Cota que os Senadores Gastaram',\n",
    "    xaxis=dict(title='Senador'),           # Título do eixo x\n",
    "    yaxis=dict(title='Percentual da Cota'), # Título do eixo y\n",
    ")\n",
    "\n",
    "fig = go.Figure(data=data, layout=layout)\n",
    "\n",
    "fig.show()"
   ]
  },
  {
   "cell_type": "markdown",
   "metadata": {},
   "source": [
    "### Média dos Gastos dos Senadores por Ano"
   ]
  },
  {
   "cell_type": "code",
   "execution_count": 92,
   "metadata": {},
   "outputs": [
    {
     "name": "stdout",
     "output_type": "stream",
     "text": [
      "10986   NaT\n",
      "31996   NaT\n",
      "37872   NaT\n",
      "Name: DATA, dtype: datetime64[ns]\n"
     ]
    }
   ],
   "source": [
    "# Converte a coluna 'DATA' para o formato de data adequado\n",
    "combined_df['DATA'] = pd.to_datetime(combined_df['DATA'], format='%d/%m/%Y', errors='coerce')\n",
    "\n",
    "# Verifica se há valores incorretos após a correção\n",
    "print(combined_df['DATA'].loc[combined_df['DATA'].isnull()])"
   ]
  },
  {
   "cell_type": "code",
   "execution_count": 93,
   "metadata": {},
   "outputs": [
    {
     "data": {
      "application/vnd.plotly.v1+json": {
       "config": {
        "plotlyServerURL": "https://plot.ly"
       },
       "data": [
        {
         "marker": {
          "color": "blue"
         },
         "mode": "lines+markers",
         "type": "scatter",
         "x": [
          2000,
          2002,
          2009,
          2010,
          2014,
          2016,
          2018,
          2019,
          2020,
          2021,
          2022,
          2023
         ],
         "y": [
          1070.92,
          4290.51,
          1697.34,
          916.1025,
          1632.08,
          3800,
          770.1881818181818,
          1162.7823259479003,
          1407.3756188843654,
          1505.1307635672724,
          1636.5550349608557,
          4464.535333333333
         ]
        }
       ],
       "layout": {
        "template": {
         "data": {
          "bar": [
           {
            "error_x": {
             "color": "#2a3f5f"
            },
            "error_y": {
             "color": "#2a3f5f"
            },
            "marker": {
             "line": {
              "color": "#E5ECF6",
              "width": 0.5
             },
             "pattern": {
              "fillmode": "overlay",
              "size": 10,
              "solidity": 0.2
             }
            },
            "type": "bar"
           }
          ],
          "barpolar": [
           {
            "marker": {
             "line": {
              "color": "#E5ECF6",
              "width": 0.5
             },
             "pattern": {
              "fillmode": "overlay",
              "size": 10,
              "solidity": 0.2
             }
            },
            "type": "barpolar"
           }
          ],
          "carpet": [
           {
            "aaxis": {
             "endlinecolor": "#2a3f5f",
             "gridcolor": "white",
             "linecolor": "white",
             "minorgridcolor": "white",
             "startlinecolor": "#2a3f5f"
            },
            "baxis": {
             "endlinecolor": "#2a3f5f",
             "gridcolor": "white",
             "linecolor": "white",
             "minorgridcolor": "white",
             "startlinecolor": "#2a3f5f"
            },
            "type": "carpet"
           }
          ],
          "choropleth": [
           {
            "colorbar": {
             "outlinewidth": 0,
             "ticks": ""
            },
            "type": "choropleth"
           }
          ],
          "contour": [
           {
            "colorbar": {
             "outlinewidth": 0,
             "ticks": ""
            },
            "colorscale": [
             [
              0,
              "#0d0887"
             ],
             [
              0.1111111111111111,
              "#46039f"
             ],
             [
              0.2222222222222222,
              "#7201a8"
             ],
             [
              0.3333333333333333,
              "#9c179e"
             ],
             [
              0.4444444444444444,
              "#bd3786"
             ],
             [
              0.5555555555555556,
              "#d8576b"
             ],
             [
              0.6666666666666666,
              "#ed7953"
             ],
             [
              0.7777777777777778,
              "#fb9f3a"
             ],
             [
              0.8888888888888888,
              "#fdca26"
             ],
             [
              1,
              "#f0f921"
             ]
            ],
            "type": "contour"
           }
          ],
          "contourcarpet": [
           {
            "colorbar": {
             "outlinewidth": 0,
             "ticks": ""
            },
            "type": "contourcarpet"
           }
          ],
          "heatmap": [
           {
            "colorbar": {
             "outlinewidth": 0,
             "ticks": ""
            },
            "colorscale": [
             [
              0,
              "#0d0887"
             ],
             [
              0.1111111111111111,
              "#46039f"
             ],
             [
              0.2222222222222222,
              "#7201a8"
             ],
             [
              0.3333333333333333,
              "#9c179e"
             ],
             [
              0.4444444444444444,
              "#bd3786"
             ],
             [
              0.5555555555555556,
              "#d8576b"
             ],
             [
              0.6666666666666666,
              "#ed7953"
             ],
             [
              0.7777777777777778,
              "#fb9f3a"
             ],
             [
              0.8888888888888888,
              "#fdca26"
             ],
             [
              1,
              "#f0f921"
             ]
            ],
            "type": "heatmap"
           }
          ],
          "heatmapgl": [
           {
            "colorbar": {
             "outlinewidth": 0,
             "ticks": ""
            },
            "colorscale": [
             [
              0,
              "#0d0887"
             ],
             [
              0.1111111111111111,
              "#46039f"
             ],
             [
              0.2222222222222222,
              "#7201a8"
             ],
             [
              0.3333333333333333,
              "#9c179e"
             ],
             [
              0.4444444444444444,
              "#bd3786"
             ],
             [
              0.5555555555555556,
              "#d8576b"
             ],
             [
              0.6666666666666666,
              "#ed7953"
             ],
             [
              0.7777777777777778,
              "#fb9f3a"
             ],
             [
              0.8888888888888888,
              "#fdca26"
             ],
             [
              1,
              "#f0f921"
             ]
            ],
            "type": "heatmapgl"
           }
          ],
          "histogram": [
           {
            "marker": {
             "pattern": {
              "fillmode": "overlay",
              "size": 10,
              "solidity": 0.2
             }
            },
            "type": "histogram"
           }
          ],
          "histogram2d": [
           {
            "colorbar": {
             "outlinewidth": 0,
             "ticks": ""
            },
            "colorscale": [
             [
              0,
              "#0d0887"
             ],
             [
              0.1111111111111111,
              "#46039f"
             ],
             [
              0.2222222222222222,
              "#7201a8"
             ],
             [
              0.3333333333333333,
              "#9c179e"
             ],
             [
              0.4444444444444444,
              "#bd3786"
             ],
             [
              0.5555555555555556,
              "#d8576b"
             ],
             [
              0.6666666666666666,
              "#ed7953"
             ],
             [
              0.7777777777777778,
              "#fb9f3a"
             ],
             [
              0.8888888888888888,
              "#fdca26"
             ],
             [
              1,
              "#f0f921"
             ]
            ],
            "type": "histogram2d"
           }
          ],
          "histogram2dcontour": [
           {
            "colorbar": {
             "outlinewidth": 0,
             "ticks": ""
            },
            "colorscale": [
             [
              0,
              "#0d0887"
             ],
             [
              0.1111111111111111,
              "#46039f"
             ],
             [
              0.2222222222222222,
              "#7201a8"
             ],
             [
              0.3333333333333333,
              "#9c179e"
             ],
             [
              0.4444444444444444,
              "#bd3786"
             ],
             [
              0.5555555555555556,
              "#d8576b"
             ],
             [
              0.6666666666666666,
              "#ed7953"
             ],
             [
              0.7777777777777778,
              "#fb9f3a"
             ],
             [
              0.8888888888888888,
              "#fdca26"
             ],
             [
              1,
              "#f0f921"
             ]
            ],
            "type": "histogram2dcontour"
           }
          ],
          "mesh3d": [
           {
            "colorbar": {
             "outlinewidth": 0,
             "ticks": ""
            },
            "type": "mesh3d"
           }
          ],
          "parcoords": [
           {
            "line": {
             "colorbar": {
              "outlinewidth": 0,
              "ticks": ""
             }
            },
            "type": "parcoords"
           }
          ],
          "pie": [
           {
            "automargin": true,
            "type": "pie"
           }
          ],
          "scatter": [
           {
            "fillpattern": {
             "fillmode": "overlay",
             "size": 10,
             "solidity": 0.2
            },
            "type": "scatter"
           }
          ],
          "scatter3d": [
           {
            "line": {
             "colorbar": {
              "outlinewidth": 0,
              "ticks": ""
             }
            },
            "marker": {
             "colorbar": {
              "outlinewidth": 0,
              "ticks": ""
             }
            },
            "type": "scatter3d"
           }
          ],
          "scattercarpet": [
           {
            "marker": {
             "colorbar": {
              "outlinewidth": 0,
              "ticks": ""
             }
            },
            "type": "scattercarpet"
           }
          ],
          "scattergeo": [
           {
            "marker": {
             "colorbar": {
              "outlinewidth": 0,
              "ticks": ""
             }
            },
            "type": "scattergeo"
           }
          ],
          "scattergl": [
           {
            "marker": {
             "colorbar": {
              "outlinewidth": 0,
              "ticks": ""
             }
            },
            "type": "scattergl"
           }
          ],
          "scattermapbox": [
           {
            "marker": {
             "colorbar": {
              "outlinewidth": 0,
              "ticks": ""
             }
            },
            "type": "scattermapbox"
           }
          ],
          "scatterpolar": [
           {
            "marker": {
             "colorbar": {
              "outlinewidth": 0,
              "ticks": ""
             }
            },
            "type": "scatterpolar"
           }
          ],
          "scatterpolargl": [
           {
            "marker": {
             "colorbar": {
              "outlinewidth": 0,
              "ticks": ""
             }
            },
            "type": "scatterpolargl"
           }
          ],
          "scatterternary": [
           {
            "marker": {
             "colorbar": {
              "outlinewidth": 0,
              "ticks": ""
             }
            },
            "type": "scatterternary"
           }
          ],
          "surface": [
           {
            "colorbar": {
             "outlinewidth": 0,
             "ticks": ""
            },
            "colorscale": [
             [
              0,
              "#0d0887"
             ],
             [
              0.1111111111111111,
              "#46039f"
             ],
             [
              0.2222222222222222,
              "#7201a8"
             ],
             [
              0.3333333333333333,
              "#9c179e"
             ],
             [
              0.4444444444444444,
              "#bd3786"
             ],
             [
              0.5555555555555556,
              "#d8576b"
             ],
             [
              0.6666666666666666,
              "#ed7953"
             ],
             [
              0.7777777777777778,
              "#fb9f3a"
             ],
             [
              0.8888888888888888,
              "#fdca26"
             ],
             [
              1,
              "#f0f921"
             ]
            ],
            "type": "surface"
           }
          ],
          "table": [
           {
            "cells": {
             "fill": {
              "color": "#EBF0F8"
             },
             "line": {
              "color": "white"
             }
            },
            "header": {
             "fill": {
              "color": "#C8D4E3"
             },
             "line": {
              "color": "white"
             }
            },
            "type": "table"
           }
          ]
         },
         "layout": {
          "annotationdefaults": {
           "arrowcolor": "#2a3f5f",
           "arrowhead": 0,
           "arrowwidth": 1
          },
          "autotypenumbers": "strict",
          "coloraxis": {
           "colorbar": {
            "outlinewidth": 0,
            "ticks": ""
           }
          },
          "colorscale": {
           "diverging": [
            [
             0,
             "#8e0152"
            ],
            [
             0.1,
             "#c51b7d"
            ],
            [
             0.2,
             "#de77ae"
            ],
            [
             0.3,
             "#f1b6da"
            ],
            [
             0.4,
             "#fde0ef"
            ],
            [
             0.5,
             "#f7f7f7"
            ],
            [
             0.6,
             "#e6f5d0"
            ],
            [
             0.7,
             "#b8e186"
            ],
            [
             0.8,
             "#7fbc41"
            ],
            [
             0.9,
             "#4d9221"
            ],
            [
             1,
             "#276419"
            ]
           ],
           "sequential": [
            [
             0,
             "#0d0887"
            ],
            [
             0.1111111111111111,
             "#46039f"
            ],
            [
             0.2222222222222222,
             "#7201a8"
            ],
            [
             0.3333333333333333,
             "#9c179e"
            ],
            [
             0.4444444444444444,
             "#bd3786"
            ],
            [
             0.5555555555555556,
             "#d8576b"
            ],
            [
             0.6666666666666666,
             "#ed7953"
            ],
            [
             0.7777777777777778,
             "#fb9f3a"
            ],
            [
             0.8888888888888888,
             "#fdca26"
            ],
            [
             1,
             "#f0f921"
            ]
           ],
           "sequentialminus": [
            [
             0,
             "#0d0887"
            ],
            [
             0.1111111111111111,
             "#46039f"
            ],
            [
             0.2222222222222222,
             "#7201a8"
            ],
            [
             0.3333333333333333,
             "#9c179e"
            ],
            [
             0.4444444444444444,
             "#bd3786"
            ],
            [
             0.5555555555555556,
             "#d8576b"
            ],
            [
             0.6666666666666666,
             "#ed7953"
            ],
            [
             0.7777777777777778,
             "#fb9f3a"
            ],
            [
             0.8888888888888888,
             "#fdca26"
            ],
            [
             1,
             "#f0f921"
            ]
           ]
          },
          "colorway": [
           "#636efa",
           "#EF553B",
           "#00cc96",
           "#ab63fa",
           "#FFA15A",
           "#19d3f3",
           "#FF6692",
           "#B6E880",
           "#FF97FF",
           "#FECB52"
          ],
          "font": {
           "color": "#2a3f5f"
          },
          "geo": {
           "bgcolor": "white",
           "lakecolor": "white",
           "landcolor": "#E5ECF6",
           "showlakes": true,
           "showland": true,
           "subunitcolor": "white"
          },
          "hoverlabel": {
           "align": "left"
          },
          "hovermode": "closest",
          "mapbox": {
           "style": "light"
          },
          "paper_bgcolor": "white",
          "plot_bgcolor": "#E5ECF6",
          "polar": {
           "angularaxis": {
            "gridcolor": "white",
            "linecolor": "white",
            "ticks": ""
           },
           "bgcolor": "#E5ECF6",
           "radialaxis": {
            "gridcolor": "white",
            "linecolor": "white",
            "ticks": ""
           }
          },
          "scene": {
           "xaxis": {
            "backgroundcolor": "#E5ECF6",
            "gridcolor": "white",
            "gridwidth": 2,
            "linecolor": "white",
            "showbackground": true,
            "ticks": "",
            "zerolinecolor": "white"
           },
           "yaxis": {
            "backgroundcolor": "#E5ECF6",
            "gridcolor": "white",
            "gridwidth": 2,
            "linecolor": "white",
            "showbackground": true,
            "ticks": "",
            "zerolinecolor": "white"
           },
           "zaxis": {
            "backgroundcolor": "#E5ECF6",
            "gridcolor": "white",
            "gridwidth": 2,
            "linecolor": "white",
            "showbackground": true,
            "ticks": "",
            "zerolinecolor": "white"
           }
          },
          "shapedefaults": {
           "line": {
            "color": "#2a3f5f"
           }
          },
          "ternary": {
           "aaxis": {
            "gridcolor": "white",
            "linecolor": "white",
            "ticks": ""
           },
           "baxis": {
            "gridcolor": "white",
            "linecolor": "white",
            "ticks": ""
           },
           "bgcolor": "#E5ECF6",
           "caxis": {
            "gridcolor": "white",
            "linecolor": "white",
            "ticks": ""
           }
          },
          "title": {
           "x": 0.05
          },
          "xaxis": {
           "automargin": true,
           "gridcolor": "white",
           "linecolor": "white",
           "ticks": "",
           "title": {
            "standoff": 15
           },
           "zerolinecolor": "white",
           "zerolinewidth": 2
          },
          "yaxis": {
           "automargin": true,
           "gridcolor": "white",
           "linecolor": "white",
           "ticks": "",
           "title": {
            "standoff": 15
           },
           "zerolinecolor": "white",
           "zerolinewidth": 2
          }
         }
        },
        "title": {
         "text": "Média dos Gastos dos Senadores por Ano"
        },
        "xaxis": {
         "title": {
          "text": "Ano"
         }
        },
        "yaxis": {
         "title": {
          "text": "Média Reembolsada"
         }
        }
       }
      }
     },
     "metadata": {},
     "output_type": "display_data"
    }
   ],
   "source": [
    "combined_df['ANO'] = pd.to_datetime(combined_df['DATA'], format='%d/%m/%Y').dt.year\n",
    "\n",
    "# Agrupar os gastos por ano e calcular a média dos valores reembolsados em cada ano\n",
    "media_por_ano = combined_df.groupby('ANO')['VALOR_REEMBOLSADO'].mean()\n",
    "\n",
    "trace = go.Scatter(\n",
    "    x=media_por_ano.index,    # Ano no eixo x\n",
    "    y=media_por_ano.values,   # Média dos valores reembolsados no eixo y\n",
    "    mode='lines+markers',     # Tipo de gráfico (linhas com marcadores)\n",
    "    marker=dict(color='blue'),# Cor da linha\n",
    ")\n",
    "\n",
    "data = [trace]\n",
    "\n",
    "layout = go.Layout(\n",
    "    title='Média dos Gastos dos Senadores por Ano',\n",
    "    xaxis=dict(title='Ano'),                # Título do eixo x\n",
    "    yaxis=dict(title='Média Reembolsada'),  # Título do eixo y\n",
    ")\n",
    "\n",
    "fig = go.Figure(data=data, layout=layout)\n",
    "\n",
    "fig.show()"
   ]
  },
  {
   "cell_type": "markdown",
   "metadata": {},
   "source": [
    "# Day 3: Forecasting\n",
    "### Técnica 1: Mais básica: Média dos últimos 3 meses"
   ]
  },
  {
   "cell_type": "code",
   "execution_count": 94,
   "metadata": {},
   "outputs": [],
   "source": [
    "combined_df['MES'] = pd.to_datetime(combined_df['DATA'], format='%d/%m/%Y').dt.month"
   ]
  },
  {
   "cell_type": "code",
   "execution_count": 95,
   "metadata": {},
   "outputs": [
    {
     "data": {
      "text/html": [
       "<div>\n",
       "<style scoped>\n",
       "    .dataframe tbody tr th:only-of-type {\n",
       "        vertical-align: middle;\n",
       "    }\n",
       "\n",
       "    .dataframe tbody tr th {\n",
       "        vertical-align: top;\n",
       "    }\n",
       "\n",
       "    .dataframe thead th {\n",
       "        text-align: right;\n",
       "    }\n",
       "</style>\n",
       "<table border=\"1\" class=\"dataframe\">\n",
       "  <thead>\n",
       "    <tr style=\"text-align: right;\">\n",
       "      <th></th>\n",
       "      <th>ANO</th>\n",
       "      <th>MES</th>\n",
       "      <th>SENADOR</th>\n",
       "      <th>TIPO_DESPESA</th>\n",
       "      <th>CNPJ_CPF</th>\n",
       "      <th>FORNECEDOR</th>\n",
       "      <th>DOCUMENTO</th>\n",
       "      <th>DATA</th>\n",
       "      <th>DETALHAMENTO</th>\n",
       "      <th>VALOR_REEMBOLSADO</th>\n",
       "      <th>COD_DOCUMENTO</th>\n",
       "    </tr>\n",
       "  </thead>\n",
       "  <tbody>\n",
       "    <tr>\n",
       "      <th>36108</th>\n",
       "      <td>2022.0</td>\n",
       "      <td>1.0</td>\n",
       "      <td>ALESSANDRO VIEIRA</td>\n",
       "      <td>Contrataï¿½ï¿½o de consultorias, assessorias, ...</td>\n",
       "      <td>23.412.247/0001-10</td>\n",
       "      <td>AMAZON AWS SERVICOS BRASIL LTDA</td>\n",
       "      <td>00665692</td>\n",
       "      <td>2022-01-03</td>\n",
       "      <td>NaN</td>\n",
       "      <td>116.25</td>\n",
       "      <td>2173827</td>\n",
       "    </tr>\n",
       "    <tr>\n",
       "      <th>36181</th>\n",
       "      <td>2022.0</td>\n",
       "      <td>2.0</td>\n",
       "      <td>ANGELO CORONEL</td>\n",
       "      <td>Divulgaï¿½ï¿½o da atividade parlamentar</td>\n",
       "      <td>07.053.147/0001-99</td>\n",
       "      <td>Velip - Tradeal Serviï¿½os em Tecnologia da In...</td>\n",
       "      <td>00016356</td>\n",
       "      <td>2022-02-14</td>\n",
       "      <td>Distribuiï¿½ï¿½o de conteï¿½do - divulgaï¿½ï¿½...</td>\n",
       "      <td>10000.00</td>\n",
       "      <td>2174668</td>\n",
       "    </tr>\n",
       "    <tr>\n",
       "      <th>36202</th>\n",
       "      <td>2022.0</td>\n",
       "      <td>3.0</td>\n",
       "      <td>ANGELO CORONEL</td>\n",
       "      <td>Locomoï¿½ï¿½o, hospedagem, alimentaï¿½ï¿½o, co...</td>\n",
       "      <td>13.331.488/0001-81</td>\n",
       "      <td>J. Pedro de Brito - Carros</td>\n",
       "      <td>202200000000001</td>\n",
       "      <td>2022-03-05</td>\n",
       "      <td>Locaï¿½ï¿½o de veï¿½culo de apoio ï¿½ atividad...</td>\n",
       "      <td>4750.00</td>\n",
       "      <td>2175861</td>\n",
       "    </tr>\n",
       "    <tr>\n",
       "      <th>36212</th>\n",
       "      <td>2022.0</td>\n",
       "      <td>3.0</td>\n",
       "      <td>ANGELO CORONEL</td>\n",
       "      <td>Locomoï¿½ï¿½o, hospedagem, alimentaï¿½ï¿½o, co...</td>\n",
       "      <td>13.331.488/0001-81</td>\n",
       "      <td>J. Pedro de Brito - Carros</td>\n",
       "      <td>202200000000002</td>\n",
       "      <td>2022-03-05</td>\n",
       "      <td>Locaï¿½ï¿½o de veï¿½culo de apoio ï¿½ atividad...</td>\n",
       "      <td>4750.00</td>\n",
       "      <td>2175864</td>\n",
       "    </tr>\n",
       "    <tr>\n",
       "      <th>36222</th>\n",
       "      <td>2022.0</td>\n",
       "      <td>3.0</td>\n",
       "      <td>ANGELO CORONEL</td>\n",
       "      <td>Contrataï¿½ï¿½o de consultorias, assessorias, ...</td>\n",
       "      <td>30.727.829/0001-51</td>\n",
       "      <td>BUNKER BRAIN AUDIOVISUAL EIRELI</td>\n",
       "      <td>79</td>\n",
       "      <td>2022-03-15</td>\n",
       "      <td>Assessoria de comunicaï¿½ï¿½o - planejamento e...</td>\n",
       "      <td>48000.00</td>\n",
       "      <td>2176306</td>\n",
       "    </tr>\n",
       "    <tr>\n",
       "      <th>...</th>\n",
       "      <td>...</td>\n",
       "      <td>...</td>\n",
       "      <td>...</td>\n",
       "      <td>...</td>\n",
       "      <td>...</td>\n",
       "      <td>...</td>\n",
       "      <td>...</td>\n",
       "      <td>...</td>\n",
       "      <td>...</td>\n",
       "      <td>...</td>\n",
       "      <td>...</td>\n",
       "    </tr>\n",
       "    <tr>\n",
       "      <th>69328</th>\n",
       "      <td>2022.0</td>\n",
       "      <td>12.0</td>\n",
       "      <td>ZEQUINHA MARINHO</td>\n",
       "      <td>Passagens aï¿½reas, aquï¿½ticas e terrestres n...</td>\n",
       "      <td>22.052.777/0001-32</td>\n",
       "      <td>Exceller Tour</td>\n",
       "      <td>WIXHAI</td>\n",
       "      <td>2022-12-06</td>\n",
       "      <td>Companhia Aï¿½rea: LATAM, Localizador: WIXHAI....</td>\n",
       "      <td>2893.04</td>\n",
       "      <td>2191398</td>\n",
       "    </tr>\n",
       "    <tr>\n",
       "      <th>69329</th>\n",
       "      <td>2022.0</td>\n",
       "      <td>12.0</td>\n",
       "      <td>ZEQUINHA MARINHO</td>\n",
       "      <td>Passagens aï¿½reas, aquï¿½ticas e terrestres n...</td>\n",
       "      <td>22.052.777/0001-32</td>\n",
       "      <td>Exceller Tour</td>\n",
       "      <td>WITOLM</td>\n",
       "      <td>2022-12-09</td>\n",
       "      <td>Companhia Aï¿½rea: GOL, Localizador: WITOLM. P...</td>\n",
       "      <td>1180.19</td>\n",
       "      <td>2192272</td>\n",
       "    </tr>\n",
       "    <tr>\n",
       "      <th>69330</th>\n",
       "      <td>2022.0</td>\n",
       "      <td>12.0</td>\n",
       "      <td>ZEQUINHA MARINHO</td>\n",
       "      <td>Passagens aï¿½reas, aquï¿½ticas e terrestres n...</td>\n",
       "      <td>22.052.777/0001-32</td>\n",
       "      <td>Exceller Tour</td>\n",
       "      <td>THPKVQ</td>\n",
       "      <td>2022-12-20</td>\n",
       "      <td>Companhia Aï¿½rea: TAM, Localizador: THPKVQ. P...</td>\n",
       "      <td>2671.90</td>\n",
       "      <td>2192274</td>\n",
       "    </tr>\n",
       "    <tr>\n",
       "      <th>69331</th>\n",
       "      <td>2022.0</td>\n",
       "      <td>12.0</td>\n",
       "      <td>ZEQUINHA MARINHO</td>\n",
       "      <td>Passagens aï¿½reas, aquï¿½ticas e terrestres n...</td>\n",
       "      <td>22.052.777/0001-32</td>\n",
       "      <td>Exceller Tour</td>\n",
       "      <td>QNN9HX</td>\n",
       "      <td>2022-12-21</td>\n",
       "      <td>Companhia Aï¿½rea: AZUL, Localizador: QNN9HX. ...</td>\n",
       "      <td>1334.31</td>\n",
       "      <td>2192244</td>\n",
       "    </tr>\n",
       "    <tr>\n",
       "      <th>69332</th>\n",
       "      <td>2022.0</td>\n",
       "      <td>12.0</td>\n",
       "      <td>ZEQUINHA MARINHO</td>\n",
       "      <td>Passagens aï¿½reas, aquï¿½ticas e terrestres n...</td>\n",
       "      <td>22.052.777/0001-32</td>\n",
       "      <td>Exceller Tour</td>\n",
       "      <td>WMQWBX</td>\n",
       "      <td>2022-12-30</td>\n",
       "      <td>Companhia Aï¿½rea: TAM, Localizador: WMQWBX. P...</td>\n",
       "      <td>2250.72</td>\n",
       "      <td>2193622</td>\n",
       "    </tr>\n",
       "  </tbody>\n",
       "</table>\n",
       "<p>16733 rows × 11 columns</p>\n",
       "</div>"
      ],
      "text/plain": [
       "          ANO   MES            SENADOR  \\\n",
       "36108  2022.0   1.0  ALESSANDRO VIEIRA   \n",
       "36181  2022.0   2.0     ANGELO CORONEL   \n",
       "36202  2022.0   3.0     ANGELO CORONEL   \n",
       "36212  2022.0   3.0     ANGELO CORONEL   \n",
       "36222  2022.0   3.0     ANGELO CORONEL   \n",
       "...       ...   ...                ...   \n",
       "69328  2022.0  12.0   ZEQUINHA MARINHO   \n",
       "69329  2022.0  12.0   ZEQUINHA MARINHO   \n",
       "69330  2022.0  12.0   ZEQUINHA MARINHO   \n",
       "69331  2022.0  12.0   ZEQUINHA MARINHO   \n",
       "69332  2022.0  12.0   ZEQUINHA MARINHO   \n",
       "\n",
       "                                            TIPO_DESPESA            CNPJ_CPF  \\\n",
       "36108  Contrataï¿½ï¿½o de consultorias, assessorias, ...  23.412.247/0001-10   \n",
       "36181            Divulgaï¿½ï¿½o da atividade parlamentar  07.053.147/0001-99   \n",
       "36202  Locomoï¿½ï¿½o, hospedagem, alimentaï¿½ï¿½o, co...  13.331.488/0001-81   \n",
       "36212  Locomoï¿½ï¿½o, hospedagem, alimentaï¿½ï¿½o, co...  13.331.488/0001-81   \n",
       "36222  Contrataï¿½ï¿½o de consultorias, assessorias, ...  30.727.829/0001-51   \n",
       "...                                                  ...                 ...   \n",
       "69328  Passagens aï¿½reas, aquï¿½ticas e terrestres n...  22.052.777/0001-32   \n",
       "69329  Passagens aï¿½reas, aquï¿½ticas e terrestres n...  22.052.777/0001-32   \n",
       "69330  Passagens aï¿½reas, aquï¿½ticas e terrestres n...  22.052.777/0001-32   \n",
       "69331  Passagens aï¿½reas, aquï¿½ticas e terrestres n...  22.052.777/0001-32   \n",
       "69332  Passagens aï¿½reas, aquï¿½ticas e terrestres n...  22.052.777/0001-32   \n",
       "\n",
       "                                              FORNECEDOR        DOCUMENTO  \\\n",
       "36108                    AMAZON AWS SERVICOS BRASIL LTDA         00665692   \n",
       "36181  Velip - Tradeal Serviï¿½os em Tecnologia da In...         00016356   \n",
       "36202                         J. Pedro de Brito - Carros  202200000000001   \n",
       "36212                         J. Pedro de Brito - Carros  202200000000002   \n",
       "36222                    BUNKER BRAIN AUDIOVISUAL EIRELI               79   \n",
       "...                                                  ...              ...   \n",
       "69328                                      Exceller Tour           WIXHAI   \n",
       "69329                                      Exceller Tour           WITOLM   \n",
       "69330                                      Exceller Tour           THPKVQ   \n",
       "69331                                      Exceller Tour           QNN9HX   \n",
       "69332                                      Exceller Tour           WMQWBX   \n",
       "\n",
       "            DATA                                       DETALHAMENTO  \\\n",
       "36108 2022-01-03                                                NaN   \n",
       "36181 2022-02-14  Distribuiï¿½ï¿½o de conteï¿½do - divulgaï¿½ï¿½...   \n",
       "36202 2022-03-05  Locaï¿½ï¿½o de veï¿½culo de apoio ï¿½ atividad...   \n",
       "36212 2022-03-05  Locaï¿½ï¿½o de veï¿½culo de apoio ï¿½ atividad...   \n",
       "36222 2022-03-15  Assessoria de comunicaï¿½ï¿½o - planejamento e...   \n",
       "...          ...                                                ...   \n",
       "69328 2022-12-06  Companhia Aï¿½rea: LATAM, Localizador: WIXHAI....   \n",
       "69329 2022-12-09  Companhia Aï¿½rea: GOL, Localizador: WITOLM. P...   \n",
       "69330 2022-12-20  Companhia Aï¿½rea: TAM, Localizador: THPKVQ. P...   \n",
       "69331 2022-12-21  Companhia Aï¿½rea: AZUL, Localizador: QNN9HX. ...   \n",
       "69332 2022-12-30  Companhia Aï¿½rea: TAM, Localizador: WMQWBX. P...   \n",
       "\n",
       "       VALOR_REEMBOLSADO  COD_DOCUMENTO  \n",
       "36108             116.25        2173827  \n",
       "36181           10000.00        2174668  \n",
       "36202            4750.00        2175861  \n",
       "36212            4750.00        2175864  \n",
       "36222           48000.00        2176306  \n",
       "...                  ...            ...  \n",
       "69328            2893.04        2191398  \n",
       "69329            1180.19        2192272  \n",
       "69330            2671.90        2192274  \n",
       "69331            1334.31        2192244  \n",
       "69332            2250.72        2193622  \n",
       "\n",
       "[16733 rows x 11 columns]"
      ]
     },
     "execution_count": 95,
     "metadata": {},
     "output_type": "execute_result"
    }
   ],
   "source": [
    "df_last_year = combined_df.loc[combined_df['ANO'] == 2022.0]\n",
    "df_last_year"
   ]
  },
  {
   "cell_type": "code",
   "execution_count": 96,
   "metadata": {},
   "outputs": [],
   "source": [
    "three_months = [12.0,11.0,10.0]"
   ]
  },
  {
   "cell_type": "code",
   "execution_count": 97,
   "metadata": {},
   "outputs": [],
   "source": [
    "df_last_three_months = df_last_year.loc[df_last_year['MES'].isin(three_months)]"
   ]
  },
  {
   "cell_type": "code",
   "execution_count": 98,
   "metadata": {},
   "outputs": [
    {
     "data": {
      "text/html": [
       "<div>\n",
       "<style scoped>\n",
       "    .dataframe tbody tr th:only-of-type {\n",
       "        vertical-align: middle;\n",
       "    }\n",
       "\n",
       "    .dataframe tbody tr th {\n",
       "        vertical-align: top;\n",
       "    }\n",
       "\n",
       "    .dataframe thead th {\n",
       "        text-align: right;\n",
       "    }\n",
       "</style>\n",
       "<table border=\"1\" class=\"dataframe\">\n",
       "  <thead>\n",
       "    <tr style=\"text-align: right;\">\n",
       "      <th></th>\n",
       "      <th>ANO</th>\n",
       "      <th>MES</th>\n",
       "      <th>SENADOR</th>\n",
       "      <th>TIPO_DESPESA</th>\n",
       "      <th>CNPJ_CPF</th>\n",
       "      <th>FORNECEDOR</th>\n",
       "      <th>DOCUMENTO</th>\n",
       "      <th>DATA</th>\n",
       "      <th>DETALHAMENTO</th>\n",
       "      <th>VALOR_REEMBOLSADO</th>\n",
       "      <th>COD_DOCUMENTO</th>\n",
       "    </tr>\n",
       "  </thead>\n",
       "  <tbody>\n",
       "    <tr>\n",
       "      <th>39502</th>\n",
       "      <td>2022.0</td>\n",
       "      <td>10.0</td>\n",
       "      <td>ELIANE NOGUEIRA</td>\n",
       "      <td>Locomoï¿½ï¿½o, hospedagem, alimentaï¿½ï¿½o, co...</td>\n",
       "      <td>34.988.039/0001-80</td>\n",
       "      <td>Papa Cucina Fast Food Italiano Comercio de Mas...</td>\n",
       "      <td>42458</td>\n",
       "      <td>2022-10-19</td>\n",
       "      <td>Alimentaï¿½ï¿½o</td>\n",
       "      <td>127.00</td>\n",
       "      <td>2174387</td>\n",
       "    </tr>\n",
       "    <tr>\n",
       "      <th>51961</th>\n",
       "      <td>2022.0</td>\n",
       "      <td>12.0</td>\n",
       "      <td>WEVERTON ROCHA</td>\n",
       "      <td>Locomoï¿½ï¿½o, hospedagem, alimentaï¿½ï¿½o, co...</td>\n",
       "      <td>32.965.877/0001-03</td>\n",
       "      <td>Posto de Combustï¿½ve QI 09Lago Sul Ltda</td>\n",
       "      <td>000005805</td>\n",
       "      <td>2022-12-27</td>\n",
       "      <td>NaN</td>\n",
       "      <td>324.28</td>\n",
       "      <td>2175066</td>\n",
       "    </tr>\n",
       "    <tr>\n",
       "      <th>52652</th>\n",
       "      <td>2022.0</td>\n",
       "      <td>10.0</td>\n",
       "      <td>ACIR GURGACZ</td>\n",
       "      <td>Aluguel de imï¿½veis para escritï¿½rio polï¿½t...</td>\n",
       "      <td>004.948.028-63</td>\n",
       "      <td>GILBERTO PISELO DO NASCIMENTO</td>\n",
       "      <td>010/22</td>\n",
       "      <td>2022-10-03</td>\n",
       "      <td>Despesa com aluguel de imï¿½vel para uso do es...</td>\n",
       "      <td>6000.00</td>\n",
       "      <td>2187616</td>\n",
       "    </tr>\n",
       "    <tr>\n",
       "      <th>52653</th>\n",
       "      <td>2022.0</td>\n",
       "      <td>10.0</td>\n",
       "      <td>ACIR GURGACZ</td>\n",
       "      <td>Locomoï¿½ï¿½o, hospedagem, alimentaï¿½ï¿½o, co...</td>\n",
       "      <td>34.274.233/0097-46</td>\n",
       "      <td>VIBRA ENERGIA</td>\n",
       "      <td>000971514</td>\n",
       "      <td>2022-10-27</td>\n",
       "      <td>Despesa com aquisiï¿½ï¿½o de combustï¿½vel par...</td>\n",
       "      <td>4893.27</td>\n",
       "      <td>2189141</td>\n",
       "    </tr>\n",
       "    <tr>\n",
       "      <th>52654</th>\n",
       "      <td>2022.0</td>\n",
       "      <td>10.0</td>\n",
       "      <td>ACIR GURGACZ</td>\n",
       "      <td>Passagens aï¿½reas, aquï¿½ticas e terrestres n...</td>\n",
       "      <td>17.872.428/0001-27</td>\n",
       "      <td>AMERICA VIAGENS E TURISMO LTDA - ME</td>\n",
       "      <td>WFMPQV</td>\n",
       "      <td>2022-10-04</td>\n",
       "      <td>Companhia Aï¿½rea: LATAM, Localizador: WFMPQV....</td>\n",
       "      <td>3575.00</td>\n",
       "      <td>2188975</td>\n",
       "    </tr>\n",
       "    <tr>\n",
       "      <th>...</th>\n",
       "      <td>...</td>\n",
       "      <td>...</td>\n",
       "      <td>...</td>\n",
       "      <td>...</td>\n",
       "      <td>...</td>\n",
       "      <td>...</td>\n",
       "      <td>...</td>\n",
       "      <td>...</td>\n",
       "      <td>...</td>\n",
       "      <td>...</td>\n",
       "      <td>...</td>\n",
       "    </tr>\n",
       "    <tr>\n",
       "      <th>69328</th>\n",
       "      <td>2022.0</td>\n",
       "      <td>12.0</td>\n",
       "      <td>ZEQUINHA MARINHO</td>\n",
       "      <td>Passagens aï¿½reas, aquï¿½ticas e terrestres n...</td>\n",
       "      <td>22.052.777/0001-32</td>\n",
       "      <td>Exceller Tour</td>\n",
       "      <td>WIXHAI</td>\n",
       "      <td>2022-12-06</td>\n",
       "      <td>Companhia Aï¿½rea: LATAM, Localizador: WIXHAI....</td>\n",
       "      <td>2893.04</td>\n",
       "      <td>2191398</td>\n",
       "    </tr>\n",
       "    <tr>\n",
       "      <th>69329</th>\n",
       "      <td>2022.0</td>\n",
       "      <td>12.0</td>\n",
       "      <td>ZEQUINHA MARINHO</td>\n",
       "      <td>Passagens aï¿½reas, aquï¿½ticas e terrestres n...</td>\n",
       "      <td>22.052.777/0001-32</td>\n",
       "      <td>Exceller Tour</td>\n",
       "      <td>WITOLM</td>\n",
       "      <td>2022-12-09</td>\n",
       "      <td>Companhia Aï¿½rea: GOL, Localizador: WITOLM. P...</td>\n",
       "      <td>1180.19</td>\n",
       "      <td>2192272</td>\n",
       "    </tr>\n",
       "    <tr>\n",
       "      <th>69330</th>\n",
       "      <td>2022.0</td>\n",
       "      <td>12.0</td>\n",
       "      <td>ZEQUINHA MARINHO</td>\n",
       "      <td>Passagens aï¿½reas, aquï¿½ticas e terrestres n...</td>\n",
       "      <td>22.052.777/0001-32</td>\n",
       "      <td>Exceller Tour</td>\n",
       "      <td>THPKVQ</td>\n",
       "      <td>2022-12-20</td>\n",
       "      <td>Companhia Aï¿½rea: TAM, Localizador: THPKVQ. P...</td>\n",
       "      <td>2671.90</td>\n",
       "      <td>2192274</td>\n",
       "    </tr>\n",
       "    <tr>\n",
       "      <th>69331</th>\n",
       "      <td>2022.0</td>\n",
       "      <td>12.0</td>\n",
       "      <td>ZEQUINHA MARINHO</td>\n",
       "      <td>Passagens aï¿½reas, aquï¿½ticas e terrestres n...</td>\n",
       "      <td>22.052.777/0001-32</td>\n",
       "      <td>Exceller Tour</td>\n",
       "      <td>QNN9HX</td>\n",
       "      <td>2022-12-21</td>\n",
       "      <td>Companhia Aï¿½rea: AZUL, Localizador: QNN9HX. ...</td>\n",
       "      <td>1334.31</td>\n",
       "      <td>2192244</td>\n",
       "    </tr>\n",
       "    <tr>\n",
       "      <th>69332</th>\n",
       "      <td>2022.0</td>\n",
       "      <td>12.0</td>\n",
       "      <td>ZEQUINHA MARINHO</td>\n",
       "      <td>Passagens aï¿½reas, aquï¿½ticas e terrestres n...</td>\n",
       "      <td>22.052.777/0001-32</td>\n",
       "      <td>Exceller Tour</td>\n",
       "      <td>WMQWBX</td>\n",
       "      <td>2022-12-30</td>\n",
       "      <td>Companhia Aï¿½rea: TAM, Localizador: WMQWBX. P...</td>\n",
       "      <td>2250.72</td>\n",
       "      <td>2193622</td>\n",
       "    </tr>\n",
       "  </tbody>\n",
       "</table>\n",
       "<p>3600 rows × 11 columns</p>\n",
       "</div>"
      ],
      "text/plain": [
       "          ANO   MES           SENADOR  \\\n",
       "39502  2022.0  10.0   ELIANE NOGUEIRA   \n",
       "51961  2022.0  12.0    WEVERTON ROCHA   \n",
       "52652  2022.0  10.0      ACIR GURGACZ   \n",
       "52653  2022.0  10.0      ACIR GURGACZ   \n",
       "52654  2022.0  10.0      ACIR GURGACZ   \n",
       "...       ...   ...               ...   \n",
       "69328  2022.0  12.0  ZEQUINHA MARINHO   \n",
       "69329  2022.0  12.0  ZEQUINHA MARINHO   \n",
       "69330  2022.0  12.0  ZEQUINHA MARINHO   \n",
       "69331  2022.0  12.0  ZEQUINHA MARINHO   \n",
       "69332  2022.0  12.0  ZEQUINHA MARINHO   \n",
       "\n",
       "                                            TIPO_DESPESA            CNPJ_CPF  \\\n",
       "39502  Locomoï¿½ï¿½o, hospedagem, alimentaï¿½ï¿½o, co...  34.988.039/0001-80   \n",
       "51961  Locomoï¿½ï¿½o, hospedagem, alimentaï¿½ï¿½o, co...  32.965.877/0001-03   \n",
       "52652  Aluguel de imï¿½veis para escritï¿½rio polï¿½t...      004.948.028-63   \n",
       "52653  Locomoï¿½ï¿½o, hospedagem, alimentaï¿½ï¿½o, co...  34.274.233/0097-46   \n",
       "52654  Passagens aï¿½reas, aquï¿½ticas e terrestres n...  17.872.428/0001-27   \n",
       "...                                                  ...                 ...   \n",
       "69328  Passagens aï¿½reas, aquï¿½ticas e terrestres n...  22.052.777/0001-32   \n",
       "69329  Passagens aï¿½reas, aquï¿½ticas e terrestres n...  22.052.777/0001-32   \n",
       "69330  Passagens aï¿½reas, aquï¿½ticas e terrestres n...  22.052.777/0001-32   \n",
       "69331  Passagens aï¿½reas, aquï¿½ticas e terrestres n...  22.052.777/0001-32   \n",
       "69332  Passagens aï¿½reas, aquï¿½ticas e terrestres n...  22.052.777/0001-32   \n",
       "\n",
       "                                              FORNECEDOR  DOCUMENTO  \\\n",
       "39502  Papa Cucina Fast Food Italiano Comercio de Mas...      42458   \n",
       "51961           Posto de Combustï¿½ve QI 09Lago Sul Ltda  000005805   \n",
       "52652                      GILBERTO PISELO DO NASCIMENTO     010/22   \n",
       "52653                                      VIBRA ENERGIA  000971514   \n",
       "52654                AMERICA VIAGENS E TURISMO LTDA - ME     WFMPQV   \n",
       "...                                                  ...        ...   \n",
       "69328                                      Exceller Tour     WIXHAI   \n",
       "69329                                      Exceller Tour     WITOLM   \n",
       "69330                                      Exceller Tour     THPKVQ   \n",
       "69331                                      Exceller Tour     QNN9HX   \n",
       "69332                                      Exceller Tour     WMQWBX   \n",
       "\n",
       "            DATA                                       DETALHAMENTO  \\\n",
       "39502 2022-10-19                                    Alimentaï¿½ï¿½o   \n",
       "51961 2022-12-27                                                NaN   \n",
       "52652 2022-10-03  Despesa com aluguel de imï¿½vel para uso do es...   \n",
       "52653 2022-10-27  Despesa com aquisiï¿½ï¿½o de combustï¿½vel par...   \n",
       "52654 2022-10-04  Companhia Aï¿½rea: LATAM, Localizador: WFMPQV....   \n",
       "...          ...                                                ...   \n",
       "69328 2022-12-06  Companhia Aï¿½rea: LATAM, Localizador: WIXHAI....   \n",
       "69329 2022-12-09  Companhia Aï¿½rea: GOL, Localizador: WITOLM. P...   \n",
       "69330 2022-12-20  Companhia Aï¿½rea: TAM, Localizador: THPKVQ. P...   \n",
       "69331 2022-12-21  Companhia Aï¿½rea: AZUL, Localizador: QNN9HX. ...   \n",
       "69332 2022-12-30  Companhia Aï¿½rea: TAM, Localizador: WMQWBX. P...   \n",
       "\n",
       "       VALOR_REEMBOLSADO  COD_DOCUMENTO  \n",
       "39502             127.00        2174387  \n",
       "51961             324.28        2175066  \n",
       "52652            6000.00        2187616  \n",
       "52653            4893.27        2189141  \n",
       "52654            3575.00        2188975  \n",
       "...                  ...            ...  \n",
       "69328            2893.04        2191398  \n",
       "69329            1180.19        2192272  \n",
       "69330            2671.90        2192274  \n",
       "69331            1334.31        2192244  \n",
       "69332            2250.72        2193622  \n",
       "\n",
       "[3600 rows x 11 columns]"
      ]
     },
     "execution_count": 98,
     "metadata": {},
     "output_type": "execute_result"
    }
   ],
   "source": [
    "df_last_three_months"
   ]
  },
  {
   "cell_type": "code",
   "execution_count": 99,
   "metadata": {},
   "outputs": [
    {
     "data": {
      "text/plain": [
       "MES\n",
       "10.0    1634.281453\n",
       "11.0    1771.556701\n",
       "12.0    2954.796699\n",
       "Name: VALOR_REEMBOLSADO, dtype: float64"
      ]
     },
     "execution_count": 99,
     "metadata": {},
     "output_type": "execute_result"
    }
   ],
   "source": [
    "mean_last_three_months = df_last_three_months.groupby('MES')['VALOR_REEMBOLSADO'].mean()\n",
    "mean_last_three_months"
   ]
  },
  {
   "cell_type": "markdown",
   "metadata": {},
   "source": [
    "Então podemos dizer que a média dos próximos 3 meses será 1634.281453, 1771.556701, 2954.796699"
   ]
  },
  {
   "cell_type": "markdown",
   "metadata": {},
   "source": [
    "### Técnica 2: Prophet \n"
   ]
  },
  {
   "cell_type": "code",
   "execution_count": 100,
   "metadata": {},
   "outputs": [
    {
     "name": "stdout",
     "output_type": "stream",
     "text": [
      "Requirement already satisfied: Prophet in c:\\users\\camil\\appdata\\local\\programs\\python\\python310\\lib\\site-packages (1.1.5)Note: you may need to restart the kernel to use updated packages.\n",
      "\n",
      "Requirement already satisfied: numpy>=1.15.4 in c:\\users\\camil\\appdata\\local\\programs\\python\\python310\\lib\\site-packages (from Prophet) (1.25.0)\n",
      "Requirement already satisfied: matplotlib>=2.0.0 in c:\\users\\camil\\appdata\\local\\programs\\python\\python310\\lib\\site-packages (from Prophet) (3.7.1)\n",
      "Requirement already satisfied: cmdstanpy>=1.0.4 in c:\\users\\camil\\appdata\\local\\programs\\python\\python310\\lib\\site-packages (from Prophet) (1.2.1)\n",
      "Requirement already satisfied: tqdm>=4.36.1 in c:\\users\\camil\\appdata\\local\\programs\\python\\python310\\lib\\site-packages (from Prophet) (4.66.2)\n",
      "Requirement already satisfied: holidays>=0.25 in c:\\users\\camil\\appdata\\local\\programs\\python\\python310\\lib\\site-packages (from Prophet) (0.42)\n",
      "Requirement already satisfied: importlib-resources in c:\\users\\camil\\appdata\\local\\programs\\python\\python310\\lib\\site-packages (from Prophet) (6.1.1)\n",
      "Requirement already satisfied: pandas>=1.0.4 in c:\\users\\camil\\appdata\\local\\programs\\python\\python310\\lib\\site-packages (from Prophet) (2.1.3)\n",
      "Requirement already satisfied: stanio~=0.3.0 in c:\\users\\camil\\appdata\\local\\programs\\python\\python310\\lib\\site-packages (from cmdstanpy>=1.0.4->Prophet) (0.3.0)\n",
      "Requirement already satisfied: python-dateutil in c:\\users\\camil\\appdata\\local\\programs\\python\\python310\\lib\\site-packages (from holidays>=0.25->Prophet) (2.8.2)\n",
      "Requirement already satisfied: kiwisolver>=1.0.1 in c:\\users\\camil\\appdata\\local\\programs\\python\\python310\\lib\\site-packages (from matplotlib>=2.0.0->Prophet) (1.4.4)\n",
      "Requirement already satisfied: packaging>=20.0 in c:\\users\\camil\\appdata\\roaming\\python\\python310\\site-packages (from matplotlib>=2.0.0->Prophet) (23.1)\n",
      "Requirement already satisfied: contourpy>=1.0.1 in c:\\users\\camil\\appdata\\local\\programs\\python\\python310\\lib\\site-packages (from matplotlib>=2.0.0->Prophet) (1.1.0)\n",
      "Requirement already satisfied: cycler>=0.10 in c:\\users\\camil\\appdata\\local\\programs\\python\\python310\\lib\\site-packages (from matplotlib>=2.0.0->Prophet) (0.11.0)\n",
      "Requirement already satisfied: pyparsing>=2.3.1 in c:\\users\\camil\\appdata\\local\\programs\\python\\python310\\lib\\site-packages (from matplotlib>=2.0.0->Prophet) (3.1.0)\n",
      "Requirement already satisfied: pillow>=6.2.0 in c:\\users\\camil\\appdata\\local\\programs\\python\\python310\\lib\\site-packages (from matplotlib>=2.0.0->Prophet) (10.0.0)\n",
      "Requirement already satisfied: fonttools>=4.22.0 in c:\\users\\camil\\appdata\\local\\programs\\python\\python310\\lib\\site-packages (from matplotlib>=2.0.0->Prophet) (4.40.0)\n",
      "Requirement already satisfied: pytz>=2020.1 in c:\\users\\camil\\appdata\\local\\programs\\python\\python310\\lib\\site-packages (from pandas>=1.0.4->Prophet) (2023.3.post1)\n",
      "Requirement already satisfied: tzdata>=2022.1 in c:\\users\\camil\\appdata\\local\\programs\\python\\python310\\lib\\site-packages (from pandas>=1.0.4->Prophet) (2023.3)\n",
      "Requirement already satisfied: six>=1.5 in c:\\users\\camil\\appdata\\local\\programs\\python\\python310\\lib\\site-packages (from python-dateutil->holidays>=0.25->Prophet) (1.16.0)\n",
      "Requirement already satisfied: colorama in c:\\users\\camil\\appdata\\roaming\\python\\python310\\site-packages (from tqdm>=4.36.1->Prophet) (0.4.6)\n"
     ]
    },
    {
     "name": "stderr",
     "output_type": "stream",
     "text": [
      "WARNING: You are using pip version 21.2.3; however, version 24.0 is available.\n",
      "You should consider upgrading via the 'c:\\Users\\camil\\AppData\\Local\\Programs\\Python\\Python310\\python.exe -m pip install --upgrade pip' command.\n"
     ]
    }
   ],
   "source": [
    "pip install Prophet"
   ]
  },
  {
   "cell_type": "code",
   "execution_count": 101,
   "metadata": {},
   "outputs": [],
   "source": [
    "from prophet import Prophet"
   ]
  },
  {
   "cell_type": "code",
   "execution_count": 102,
   "metadata": {},
   "outputs": [],
   "source": [
    "df_prophet = pd.DataFrame() "
   ]
  },
  {
   "cell_type": "code",
   "execution_count": 103,
   "metadata": {},
   "outputs": [],
   "source": [
    "df_prophet['ds'] = combined_df['DATA']\n",
    "df_prophet['y'] = combined_df['VALOR_REEMBOLSADO']\n",
    "df_prophet = df_prophet.reset_index()"
   ]
  },
  {
   "cell_type": "code",
   "execution_count": 104,
   "metadata": {},
   "outputs": [],
   "source": [
    "df_prophet=  df_prophet.drop(columns='index')\n"
   ]
  },
  {
   "cell_type": "code",
   "execution_count": 105,
   "metadata": {},
   "outputs": [],
   "source": [
    "df_prophet = df_prophet.dropna()"
   ]
  },
  {
   "cell_type": "code",
   "execution_count": 106,
   "metadata": {},
   "outputs": [
    {
     "name": "stderr",
     "output_type": "stream",
     "text": [
      "10:51:16 - cmdstanpy - INFO - Chain [1] start processing\n",
      "10:51:34 - cmdstanpy - INFO - Chain [1] done processing\n"
     ]
    },
    {
     "data": {
      "text/plain": [
       "<prophet.forecaster.Prophet at 0x22dfd585660>"
      ]
     },
     "execution_count": 106,
     "metadata": {},
     "output_type": "execute_result"
    }
   ],
   "source": [
    "m = Prophet()\n",
    "m.fit(df_prophet)"
   ]
  },
  {
   "cell_type": "code",
   "execution_count": 107,
   "metadata": {},
   "outputs": [
    {
     "data": {
      "text/html": [
       "<div>\n",
       "<style scoped>\n",
       "    .dataframe tbody tr th:only-of-type {\n",
       "        vertical-align: middle;\n",
       "    }\n",
       "\n",
       "    .dataframe tbody tr th {\n",
       "        vertical-align: top;\n",
       "    }\n",
       "\n",
       "    .dataframe thead th {\n",
       "        text-align: right;\n",
       "    }\n",
       "</style>\n",
       "<table border=\"1\" class=\"dataframe\">\n",
       "  <thead>\n",
       "    <tr style=\"text-align: right;\">\n",
       "      <th></th>\n",
       "      <th>ds</th>\n",
       "    </tr>\n",
       "  </thead>\n",
       "  <tbody>\n",
       "    <tr>\n",
       "      <th>1641</th>\n",
       "      <td>2024-03-18</td>\n",
       "    </tr>\n",
       "    <tr>\n",
       "      <th>1642</th>\n",
       "      <td>2024-03-19</td>\n",
       "    </tr>\n",
       "    <tr>\n",
       "      <th>1643</th>\n",
       "      <td>2024-03-20</td>\n",
       "    </tr>\n",
       "    <tr>\n",
       "      <th>1644</th>\n",
       "      <td>2024-03-21</td>\n",
       "    </tr>\n",
       "    <tr>\n",
       "      <th>1645</th>\n",
       "      <td>2024-03-22</td>\n",
       "    </tr>\n",
       "  </tbody>\n",
       "</table>\n",
       "</div>"
      ],
      "text/plain": [
       "             ds\n",
       "1641 2024-03-18\n",
       "1642 2024-03-19\n",
       "1643 2024-03-20\n",
       "1644 2024-03-21\n",
       "1645 2024-03-22"
      ]
     },
     "execution_count": 107,
     "metadata": {},
     "output_type": "execute_result"
    }
   ],
   "source": [
    "future = m.make_future_dataframe(periods=90) # Predictions are then made on a dataframe with a column ds\n",
    "future.tail()"
   ]
  },
  {
   "cell_type": "code",
   "execution_count": 108,
   "metadata": {},
   "outputs": [
    {
     "data": {
      "text/html": [
       "<div>\n",
       "<style scoped>\n",
       "    .dataframe tbody tr th:only-of-type {\n",
       "        vertical-align: middle;\n",
       "    }\n",
       "\n",
       "    .dataframe tbody tr th {\n",
       "        vertical-align: top;\n",
       "    }\n",
       "\n",
       "    .dataframe thead th {\n",
       "        text-align: right;\n",
       "    }\n",
       "</style>\n",
       "<table border=\"1\" class=\"dataframe\">\n",
       "  <thead>\n",
       "    <tr style=\"text-align: right;\">\n",
       "      <th></th>\n",
       "      <th>ds</th>\n",
       "      <th>yhat</th>\n",
       "      <th>yhat_lower</th>\n",
       "      <th>yhat_upper</th>\n",
       "    </tr>\n",
       "  </thead>\n",
       "  <tbody>\n",
       "    <tr>\n",
       "      <th>1641</th>\n",
       "      <td>2024-03-18</td>\n",
       "      <td>3014.712961</td>\n",
       "      <td>-646.968343</td>\n",
       "      <td>6948.404233</td>\n",
       "    </tr>\n",
       "    <tr>\n",
       "      <th>1642</th>\n",
       "      <td>2024-03-19</td>\n",
       "      <td>2852.745714</td>\n",
       "      <td>-1249.335804</td>\n",
       "      <td>6531.474365</td>\n",
       "    </tr>\n",
       "    <tr>\n",
       "      <th>1643</th>\n",
       "      <td>2024-03-20</td>\n",
       "      <td>2805.171396</td>\n",
       "      <td>-1165.830977</td>\n",
       "      <td>6851.903829</td>\n",
       "    </tr>\n",
       "    <tr>\n",
       "      <th>1644</th>\n",
       "      <td>2024-03-21</td>\n",
       "      <td>2778.712672</td>\n",
       "      <td>-1263.056810</td>\n",
       "      <td>6819.082443</td>\n",
       "    </tr>\n",
       "    <tr>\n",
       "      <th>1645</th>\n",
       "      <td>2024-03-22</td>\n",
       "      <td>2668.042328</td>\n",
       "      <td>-1467.246693</td>\n",
       "      <td>6771.596216</td>\n",
       "    </tr>\n",
       "  </tbody>\n",
       "</table>\n",
       "</div>"
      ],
      "text/plain": [
       "             ds         yhat   yhat_lower   yhat_upper\n",
       "1641 2024-03-18  3014.712961  -646.968343  6948.404233\n",
       "1642 2024-03-19  2852.745714 -1249.335804  6531.474365\n",
       "1643 2024-03-20  2805.171396 -1165.830977  6851.903829\n",
       "1644 2024-03-21  2778.712672 -1263.056810  6819.082443\n",
       "1645 2024-03-22  2668.042328 -1467.246693  6771.596216"
      ]
     },
     "execution_count": 108,
     "metadata": {},
     "output_type": "execute_result"
    }
   ],
   "source": [
    "forecast = m.predict(future)\n",
    "forecast[['ds', 'yhat', 'yhat_lower', 'yhat_upper']].tail()"
   ]
  },
  {
   "cell_type": "code",
   "execution_count": 109,
   "metadata": {},
   "outputs": [
    {
     "data": {
      "text/html": [
       "<div>\n",
       "<style scoped>\n",
       "    .dataframe tbody tr th:only-of-type {\n",
       "        vertical-align: middle;\n",
       "    }\n",
       "\n",
       "    .dataframe tbody tr th {\n",
       "        vertical-align: top;\n",
       "    }\n",
       "\n",
       "    .dataframe thead th {\n",
       "        text-align: right;\n",
       "    }\n",
       "</style>\n",
       "<table border=\"1\" class=\"dataframe\">\n",
       "  <thead>\n",
       "    <tr style=\"text-align: right;\">\n",
       "      <th></th>\n",
       "      <th>ds</th>\n",
       "      <th>trend</th>\n",
       "      <th>yhat_lower</th>\n",
       "      <th>yhat_upper</th>\n",
       "      <th>trend_lower</th>\n",
       "      <th>trend_upper</th>\n",
       "      <th>additive_terms</th>\n",
       "      <th>additive_terms_lower</th>\n",
       "      <th>additive_terms_upper</th>\n",
       "      <th>weekly</th>\n",
       "      <th>weekly_lower</th>\n",
       "      <th>weekly_upper</th>\n",
       "      <th>yearly</th>\n",
       "      <th>yearly_lower</th>\n",
       "      <th>yearly_upper</th>\n",
       "      <th>multiplicative_terms</th>\n",
       "      <th>multiplicative_terms_lower</th>\n",
       "      <th>multiplicative_terms_upper</th>\n",
       "      <th>yhat</th>\n",
       "    </tr>\n",
       "  </thead>\n",
       "  <tbody>\n",
       "    <tr>\n",
       "      <th>0</th>\n",
       "      <td>2000-12-08</td>\n",
       "      <td>3764.196000</td>\n",
       "      <td>273.162096</td>\n",
       "      <td>8111.417887</td>\n",
       "      <td>3764.196000</td>\n",
       "      <td>3764.196000</td>\n",
       "      <td>484.624312</td>\n",
       "      <td>484.624312</td>\n",
       "      <td>484.624312</td>\n",
       "      <td>36.246019</td>\n",
       "      <td>36.246019</td>\n",
       "      <td>36.246019</td>\n",
       "      <td>448.378293</td>\n",
       "      <td>448.378293</td>\n",
       "      <td>448.378293</td>\n",
       "      <td>0.0</td>\n",
       "      <td>0.0</td>\n",
       "      <td>0.0</td>\n",
       "      <td>4248.820312</td>\n",
       "    </tr>\n",
       "    <tr>\n",
       "      <th>1</th>\n",
       "      <td>2002-02-02</td>\n",
       "      <td>3588.715395</td>\n",
       "      <td>-493.959970</td>\n",
       "      <td>7210.669735</td>\n",
       "      <td>3588.715395</td>\n",
       "      <td>3588.715395</td>\n",
       "      <td>-415.539272</td>\n",
       "      <td>-415.539272</td>\n",
       "      <td>-415.539272</td>\n",
       "      <td>-465.878872</td>\n",
       "      <td>-465.878872</td>\n",
       "      <td>-465.878872</td>\n",
       "      <td>50.339600</td>\n",
       "      <td>50.339600</td>\n",
       "      <td>50.339600</td>\n",
       "      <td>0.0</td>\n",
       "      <td>0.0</td>\n",
       "      <td>0.0</td>\n",
       "      <td>3173.176123</td>\n",
       "    </tr>\n",
       "    <tr>\n",
       "      <th>2</th>\n",
       "      <td>2002-02-11</td>\n",
       "      <td>3584.964029</td>\n",
       "      <td>245.645399</td>\n",
       "      <td>7934.865769</td>\n",
       "      <td>3584.964029</td>\n",
       "      <td>3584.964029</td>\n",
       "      <td>319.022424</td>\n",
       "      <td>319.022424</td>\n",
       "      <td>319.022424</td>\n",
       "      <td>362.742183</td>\n",
       "      <td>362.742183</td>\n",
       "      <td>362.742183</td>\n",
       "      <td>-43.719760</td>\n",
       "      <td>-43.719760</td>\n",
       "      <td>-43.719760</td>\n",
       "      <td>0.0</td>\n",
       "      <td>0.0</td>\n",
       "      <td>0.0</td>\n",
       "      <td>3903.986452</td>\n",
       "    </tr>\n",
       "    <tr>\n",
       "      <th>3</th>\n",
       "      <td>2002-02-19</td>\n",
       "      <td>3581.629480</td>\n",
       "      <td>-3.167349</td>\n",
       "      <td>7763.916277</td>\n",
       "      <td>3581.629480</td>\n",
       "      <td>3581.629480</td>\n",
       "      <td>95.852599</td>\n",
       "      <td>95.852599</td>\n",
       "      <td>95.852599</td>\n",
       "      <td>205.091148</td>\n",
       "      <td>205.091148</td>\n",
       "      <td>205.091148</td>\n",
       "      <td>-109.238549</td>\n",
       "      <td>-109.238549</td>\n",
       "      <td>-109.238549</td>\n",
       "      <td>0.0</td>\n",
       "      <td>0.0</td>\n",
       "      <td>0.0</td>\n",
       "      <td>3677.482079</td>\n",
       "    </tr>\n",
       "    <tr>\n",
       "      <th>4</th>\n",
       "      <td>2002-03-14</td>\n",
       "      <td>3572.042654</td>\n",
       "      <td>-11.733391</td>\n",
       "      <td>7787.638745</td>\n",
       "      <td>3572.042654</td>\n",
       "      <td>3572.042654</td>\n",
       "      <td>282.309497</td>\n",
       "      <td>282.309497</td>\n",
       "      <td>282.309497</td>\n",
       "      <td>141.358560</td>\n",
       "      <td>141.358560</td>\n",
       "      <td>141.358560</td>\n",
       "      <td>140.950937</td>\n",
       "      <td>140.950937</td>\n",
       "      <td>140.950937</td>\n",
       "      <td>0.0</td>\n",
       "      <td>0.0</td>\n",
       "      <td>0.0</td>\n",
       "      <td>3854.352151</td>\n",
       "    </tr>\n",
       "    <tr>\n",
       "      <th>...</th>\n",
       "      <td>...</td>\n",
       "      <td>...</td>\n",
       "      <td>...</td>\n",
       "      <td>...</td>\n",
       "      <td>...</td>\n",
       "      <td>...</td>\n",
       "      <td>...</td>\n",
       "      <td>...</td>\n",
       "      <td>...</td>\n",
       "      <td>...</td>\n",
       "      <td>...</td>\n",
       "      <td>...</td>\n",
       "      <td>...</td>\n",
       "      <td>...</td>\n",
       "      <td>...</td>\n",
       "      <td>...</td>\n",
       "      <td>...</td>\n",
       "      <td>...</td>\n",
       "      <td>...</td>\n",
       "    </tr>\n",
       "    <tr>\n",
       "      <th>1641</th>\n",
       "      <td>2024-03-18</td>\n",
       "      <td>2523.895195</td>\n",
       "      <td>-646.968343</td>\n",
       "      <td>6948.404233</td>\n",
       "      <td>2523.346676</td>\n",
       "      <td>2524.514420</td>\n",
       "      <td>490.817766</td>\n",
       "      <td>490.817766</td>\n",
       "      <td>490.817766</td>\n",
       "      <td>362.742183</td>\n",
       "      <td>362.742183</td>\n",
       "      <td>362.742183</td>\n",
       "      <td>128.075583</td>\n",
       "      <td>128.075583</td>\n",
       "      <td>128.075583</td>\n",
       "      <td>0.0</td>\n",
       "      <td>0.0</td>\n",
       "      <td>0.0</td>\n",
       "      <td>3014.712961</td>\n",
       "    </tr>\n",
       "    <tr>\n",
       "      <th>1642</th>\n",
       "      <td>2024-03-19</td>\n",
       "      <td>2525.435751</td>\n",
       "      <td>-1249.335804</td>\n",
       "      <td>6531.474365</td>\n",
       "      <td>2524.809681</td>\n",
       "      <td>2526.079101</td>\n",
       "      <td>327.309962</td>\n",
       "      <td>327.309962</td>\n",
       "      <td>327.309962</td>\n",
       "      <td>205.091148</td>\n",
       "      <td>205.091148</td>\n",
       "      <td>205.091148</td>\n",
       "      <td>122.218815</td>\n",
       "      <td>122.218815</td>\n",
       "      <td>122.218815</td>\n",
       "      <td>0.0</td>\n",
       "      <td>0.0</td>\n",
       "      <td>0.0</td>\n",
       "      <td>2852.745714</td>\n",
       "    </tr>\n",
       "    <tr>\n",
       "      <th>1643</th>\n",
       "      <td>2024-03-20</td>\n",
       "      <td>2526.976307</td>\n",
       "      <td>-1165.830977</td>\n",
       "      <td>6851.903829</td>\n",
       "      <td>2526.321963</td>\n",
       "      <td>2527.681076</td>\n",
       "      <td>278.195089</td>\n",
       "      <td>278.195089</td>\n",
       "      <td>278.195089</td>\n",
       "      <td>162.461586</td>\n",
       "      <td>162.461586</td>\n",
       "      <td>162.461586</td>\n",
       "      <td>115.733503</td>\n",
       "      <td>115.733503</td>\n",
       "      <td>115.733503</td>\n",
       "      <td>0.0</td>\n",
       "      <td>0.0</td>\n",
       "      <td>0.0</td>\n",
       "      <td>2805.171396</td>\n",
       "    </tr>\n",
       "    <tr>\n",
       "      <th>1644</th>\n",
       "      <td>2024-03-21</td>\n",
       "      <td>2528.516863</td>\n",
       "      <td>-1263.056810</td>\n",
       "      <td>6819.082443</td>\n",
       "      <td>2527.834572</td>\n",
       "      <td>2529.297497</td>\n",
       "      <td>250.195809</td>\n",
       "      <td>250.195809</td>\n",
       "      <td>250.195809</td>\n",
       "      <td>141.358560</td>\n",
       "      <td>141.358560</td>\n",
       "      <td>141.358560</td>\n",
       "      <td>108.837249</td>\n",
       "      <td>108.837249</td>\n",
       "      <td>108.837249</td>\n",
       "      <td>0.0</td>\n",
       "      <td>0.0</td>\n",
       "      <td>0.0</td>\n",
       "      <td>2778.712672</td>\n",
       "    </tr>\n",
       "    <tr>\n",
       "      <th>1645</th>\n",
       "      <td>2024-03-22</td>\n",
       "      <td>2530.057419</td>\n",
       "      <td>-1467.246693</td>\n",
       "      <td>6771.596216</td>\n",
       "      <td>2529.310902</td>\n",
       "      <td>2530.927898</td>\n",
       "      <td>137.984908</td>\n",
       "      <td>137.984908</td>\n",
       "      <td>137.984908</td>\n",
       "      <td>36.246019</td>\n",
       "      <td>36.246019</td>\n",
       "      <td>36.246019</td>\n",
       "      <td>101.738889</td>\n",
       "      <td>101.738889</td>\n",
       "      <td>101.738889</td>\n",
       "      <td>0.0</td>\n",
       "      <td>0.0</td>\n",
       "      <td>0.0</td>\n",
       "      <td>2668.042328</td>\n",
       "    </tr>\n",
       "  </tbody>\n",
       "</table>\n",
       "<p>1646 rows × 19 columns</p>\n",
       "</div>"
      ],
      "text/plain": [
       "             ds        trend   yhat_lower   yhat_upper  trend_lower  \\\n",
       "0    2000-12-08  3764.196000   273.162096  8111.417887  3764.196000   \n",
       "1    2002-02-02  3588.715395  -493.959970  7210.669735  3588.715395   \n",
       "2    2002-02-11  3584.964029   245.645399  7934.865769  3584.964029   \n",
       "3    2002-02-19  3581.629480    -3.167349  7763.916277  3581.629480   \n",
       "4    2002-03-14  3572.042654   -11.733391  7787.638745  3572.042654   \n",
       "...         ...          ...          ...          ...          ...   \n",
       "1641 2024-03-18  2523.895195  -646.968343  6948.404233  2523.346676   \n",
       "1642 2024-03-19  2525.435751 -1249.335804  6531.474365  2524.809681   \n",
       "1643 2024-03-20  2526.976307 -1165.830977  6851.903829  2526.321963   \n",
       "1644 2024-03-21  2528.516863 -1263.056810  6819.082443  2527.834572   \n",
       "1645 2024-03-22  2530.057419 -1467.246693  6771.596216  2529.310902   \n",
       "\n",
       "      trend_upper  additive_terms  additive_terms_lower  additive_terms_upper  \\\n",
       "0     3764.196000      484.624312            484.624312            484.624312   \n",
       "1     3588.715395     -415.539272           -415.539272           -415.539272   \n",
       "2     3584.964029      319.022424            319.022424            319.022424   \n",
       "3     3581.629480       95.852599             95.852599             95.852599   \n",
       "4     3572.042654      282.309497            282.309497            282.309497   \n",
       "...           ...             ...                   ...                   ...   \n",
       "1641  2524.514420      490.817766            490.817766            490.817766   \n",
       "1642  2526.079101      327.309962            327.309962            327.309962   \n",
       "1643  2527.681076      278.195089            278.195089            278.195089   \n",
       "1644  2529.297497      250.195809            250.195809            250.195809   \n",
       "1645  2530.927898      137.984908            137.984908            137.984908   \n",
       "\n",
       "          weekly  weekly_lower  weekly_upper      yearly  yearly_lower  \\\n",
       "0      36.246019     36.246019     36.246019  448.378293    448.378293   \n",
       "1    -465.878872   -465.878872   -465.878872   50.339600     50.339600   \n",
       "2     362.742183    362.742183    362.742183  -43.719760    -43.719760   \n",
       "3     205.091148    205.091148    205.091148 -109.238549   -109.238549   \n",
       "4     141.358560    141.358560    141.358560  140.950937    140.950937   \n",
       "...          ...           ...           ...         ...           ...   \n",
       "1641  362.742183    362.742183    362.742183  128.075583    128.075583   \n",
       "1642  205.091148    205.091148    205.091148  122.218815    122.218815   \n",
       "1643  162.461586    162.461586    162.461586  115.733503    115.733503   \n",
       "1644  141.358560    141.358560    141.358560  108.837249    108.837249   \n",
       "1645   36.246019     36.246019     36.246019  101.738889    101.738889   \n",
       "\n",
       "      yearly_upper  multiplicative_terms  multiplicative_terms_lower  \\\n",
       "0       448.378293                   0.0                         0.0   \n",
       "1        50.339600                   0.0                         0.0   \n",
       "2       -43.719760                   0.0                         0.0   \n",
       "3      -109.238549                   0.0                         0.0   \n",
       "4       140.950937                   0.0                         0.0   \n",
       "...            ...                   ...                         ...   \n",
       "1641    128.075583                   0.0                         0.0   \n",
       "1642    122.218815                   0.0                         0.0   \n",
       "1643    115.733503                   0.0                         0.0   \n",
       "1644    108.837249                   0.0                         0.0   \n",
       "1645    101.738889                   0.0                         0.0   \n",
       "\n",
       "      multiplicative_terms_upper         yhat  \n",
       "0                            0.0  4248.820312  \n",
       "1                            0.0  3173.176123  \n",
       "2                            0.0  3903.986452  \n",
       "3                            0.0  3677.482079  \n",
       "4                            0.0  3854.352151  \n",
       "...                          ...          ...  \n",
       "1641                         0.0  3014.712961  \n",
       "1642                         0.0  2852.745714  \n",
       "1643                         0.0  2805.171396  \n",
       "1644                         0.0  2778.712672  \n",
       "1645                         0.0  2668.042328  \n",
       "\n",
       "[1646 rows x 19 columns]"
      ]
     },
     "execution_count": 109,
     "metadata": {},
     "output_type": "execute_result"
    }
   ],
   "source": [
    "forecast"
   ]
  },
  {
   "cell_type": "code",
   "execution_count": 110,
   "metadata": {},
   "outputs": [],
   "source": [
    "forecast['MES'] = pd.to_datetime(forecast['ds'], format='%d/%m/%Y').dt.month\n",
    "forecast['ANO'] = pd.to_datetime(forecast['ds'], format='%d/%m/%Y').dt.year"
   ]
  },
  {
   "cell_type": "code",
   "execution_count": 111,
   "metadata": {},
   "outputs": [
    {
     "data": {
      "text/html": [
       "<div>\n",
       "<style scoped>\n",
       "    .dataframe tbody tr th:only-of-type {\n",
       "        vertical-align: middle;\n",
       "    }\n",
       "\n",
       "    .dataframe tbody tr th {\n",
       "        vertical-align: top;\n",
       "    }\n",
       "\n",
       "    .dataframe thead th {\n",
       "        text-align: right;\n",
       "    }\n",
       "</style>\n",
       "<table border=\"1\" class=\"dataframe\">\n",
       "  <thead>\n",
       "    <tr style=\"text-align: right;\">\n",
       "      <th></th>\n",
       "      <th>ds</th>\n",
       "      <th>trend</th>\n",
       "      <th>yhat_lower</th>\n",
       "      <th>yhat_upper</th>\n",
       "      <th>trend_lower</th>\n",
       "      <th>trend_upper</th>\n",
       "      <th>additive_terms</th>\n",
       "      <th>additive_terms_lower</th>\n",
       "      <th>additive_terms_upper</th>\n",
       "      <th>weekly</th>\n",
       "      <th>...</th>\n",
       "      <th>weekly_upper</th>\n",
       "      <th>yearly</th>\n",
       "      <th>yearly_lower</th>\n",
       "      <th>yearly_upper</th>\n",
       "      <th>multiplicative_terms</th>\n",
       "      <th>multiplicative_terms_lower</th>\n",
       "      <th>multiplicative_terms_upper</th>\n",
       "      <th>yhat</th>\n",
       "      <th>MES</th>\n",
       "      <th>ANO</th>\n",
       "    </tr>\n",
       "  </thead>\n",
       "  <tbody>\n",
       "    <tr>\n",
       "      <th>0</th>\n",
       "      <td>2000-12-08</td>\n",
       "      <td>3764.196000</td>\n",
       "      <td>273.162096</td>\n",
       "      <td>8111.417887</td>\n",
       "      <td>3764.196000</td>\n",
       "      <td>3764.196000</td>\n",
       "      <td>484.624312</td>\n",
       "      <td>484.624312</td>\n",
       "      <td>484.624312</td>\n",
       "      <td>36.246019</td>\n",
       "      <td>...</td>\n",
       "      <td>36.246019</td>\n",
       "      <td>448.378293</td>\n",
       "      <td>448.378293</td>\n",
       "      <td>448.378293</td>\n",
       "      <td>0.0</td>\n",
       "      <td>0.0</td>\n",
       "      <td>0.0</td>\n",
       "      <td>4248.820312</td>\n",
       "      <td>12</td>\n",
       "      <td>2000</td>\n",
       "    </tr>\n",
       "    <tr>\n",
       "      <th>1</th>\n",
       "      <td>2002-02-02</td>\n",
       "      <td>3588.715395</td>\n",
       "      <td>-493.959970</td>\n",
       "      <td>7210.669735</td>\n",
       "      <td>3588.715395</td>\n",
       "      <td>3588.715395</td>\n",
       "      <td>-415.539272</td>\n",
       "      <td>-415.539272</td>\n",
       "      <td>-415.539272</td>\n",
       "      <td>-465.878872</td>\n",
       "      <td>...</td>\n",
       "      <td>-465.878872</td>\n",
       "      <td>50.339600</td>\n",
       "      <td>50.339600</td>\n",
       "      <td>50.339600</td>\n",
       "      <td>0.0</td>\n",
       "      <td>0.0</td>\n",
       "      <td>0.0</td>\n",
       "      <td>3173.176123</td>\n",
       "      <td>2</td>\n",
       "      <td>2002</td>\n",
       "    </tr>\n",
       "    <tr>\n",
       "      <th>2</th>\n",
       "      <td>2002-02-11</td>\n",
       "      <td>3584.964029</td>\n",
       "      <td>245.645399</td>\n",
       "      <td>7934.865769</td>\n",
       "      <td>3584.964029</td>\n",
       "      <td>3584.964029</td>\n",
       "      <td>319.022424</td>\n",
       "      <td>319.022424</td>\n",
       "      <td>319.022424</td>\n",
       "      <td>362.742183</td>\n",
       "      <td>...</td>\n",
       "      <td>362.742183</td>\n",
       "      <td>-43.719760</td>\n",
       "      <td>-43.719760</td>\n",
       "      <td>-43.719760</td>\n",
       "      <td>0.0</td>\n",
       "      <td>0.0</td>\n",
       "      <td>0.0</td>\n",
       "      <td>3903.986452</td>\n",
       "      <td>2</td>\n",
       "      <td>2002</td>\n",
       "    </tr>\n",
       "    <tr>\n",
       "      <th>3</th>\n",
       "      <td>2002-02-19</td>\n",
       "      <td>3581.629480</td>\n",
       "      <td>-3.167349</td>\n",
       "      <td>7763.916277</td>\n",
       "      <td>3581.629480</td>\n",
       "      <td>3581.629480</td>\n",
       "      <td>95.852599</td>\n",
       "      <td>95.852599</td>\n",
       "      <td>95.852599</td>\n",
       "      <td>205.091148</td>\n",
       "      <td>...</td>\n",
       "      <td>205.091148</td>\n",
       "      <td>-109.238549</td>\n",
       "      <td>-109.238549</td>\n",
       "      <td>-109.238549</td>\n",
       "      <td>0.0</td>\n",
       "      <td>0.0</td>\n",
       "      <td>0.0</td>\n",
       "      <td>3677.482079</td>\n",
       "      <td>2</td>\n",
       "      <td>2002</td>\n",
       "    </tr>\n",
       "    <tr>\n",
       "      <th>4</th>\n",
       "      <td>2002-03-14</td>\n",
       "      <td>3572.042654</td>\n",
       "      <td>-11.733391</td>\n",
       "      <td>7787.638745</td>\n",
       "      <td>3572.042654</td>\n",
       "      <td>3572.042654</td>\n",
       "      <td>282.309497</td>\n",
       "      <td>282.309497</td>\n",
       "      <td>282.309497</td>\n",
       "      <td>141.358560</td>\n",
       "      <td>...</td>\n",
       "      <td>141.358560</td>\n",
       "      <td>140.950937</td>\n",
       "      <td>140.950937</td>\n",
       "      <td>140.950937</td>\n",
       "      <td>0.0</td>\n",
       "      <td>0.0</td>\n",
       "      <td>0.0</td>\n",
       "      <td>3854.352151</td>\n",
       "      <td>3</td>\n",
       "      <td>2002</td>\n",
       "    </tr>\n",
       "    <tr>\n",
       "      <th>...</th>\n",
       "      <td>...</td>\n",
       "      <td>...</td>\n",
       "      <td>...</td>\n",
       "      <td>...</td>\n",
       "      <td>...</td>\n",
       "      <td>...</td>\n",
       "      <td>...</td>\n",
       "      <td>...</td>\n",
       "      <td>...</td>\n",
       "      <td>...</td>\n",
       "      <td>...</td>\n",
       "      <td>...</td>\n",
       "      <td>...</td>\n",
       "      <td>...</td>\n",
       "      <td>...</td>\n",
       "      <td>...</td>\n",
       "      <td>...</td>\n",
       "      <td>...</td>\n",
       "      <td>...</td>\n",
       "      <td>...</td>\n",
       "      <td>...</td>\n",
       "    </tr>\n",
       "    <tr>\n",
       "      <th>1641</th>\n",
       "      <td>2024-03-18</td>\n",
       "      <td>2523.895195</td>\n",
       "      <td>-646.968343</td>\n",
       "      <td>6948.404233</td>\n",
       "      <td>2523.346676</td>\n",
       "      <td>2524.514420</td>\n",
       "      <td>490.817766</td>\n",
       "      <td>490.817766</td>\n",
       "      <td>490.817766</td>\n",
       "      <td>362.742183</td>\n",
       "      <td>...</td>\n",
       "      <td>362.742183</td>\n",
       "      <td>128.075583</td>\n",
       "      <td>128.075583</td>\n",
       "      <td>128.075583</td>\n",
       "      <td>0.0</td>\n",
       "      <td>0.0</td>\n",
       "      <td>0.0</td>\n",
       "      <td>3014.712961</td>\n",
       "      <td>3</td>\n",
       "      <td>2024</td>\n",
       "    </tr>\n",
       "    <tr>\n",
       "      <th>1642</th>\n",
       "      <td>2024-03-19</td>\n",
       "      <td>2525.435751</td>\n",
       "      <td>-1249.335804</td>\n",
       "      <td>6531.474365</td>\n",
       "      <td>2524.809681</td>\n",
       "      <td>2526.079101</td>\n",
       "      <td>327.309962</td>\n",
       "      <td>327.309962</td>\n",
       "      <td>327.309962</td>\n",
       "      <td>205.091148</td>\n",
       "      <td>...</td>\n",
       "      <td>205.091148</td>\n",
       "      <td>122.218815</td>\n",
       "      <td>122.218815</td>\n",
       "      <td>122.218815</td>\n",
       "      <td>0.0</td>\n",
       "      <td>0.0</td>\n",
       "      <td>0.0</td>\n",
       "      <td>2852.745714</td>\n",
       "      <td>3</td>\n",
       "      <td>2024</td>\n",
       "    </tr>\n",
       "    <tr>\n",
       "      <th>1643</th>\n",
       "      <td>2024-03-20</td>\n",
       "      <td>2526.976307</td>\n",
       "      <td>-1165.830977</td>\n",
       "      <td>6851.903829</td>\n",
       "      <td>2526.321963</td>\n",
       "      <td>2527.681076</td>\n",
       "      <td>278.195089</td>\n",
       "      <td>278.195089</td>\n",
       "      <td>278.195089</td>\n",
       "      <td>162.461586</td>\n",
       "      <td>...</td>\n",
       "      <td>162.461586</td>\n",
       "      <td>115.733503</td>\n",
       "      <td>115.733503</td>\n",
       "      <td>115.733503</td>\n",
       "      <td>0.0</td>\n",
       "      <td>0.0</td>\n",
       "      <td>0.0</td>\n",
       "      <td>2805.171396</td>\n",
       "      <td>3</td>\n",
       "      <td>2024</td>\n",
       "    </tr>\n",
       "    <tr>\n",
       "      <th>1644</th>\n",
       "      <td>2024-03-21</td>\n",
       "      <td>2528.516863</td>\n",
       "      <td>-1263.056810</td>\n",
       "      <td>6819.082443</td>\n",
       "      <td>2527.834572</td>\n",
       "      <td>2529.297497</td>\n",
       "      <td>250.195809</td>\n",
       "      <td>250.195809</td>\n",
       "      <td>250.195809</td>\n",
       "      <td>141.358560</td>\n",
       "      <td>...</td>\n",
       "      <td>141.358560</td>\n",
       "      <td>108.837249</td>\n",
       "      <td>108.837249</td>\n",
       "      <td>108.837249</td>\n",
       "      <td>0.0</td>\n",
       "      <td>0.0</td>\n",
       "      <td>0.0</td>\n",
       "      <td>2778.712672</td>\n",
       "      <td>3</td>\n",
       "      <td>2024</td>\n",
       "    </tr>\n",
       "    <tr>\n",
       "      <th>1645</th>\n",
       "      <td>2024-03-22</td>\n",
       "      <td>2530.057419</td>\n",
       "      <td>-1467.246693</td>\n",
       "      <td>6771.596216</td>\n",
       "      <td>2529.310902</td>\n",
       "      <td>2530.927898</td>\n",
       "      <td>137.984908</td>\n",
       "      <td>137.984908</td>\n",
       "      <td>137.984908</td>\n",
       "      <td>36.246019</td>\n",
       "      <td>...</td>\n",
       "      <td>36.246019</td>\n",
       "      <td>101.738889</td>\n",
       "      <td>101.738889</td>\n",
       "      <td>101.738889</td>\n",
       "      <td>0.0</td>\n",
       "      <td>0.0</td>\n",
       "      <td>0.0</td>\n",
       "      <td>2668.042328</td>\n",
       "      <td>3</td>\n",
       "      <td>2024</td>\n",
       "    </tr>\n",
       "  </tbody>\n",
       "</table>\n",
       "<p>1646 rows × 21 columns</p>\n",
       "</div>"
      ],
      "text/plain": [
       "             ds        trend   yhat_lower   yhat_upper  trend_lower  \\\n",
       "0    2000-12-08  3764.196000   273.162096  8111.417887  3764.196000   \n",
       "1    2002-02-02  3588.715395  -493.959970  7210.669735  3588.715395   \n",
       "2    2002-02-11  3584.964029   245.645399  7934.865769  3584.964029   \n",
       "3    2002-02-19  3581.629480    -3.167349  7763.916277  3581.629480   \n",
       "4    2002-03-14  3572.042654   -11.733391  7787.638745  3572.042654   \n",
       "...         ...          ...          ...          ...          ...   \n",
       "1641 2024-03-18  2523.895195  -646.968343  6948.404233  2523.346676   \n",
       "1642 2024-03-19  2525.435751 -1249.335804  6531.474365  2524.809681   \n",
       "1643 2024-03-20  2526.976307 -1165.830977  6851.903829  2526.321963   \n",
       "1644 2024-03-21  2528.516863 -1263.056810  6819.082443  2527.834572   \n",
       "1645 2024-03-22  2530.057419 -1467.246693  6771.596216  2529.310902   \n",
       "\n",
       "      trend_upper  additive_terms  additive_terms_lower  additive_terms_upper  \\\n",
       "0     3764.196000      484.624312            484.624312            484.624312   \n",
       "1     3588.715395     -415.539272           -415.539272           -415.539272   \n",
       "2     3584.964029      319.022424            319.022424            319.022424   \n",
       "3     3581.629480       95.852599             95.852599             95.852599   \n",
       "4     3572.042654      282.309497            282.309497            282.309497   \n",
       "...           ...             ...                   ...                   ...   \n",
       "1641  2524.514420      490.817766            490.817766            490.817766   \n",
       "1642  2526.079101      327.309962            327.309962            327.309962   \n",
       "1643  2527.681076      278.195089            278.195089            278.195089   \n",
       "1644  2529.297497      250.195809            250.195809            250.195809   \n",
       "1645  2530.927898      137.984908            137.984908            137.984908   \n",
       "\n",
       "          weekly  ...  weekly_upper      yearly  yearly_lower  yearly_upper  \\\n",
       "0      36.246019  ...     36.246019  448.378293    448.378293    448.378293   \n",
       "1    -465.878872  ...   -465.878872   50.339600     50.339600     50.339600   \n",
       "2     362.742183  ...    362.742183  -43.719760    -43.719760    -43.719760   \n",
       "3     205.091148  ...    205.091148 -109.238549   -109.238549   -109.238549   \n",
       "4     141.358560  ...    141.358560  140.950937    140.950937    140.950937   \n",
       "...          ...  ...           ...         ...           ...           ...   \n",
       "1641  362.742183  ...    362.742183  128.075583    128.075583    128.075583   \n",
       "1642  205.091148  ...    205.091148  122.218815    122.218815    122.218815   \n",
       "1643  162.461586  ...    162.461586  115.733503    115.733503    115.733503   \n",
       "1644  141.358560  ...    141.358560  108.837249    108.837249    108.837249   \n",
       "1645   36.246019  ...     36.246019  101.738889    101.738889    101.738889   \n",
       "\n",
       "      multiplicative_terms  multiplicative_terms_lower  \\\n",
       "0                      0.0                         0.0   \n",
       "1                      0.0                         0.0   \n",
       "2                      0.0                         0.0   \n",
       "3                      0.0                         0.0   \n",
       "4                      0.0                         0.0   \n",
       "...                    ...                         ...   \n",
       "1641                   0.0                         0.0   \n",
       "1642                   0.0                         0.0   \n",
       "1643                   0.0                         0.0   \n",
       "1644                   0.0                         0.0   \n",
       "1645                   0.0                         0.0   \n",
       "\n",
       "      multiplicative_terms_upper         yhat  MES   ANO  \n",
       "0                            0.0  4248.820312   12  2000  \n",
       "1                            0.0  3173.176123    2  2002  \n",
       "2                            0.0  3903.986452    2  2002  \n",
       "3                            0.0  3677.482079    2  2002  \n",
       "4                            0.0  3854.352151    3  2002  \n",
       "...                          ...          ...  ...   ...  \n",
       "1641                         0.0  3014.712961    3  2024  \n",
       "1642                         0.0  2852.745714    3  2024  \n",
       "1643                         0.0  2805.171396    3  2024  \n",
       "1644                         0.0  2778.712672    3  2024  \n",
       "1645                         0.0  2668.042328    3  2024  \n",
       "\n",
       "[1646 rows x 21 columns]"
      ]
     },
     "execution_count": 111,
     "metadata": {},
     "output_type": "execute_result"
    }
   ],
   "source": [
    "forecast"
   ]
  },
  {
   "cell_type": "code",
   "execution_count": 112,
   "metadata": {},
   "outputs": [],
   "source": [
    "next_two = [2023,2024]\n",
    "prophet_predict = forecast.loc[forecast['ANO'].isin(next_two)]"
   ]
  },
  {
   "cell_type": "code",
   "execution_count": 113,
   "metadata": {},
   "outputs": [
    {
     "data": {
      "text/html": [
       "<div>\n",
       "<style scoped>\n",
       "    .dataframe tbody tr th:only-of-type {\n",
       "        vertical-align: middle;\n",
       "    }\n",
       "\n",
       "    .dataframe tbody tr th {\n",
       "        vertical-align: top;\n",
       "    }\n",
       "\n",
       "    .dataframe thead th {\n",
       "        text-align: right;\n",
       "    }\n",
       "</style>\n",
       "<table border=\"1\" class=\"dataframe\">\n",
       "  <thead>\n",
       "    <tr style=\"text-align: right;\">\n",
       "      <th></th>\n",
       "      <th>ds</th>\n",
       "      <th>trend</th>\n",
       "      <th>yhat_lower</th>\n",
       "      <th>yhat_upper</th>\n",
       "      <th>trend_lower</th>\n",
       "      <th>trend_upper</th>\n",
       "      <th>additive_terms</th>\n",
       "      <th>additive_terms_lower</th>\n",
       "      <th>additive_terms_upper</th>\n",
       "      <th>weekly</th>\n",
       "      <th>...</th>\n",
       "      <th>weekly_upper</th>\n",
       "      <th>yearly</th>\n",
       "      <th>yearly_lower</th>\n",
       "      <th>yearly_upper</th>\n",
       "      <th>multiplicative_terms</th>\n",
       "      <th>multiplicative_terms_lower</th>\n",
       "      <th>multiplicative_terms_upper</th>\n",
       "      <th>yhat</th>\n",
       "      <th>MES</th>\n",
       "      <th>ANO</th>\n",
       "    </tr>\n",
       "  </thead>\n",
       "  <tbody>\n",
       "    <tr>\n",
       "      <th>1523</th>\n",
       "      <td>2023-01-01</td>\n",
       "      <td>1842.969415</td>\n",
       "      <td>-2094.429831</td>\n",
       "      <td>5876.026520</td>\n",
       "      <td>1842.969415</td>\n",
       "      <td>1842.969415</td>\n",
       "      <td>-38.504114</td>\n",
       "      <td>-38.504114</td>\n",
       "      <td>-38.504114</td>\n",
       "      <td>-442.020624</td>\n",
       "      <td>...</td>\n",
       "      <td>-442.020624</td>\n",
       "      <td>403.516510</td>\n",
       "      <td>403.516510</td>\n",
       "      <td>403.516510</td>\n",
       "      <td>0.0</td>\n",
       "      <td>0.0</td>\n",
       "      <td>0.0</td>\n",
       "      <td>1804.465301</td>\n",
       "      <td>1</td>\n",
       "      <td>2023</td>\n",
       "    </tr>\n",
       "    <tr>\n",
       "      <th>1524</th>\n",
       "      <td>2023-01-02</td>\n",
       "      <td>1844.509971</td>\n",
       "      <td>-1328.027549</td>\n",
       "      <td>6667.322890</td>\n",
       "      <td>1844.509971</td>\n",
       "      <td>1844.509971</td>\n",
       "      <td>713.805277</td>\n",
       "      <td>713.805277</td>\n",
       "      <td>713.805277</td>\n",
       "      <td>362.742183</td>\n",
       "      <td>...</td>\n",
       "      <td>362.742183</td>\n",
       "      <td>351.063094</td>\n",
       "      <td>351.063094</td>\n",
       "      <td>351.063094</td>\n",
       "      <td>0.0</td>\n",
       "      <td>0.0</td>\n",
       "      <td>0.0</td>\n",
       "      <td>2558.315248</td>\n",
       "      <td>1</td>\n",
       "      <td>2023</td>\n",
       "    </tr>\n",
       "    <tr>\n",
       "      <th>1525</th>\n",
       "      <td>2023-01-03</td>\n",
       "      <td>1846.050527</td>\n",
       "      <td>-1545.242856</td>\n",
       "      <td>6263.083124</td>\n",
       "      <td>1846.050527</td>\n",
       "      <td>1846.050527</td>\n",
       "      <td>503.783956</td>\n",
       "      <td>503.783956</td>\n",
       "      <td>503.783956</td>\n",
       "      <td>205.091148</td>\n",
       "      <td>...</td>\n",
       "      <td>205.091148</td>\n",
       "      <td>298.692808</td>\n",
       "      <td>298.692808</td>\n",
       "      <td>298.692808</td>\n",
       "      <td>0.0</td>\n",
       "      <td>0.0</td>\n",
       "      <td>0.0</td>\n",
       "      <td>2349.834483</td>\n",
       "      <td>1</td>\n",
       "      <td>2023</td>\n",
       "    </tr>\n",
       "    <tr>\n",
       "      <th>1526</th>\n",
       "      <td>2023-01-04</td>\n",
       "      <td>1847.591083</td>\n",
       "      <td>-1719.406375</td>\n",
       "      <td>5984.087616</td>\n",
       "      <td>1847.591083</td>\n",
       "      <td>1847.591083</td>\n",
       "      <td>409.654964</td>\n",
       "      <td>409.654964</td>\n",
       "      <td>409.654964</td>\n",
       "      <td>162.461586</td>\n",
       "      <td>...</td>\n",
       "      <td>162.461586</td>\n",
       "      <td>247.193378</td>\n",
       "      <td>247.193378</td>\n",
       "      <td>247.193378</td>\n",
       "      <td>0.0</td>\n",
       "      <td>0.0</td>\n",
       "      <td>0.0</td>\n",
       "      <td>2257.246047</td>\n",
       "      <td>1</td>\n",
       "      <td>2023</td>\n",
       "    </tr>\n",
       "    <tr>\n",
       "      <th>1527</th>\n",
       "      <td>2023-01-05</td>\n",
       "      <td>1849.131639</td>\n",
       "      <td>-1791.493671</td>\n",
       "      <td>5866.056184</td>\n",
       "      <td>1849.131639</td>\n",
       "      <td>1849.131639</td>\n",
       "      <td>338.677336</td>\n",
       "      <td>338.677336</td>\n",
       "      <td>338.677336</td>\n",
       "      <td>141.358560</td>\n",
       "      <td>...</td>\n",
       "      <td>141.358560</td>\n",
       "      <td>197.318776</td>\n",
       "      <td>197.318776</td>\n",
       "      <td>197.318776</td>\n",
       "      <td>0.0</td>\n",
       "      <td>0.0</td>\n",
       "      <td>0.0</td>\n",
       "      <td>2187.808976</td>\n",
       "      <td>1</td>\n",
       "      <td>2023</td>\n",
       "    </tr>\n",
       "    <tr>\n",
       "      <th>...</th>\n",
       "      <td>...</td>\n",
       "      <td>...</td>\n",
       "      <td>...</td>\n",
       "      <td>...</td>\n",
       "      <td>...</td>\n",
       "      <td>...</td>\n",
       "      <td>...</td>\n",
       "      <td>...</td>\n",
       "      <td>...</td>\n",
       "      <td>...</td>\n",
       "      <td>...</td>\n",
       "      <td>...</td>\n",
       "      <td>...</td>\n",
       "      <td>...</td>\n",
       "      <td>...</td>\n",
       "      <td>...</td>\n",
       "      <td>...</td>\n",
       "      <td>...</td>\n",
       "      <td>...</td>\n",
       "      <td>...</td>\n",
       "      <td>...</td>\n",
       "    </tr>\n",
       "    <tr>\n",
       "      <th>1641</th>\n",
       "      <td>2024-03-18</td>\n",
       "      <td>2523.895195</td>\n",
       "      <td>-646.968343</td>\n",
       "      <td>6948.404233</td>\n",
       "      <td>2523.346676</td>\n",
       "      <td>2524.514420</td>\n",
       "      <td>490.817766</td>\n",
       "      <td>490.817766</td>\n",
       "      <td>490.817766</td>\n",
       "      <td>362.742183</td>\n",
       "      <td>...</td>\n",
       "      <td>362.742183</td>\n",
       "      <td>128.075583</td>\n",
       "      <td>128.075583</td>\n",
       "      <td>128.075583</td>\n",
       "      <td>0.0</td>\n",
       "      <td>0.0</td>\n",
       "      <td>0.0</td>\n",
       "      <td>3014.712961</td>\n",
       "      <td>3</td>\n",
       "      <td>2024</td>\n",
       "    </tr>\n",
       "    <tr>\n",
       "      <th>1642</th>\n",
       "      <td>2024-03-19</td>\n",
       "      <td>2525.435751</td>\n",
       "      <td>-1249.335804</td>\n",
       "      <td>6531.474365</td>\n",
       "      <td>2524.809681</td>\n",
       "      <td>2526.079101</td>\n",
       "      <td>327.309962</td>\n",
       "      <td>327.309962</td>\n",
       "      <td>327.309962</td>\n",
       "      <td>205.091148</td>\n",
       "      <td>...</td>\n",
       "      <td>205.091148</td>\n",
       "      <td>122.218815</td>\n",
       "      <td>122.218815</td>\n",
       "      <td>122.218815</td>\n",
       "      <td>0.0</td>\n",
       "      <td>0.0</td>\n",
       "      <td>0.0</td>\n",
       "      <td>2852.745714</td>\n",
       "      <td>3</td>\n",
       "      <td>2024</td>\n",
       "    </tr>\n",
       "    <tr>\n",
       "      <th>1643</th>\n",
       "      <td>2024-03-20</td>\n",
       "      <td>2526.976307</td>\n",
       "      <td>-1165.830977</td>\n",
       "      <td>6851.903829</td>\n",
       "      <td>2526.321963</td>\n",
       "      <td>2527.681076</td>\n",
       "      <td>278.195089</td>\n",
       "      <td>278.195089</td>\n",
       "      <td>278.195089</td>\n",
       "      <td>162.461586</td>\n",
       "      <td>...</td>\n",
       "      <td>162.461586</td>\n",
       "      <td>115.733503</td>\n",
       "      <td>115.733503</td>\n",
       "      <td>115.733503</td>\n",
       "      <td>0.0</td>\n",
       "      <td>0.0</td>\n",
       "      <td>0.0</td>\n",
       "      <td>2805.171396</td>\n",
       "      <td>3</td>\n",
       "      <td>2024</td>\n",
       "    </tr>\n",
       "    <tr>\n",
       "      <th>1644</th>\n",
       "      <td>2024-03-21</td>\n",
       "      <td>2528.516863</td>\n",
       "      <td>-1263.056810</td>\n",
       "      <td>6819.082443</td>\n",
       "      <td>2527.834572</td>\n",
       "      <td>2529.297497</td>\n",
       "      <td>250.195809</td>\n",
       "      <td>250.195809</td>\n",
       "      <td>250.195809</td>\n",
       "      <td>141.358560</td>\n",
       "      <td>...</td>\n",
       "      <td>141.358560</td>\n",
       "      <td>108.837249</td>\n",
       "      <td>108.837249</td>\n",
       "      <td>108.837249</td>\n",
       "      <td>0.0</td>\n",
       "      <td>0.0</td>\n",
       "      <td>0.0</td>\n",
       "      <td>2778.712672</td>\n",
       "      <td>3</td>\n",
       "      <td>2024</td>\n",
       "    </tr>\n",
       "    <tr>\n",
       "      <th>1645</th>\n",
       "      <td>2024-03-22</td>\n",
       "      <td>2530.057419</td>\n",
       "      <td>-1467.246693</td>\n",
       "      <td>6771.596216</td>\n",
       "      <td>2529.310902</td>\n",
       "      <td>2530.927898</td>\n",
       "      <td>137.984908</td>\n",
       "      <td>137.984908</td>\n",
       "      <td>137.984908</td>\n",
       "      <td>36.246019</td>\n",
       "      <td>...</td>\n",
       "      <td>36.246019</td>\n",
       "      <td>101.738889</td>\n",
       "      <td>101.738889</td>\n",
       "      <td>101.738889</td>\n",
       "      <td>0.0</td>\n",
       "      <td>0.0</td>\n",
       "      <td>0.0</td>\n",
       "      <td>2668.042328</td>\n",
       "      <td>3</td>\n",
       "      <td>2024</td>\n",
       "    </tr>\n",
       "  </tbody>\n",
       "</table>\n",
       "<p>123 rows × 21 columns</p>\n",
       "</div>"
      ],
      "text/plain": [
       "             ds        trend   yhat_lower   yhat_upper  trend_lower  \\\n",
       "1523 2023-01-01  1842.969415 -2094.429831  5876.026520  1842.969415   \n",
       "1524 2023-01-02  1844.509971 -1328.027549  6667.322890  1844.509971   \n",
       "1525 2023-01-03  1846.050527 -1545.242856  6263.083124  1846.050527   \n",
       "1526 2023-01-04  1847.591083 -1719.406375  5984.087616  1847.591083   \n",
       "1527 2023-01-05  1849.131639 -1791.493671  5866.056184  1849.131639   \n",
       "...         ...          ...          ...          ...          ...   \n",
       "1641 2024-03-18  2523.895195  -646.968343  6948.404233  2523.346676   \n",
       "1642 2024-03-19  2525.435751 -1249.335804  6531.474365  2524.809681   \n",
       "1643 2024-03-20  2526.976307 -1165.830977  6851.903829  2526.321963   \n",
       "1644 2024-03-21  2528.516863 -1263.056810  6819.082443  2527.834572   \n",
       "1645 2024-03-22  2530.057419 -1467.246693  6771.596216  2529.310902   \n",
       "\n",
       "      trend_upper  additive_terms  additive_terms_lower  additive_terms_upper  \\\n",
       "1523  1842.969415      -38.504114            -38.504114            -38.504114   \n",
       "1524  1844.509971      713.805277            713.805277            713.805277   \n",
       "1525  1846.050527      503.783956            503.783956            503.783956   \n",
       "1526  1847.591083      409.654964            409.654964            409.654964   \n",
       "1527  1849.131639      338.677336            338.677336            338.677336   \n",
       "...           ...             ...                   ...                   ...   \n",
       "1641  2524.514420      490.817766            490.817766            490.817766   \n",
       "1642  2526.079101      327.309962            327.309962            327.309962   \n",
       "1643  2527.681076      278.195089            278.195089            278.195089   \n",
       "1644  2529.297497      250.195809            250.195809            250.195809   \n",
       "1645  2530.927898      137.984908            137.984908            137.984908   \n",
       "\n",
       "          weekly  ...  weekly_upper      yearly  yearly_lower  yearly_upper  \\\n",
       "1523 -442.020624  ...   -442.020624  403.516510    403.516510    403.516510   \n",
       "1524  362.742183  ...    362.742183  351.063094    351.063094    351.063094   \n",
       "1525  205.091148  ...    205.091148  298.692808    298.692808    298.692808   \n",
       "1526  162.461586  ...    162.461586  247.193378    247.193378    247.193378   \n",
       "1527  141.358560  ...    141.358560  197.318776    197.318776    197.318776   \n",
       "...          ...  ...           ...         ...           ...           ...   \n",
       "1641  362.742183  ...    362.742183  128.075583    128.075583    128.075583   \n",
       "1642  205.091148  ...    205.091148  122.218815    122.218815    122.218815   \n",
       "1643  162.461586  ...    162.461586  115.733503    115.733503    115.733503   \n",
       "1644  141.358560  ...    141.358560  108.837249    108.837249    108.837249   \n",
       "1645   36.246019  ...     36.246019  101.738889    101.738889    101.738889   \n",
       "\n",
       "      multiplicative_terms  multiplicative_terms_lower  \\\n",
       "1523                   0.0                         0.0   \n",
       "1524                   0.0                         0.0   \n",
       "1525                   0.0                         0.0   \n",
       "1526                   0.0                         0.0   \n",
       "1527                   0.0                         0.0   \n",
       "...                    ...                         ...   \n",
       "1641                   0.0                         0.0   \n",
       "1642                   0.0                         0.0   \n",
       "1643                   0.0                         0.0   \n",
       "1644                   0.0                         0.0   \n",
       "1645                   0.0                         0.0   \n",
       "\n",
       "      multiplicative_terms_upper         yhat  MES   ANO  \n",
       "1523                         0.0  1804.465301    1  2023  \n",
       "1524                         0.0  2558.315248    1  2023  \n",
       "1525                         0.0  2349.834483    1  2023  \n",
       "1526                         0.0  2257.246047    1  2023  \n",
       "1527                         0.0  2187.808976    1  2023  \n",
       "...                          ...          ...  ...   ...  \n",
       "1641                         0.0  3014.712961    3  2024  \n",
       "1642                         0.0  2852.745714    3  2024  \n",
       "1643                         0.0  2805.171396    3  2024  \n",
       "1644                         0.0  2778.712672    3  2024  \n",
       "1645                         0.0  2668.042328    3  2024  \n",
       "\n",
       "[123 rows x 21 columns]"
      ]
     },
     "execution_count": 113,
     "metadata": {},
     "output_type": "execute_result"
    }
   ],
   "source": [
    "prophet_predict"
   ]
  },
  {
   "cell_type": "code",
   "execution_count": 114,
   "metadata": {},
   "outputs": [
    {
     "data": {
      "text/plain": [
       "ANO\n",
       "2023     93512.361382\n",
       "2024    205461.318231\n",
       "Name: yhat, dtype: float64"
      ]
     },
     "execution_count": 114,
     "metadata": {},
     "output_type": "execute_result"
    }
   ],
   "source": [
    "sum_next_two_years = prophet_predict.groupby('ANO')['yhat'].agg('sum')\n",
    "sum_next_two_years"
   ]
  },
  {
   "cell_type": "markdown",
   "metadata": {},
   "source": [
    "### Técnica 3: Regressão Linear"
   ]
  },
  {
   "cell_type": "code",
   "execution_count": 115,
   "metadata": {},
   "outputs": [
    {
     "name": "stdout",
     "output_type": "stream",
     "text": [
      "Requirement already satisfied: sklearn in c:\\users\\camil\\appdata\\local\\programs\\python\\python310\\lib\\site-packages (0.0)\n",
      "Requirement already satisfied: scikit-learn in c:\\users\\camil\\appdata\\local\\programs\\python\\python310\\lib\\site-packages (from sklearn) (1.4.0)\n",
      "Requirement already satisfied: scipy>=1.6.0 in c:\\users\\camil\\appdata\\local\\programs\\python\\python310\\lib\\site-packages (from scikit-learn->sklearn) (1.12.0)\n",
      "Requirement already satisfied: numpy<2.0,>=1.19.5 in c:\\users\\camil\\appdata\\local\\programs\\python\\python310\\lib\\site-packages (from scikit-learn->sklearn) (1.25.0)\n",
      "Requirement already satisfied: threadpoolctl>=2.0.0 in c:\\users\\camil\\appdata\\local\\programs\\python\\python310\\lib\\site-packages (from scikit-learn->sklearn) (3.2.0)\n",
      "Requirement already satisfied: joblib>=1.2.0 in c:\\users\\camil\\appdata\\local\\programs\\python\\python310\\lib\\site-packages (from scikit-learn->sklearn) (1.3.2)\n",
      "Note: you may need to restart the kernel to use updated packages.\n"
     ]
    },
    {
     "name": "stderr",
     "output_type": "stream",
     "text": [
      "WARNING: You are using pip version 21.2.3; however, version 24.0 is available.\n",
      "You should consider upgrading via the 'c:\\Users\\camil\\AppData\\Local\\Programs\\Python\\Python310\\python.exe -m pip install --upgrade pip' command.\n"
     ]
    }
   ],
   "source": [
    "pip install sklearn"
   ]
  },
  {
   "cell_type": "code",
   "execution_count": 116,
   "metadata": {},
   "outputs": [],
   "source": [
    "from sklearn.linear_model import LinearRegression # importa o modelo\n",
    "from sklearn.model_selection import train_test_split"
   ]
  },
  {
   "cell_type": "code",
   "execution_count": 128,
   "metadata": {},
   "outputs": [],
   "source": [
    "X = combined_df['DATA']\n",
    "y = combined_df['VALOR_REEMBOLSADO']"
   ]
  },
  {
   "cell_type": "code",
   "execution_count": 129,
   "metadata": {},
   "outputs": [],
   "source": [
    "X_train, X_test, y_train, y_test = train_test_split(X, y, test_size=0.33, random_state=42)\n"
   ]
  }
 ],
 "metadata": {
  "kernelspec": {
   "display_name": "Python 3",
   "language": "python",
   "name": "python3"
  },
  "language_info": {
   "codemirror_mode": {
    "name": "ipython",
    "version": 3
   },
   "file_extension": ".py",
   "mimetype": "text/x-python",
   "name": "python",
   "nbconvert_exporter": "python",
   "pygments_lexer": "ipython3",
   "version": "3.10.0rc2"
  }
 },
 "nbformat": 4,
 "nbformat_minor": 2
}

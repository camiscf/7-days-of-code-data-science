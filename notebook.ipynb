{
 "cells": [
  {
   "cell_type": "markdown",
   "metadata": {},
   "source": [
    "# Day 1: Data Cleaning"
   ]
  },
  {
   "cell_type": "code",
   "execution_count": 58,
   "metadata": {},
   "outputs": [],
   "source": [
    "import pandas as pd"
   ]
  },
  {
   "cell_type": "code",
   "execution_count": 59,
   "metadata": {},
   "outputs": [],
   "source": [
    "despesas_2019 = pd.read_csv('despesa_ceaps_2019.csv', encoding=\"ISO-8859-1\",delimiter=';')\n",
    "despesas_2020 = pd.read_csv('despesa_ceaps_2020.csv', encoding=\"ISO-8859-1\",delimiter=';')\n",
    "despesas_2021 = pd.read_csv('despesa_ceaps_2021.csv', encoding=\"ISO-8859-1\",delimiter=';')\n",
    "despesas_2022 = pd.read_csv('despesa_ceaps_2022.csv', encoding=\"ISO-8859-1\",delimiter=';')"
   ]
  },
  {
   "cell_type": "code",
   "execution_count": 60,
   "metadata": {},
   "outputs": [],
   "source": [
    "# Concatenate them\n",
    "combined_df = pd.concat([despesas_2019, despesas_2020, despesas_2021, despesas_2022])\n",
    "\n",
    "# Reset the index if you want a new continuous index\n",
    "combined_df.reset_index(drop=True, inplace=True)\n"
   ]
  },
  {
   "cell_type": "code",
   "execution_count": 61,
   "metadata": {},
   "outputs": [
    {
     "data": {
      "text/html": [
       "<div>\n",
       "<style scoped>\n",
       "    .dataframe tbody tr th:only-of-type {\n",
       "        vertical-align: middle;\n",
       "    }\n",
       "\n",
       "    .dataframe tbody tr th {\n",
       "        vertical-align: top;\n",
       "    }\n",
       "\n",
       "    .dataframe thead th {\n",
       "        text-align: right;\n",
       "    }\n",
       "</style>\n",
       "<table border=\"1\" class=\"dataframe\">\n",
       "  <thead>\n",
       "    <tr style=\"text-align: right;\">\n",
       "      <th></th>\n",
       "      <th>ANO</th>\n",
       "      <th>MES</th>\n",
       "      <th>SENADOR</th>\n",
       "      <th>TIPO_DESPESA</th>\n",
       "      <th>CNPJ_CPF</th>\n",
       "      <th>FORNECEDOR</th>\n",
       "      <th>DOCUMENTO</th>\n",
       "      <th>DATA</th>\n",
       "      <th>DETALHAMENTO</th>\n",
       "      <th>VALOR_REEMBOLSADO</th>\n",
       "      <th>COD_DOCUMENTO</th>\n",
       "    </tr>\n",
       "  </thead>\n",
       "  <tbody>\n",
       "    <tr>\n",
       "      <th>0</th>\n",
       "      <td>2019</td>\n",
       "      <td>1</td>\n",
       "      <td>ACIR GURGACZ</td>\n",
       "      <td>Aluguel de imï¿½veis para escritï¿½rio polï¿½t...</td>\n",
       "      <td>05.914.650/0001-66</td>\n",
       "      <td>ENERGISA</td>\n",
       "      <td>006582758</td>\n",
       "      <td>04/01/2019</td>\n",
       "      <td>Despesa com pagamento de energia elï¿½trica do...</td>\n",
       "      <td>66,02</td>\n",
       "      <td>2116543</td>\n",
       "    </tr>\n",
       "    <tr>\n",
       "      <th>1</th>\n",
       "      <td>2019</td>\n",
       "      <td>1</td>\n",
       "      <td>ACIR GURGACZ</td>\n",
       "      <td>Aluguel de imï¿½veis para escritï¿½rio polï¿½t...</td>\n",
       "      <td>05.914.650/0001-66</td>\n",
       "      <td>ENERGISA</td>\n",
       "      <td>006582755</td>\n",
       "      <td>04/01/2019</td>\n",
       "      <td>Despesa com pagamento de energia elï¿½trica do...</td>\n",
       "      <td>139,98</td>\n",
       "      <td>2116546</td>\n",
       "    </tr>\n",
       "    <tr>\n",
       "      <th>2</th>\n",
       "      <td>2019</td>\n",
       "      <td>1</td>\n",
       "      <td>ACIR GURGACZ</td>\n",
       "      <td>Aluguel de imï¿½veis para escritï¿½rio polï¿½t...</td>\n",
       "      <td>004.948.028-63</td>\n",
       "      <td>GILBERTO PISELO DO NASCIMENTO</td>\n",
       "      <td>00119</td>\n",
       "      <td>07/01/2019</td>\n",
       "      <td>Despesa com pagamento de aluguel de imï¿½vel p...</td>\n",
       "      <td>6000</td>\n",
       "      <td>2113817</td>\n",
       "    </tr>\n",
       "    <tr>\n",
       "      <th>3</th>\n",
       "      <td>2019</td>\n",
       "      <td>1</td>\n",
       "      <td>ACIR GURGACZ</td>\n",
       "      <td>Aluguel de imï¿½veis para escritï¿½rio polï¿½t...</td>\n",
       "      <td>05.423.963/0001-11</td>\n",
       "      <td>OI Mï¿½VEL S.A.</td>\n",
       "      <td>86161151</td>\n",
       "      <td>25/12/2018</td>\n",
       "      <td>Despesa com pagamento de telefonia para o escr...</td>\n",
       "      <td>316,39</td>\n",
       "      <td>2116541</td>\n",
       "    </tr>\n",
       "    <tr>\n",
       "      <th>4</th>\n",
       "      <td>2019</td>\n",
       "      <td>2</td>\n",
       "      <td>ACIR GURGACZ</td>\n",
       "      <td>Aluguel de imï¿½veis para escritï¿½rio polï¿½t...</td>\n",
       "      <td>05.914.650/0001-66</td>\n",
       "      <td>ENERGISA</td>\n",
       "      <td>007236036</td>\n",
       "      <td>04/02/2019</td>\n",
       "      <td>Despesa com pagamento de energia elï¿½trica pa...</td>\n",
       "      <td>99,45</td>\n",
       "      <td>2116550</td>\n",
       "    </tr>\n",
       "    <tr>\n",
       "      <th>...</th>\n",
       "      <td>...</td>\n",
       "      <td>...</td>\n",
       "      <td>...</td>\n",
       "      <td>...</td>\n",
       "      <td>...</td>\n",
       "      <td>...</td>\n",
       "      <td>...</td>\n",
       "      <td>...</td>\n",
       "      <td>...</td>\n",
       "      <td>...</td>\n",
       "      <td>...</td>\n",
       "    </tr>\n",
       "    <tr>\n",
       "      <th>69328</th>\n",
       "      <td>2022</td>\n",
       "      <td>12</td>\n",
       "      <td>ZEQUINHA MARINHO</td>\n",
       "      <td>Passagens aï¿½reas, aquï¿½ticas e terrestres n...</td>\n",
       "      <td>22.052.777/0001-32</td>\n",
       "      <td>Exceller Tour</td>\n",
       "      <td>WIXHAI</td>\n",
       "      <td>06/12/2022</td>\n",
       "      <td>Companhia Aï¿½rea: LATAM, Localizador: WIXHAI....</td>\n",
       "      <td>2893,04</td>\n",
       "      <td>2191398</td>\n",
       "    </tr>\n",
       "    <tr>\n",
       "      <th>69329</th>\n",
       "      <td>2022</td>\n",
       "      <td>12</td>\n",
       "      <td>ZEQUINHA MARINHO</td>\n",
       "      <td>Passagens aï¿½reas, aquï¿½ticas e terrestres n...</td>\n",
       "      <td>22.052.777/0001-32</td>\n",
       "      <td>Exceller Tour</td>\n",
       "      <td>WITOLM</td>\n",
       "      <td>09/12/2022</td>\n",
       "      <td>Companhia Aï¿½rea: GOL, Localizador: WITOLM. P...</td>\n",
       "      <td>1180,19</td>\n",
       "      <td>2192272</td>\n",
       "    </tr>\n",
       "    <tr>\n",
       "      <th>69330</th>\n",
       "      <td>2022</td>\n",
       "      <td>12</td>\n",
       "      <td>ZEQUINHA MARINHO</td>\n",
       "      <td>Passagens aï¿½reas, aquï¿½ticas e terrestres n...</td>\n",
       "      <td>22.052.777/0001-32</td>\n",
       "      <td>Exceller Tour</td>\n",
       "      <td>THPKVQ</td>\n",
       "      <td>20/12/2022</td>\n",
       "      <td>Companhia Aï¿½rea: TAM, Localizador: THPKVQ. P...</td>\n",
       "      <td>2671,9</td>\n",
       "      <td>2192274</td>\n",
       "    </tr>\n",
       "    <tr>\n",
       "      <th>69331</th>\n",
       "      <td>2022</td>\n",
       "      <td>12</td>\n",
       "      <td>ZEQUINHA MARINHO</td>\n",
       "      <td>Passagens aï¿½reas, aquï¿½ticas e terrestres n...</td>\n",
       "      <td>22.052.777/0001-32</td>\n",
       "      <td>Exceller Tour</td>\n",
       "      <td>QNN9HX</td>\n",
       "      <td>21/12/2022</td>\n",
       "      <td>Companhia Aï¿½rea: AZUL, Localizador: QNN9HX. ...</td>\n",
       "      <td>1334,31</td>\n",
       "      <td>2192244</td>\n",
       "    </tr>\n",
       "    <tr>\n",
       "      <th>69332</th>\n",
       "      <td>2022</td>\n",
       "      <td>12</td>\n",
       "      <td>ZEQUINHA MARINHO</td>\n",
       "      <td>Passagens aï¿½reas, aquï¿½ticas e terrestres n...</td>\n",
       "      <td>22.052.777/0001-32</td>\n",
       "      <td>Exceller Tour</td>\n",
       "      <td>WMQWBX</td>\n",
       "      <td>30/12/2022</td>\n",
       "      <td>Companhia Aï¿½rea: TAM, Localizador: WMQWBX. P...</td>\n",
       "      <td>2250,72</td>\n",
       "      <td>2193622</td>\n",
       "    </tr>\n",
       "  </tbody>\n",
       "</table>\n",
       "<p>69333 rows × 11 columns</p>\n",
       "</div>"
      ],
      "text/plain": [
       "        ANO  MES           SENADOR  \\\n",
       "0      2019    1      ACIR GURGACZ   \n",
       "1      2019    1      ACIR GURGACZ   \n",
       "2      2019    1      ACIR GURGACZ   \n",
       "3      2019    1      ACIR GURGACZ   \n",
       "4      2019    2      ACIR GURGACZ   \n",
       "...     ...  ...               ...   \n",
       "69328  2022   12  ZEQUINHA MARINHO   \n",
       "69329  2022   12  ZEQUINHA MARINHO   \n",
       "69330  2022   12  ZEQUINHA MARINHO   \n",
       "69331  2022   12  ZEQUINHA MARINHO   \n",
       "69332  2022   12  ZEQUINHA MARINHO   \n",
       "\n",
       "                                            TIPO_DESPESA            CNPJ_CPF  \\\n",
       "0      Aluguel de imï¿½veis para escritï¿½rio polï¿½t...  05.914.650/0001-66   \n",
       "1      Aluguel de imï¿½veis para escritï¿½rio polï¿½t...  05.914.650/0001-66   \n",
       "2      Aluguel de imï¿½veis para escritï¿½rio polï¿½t...      004.948.028-63   \n",
       "3      Aluguel de imï¿½veis para escritï¿½rio polï¿½t...  05.423.963/0001-11   \n",
       "4      Aluguel de imï¿½veis para escritï¿½rio polï¿½t...  05.914.650/0001-66   \n",
       "...                                                  ...                 ...   \n",
       "69328  Passagens aï¿½reas, aquï¿½ticas e terrestres n...  22.052.777/0001-32   \n",
       "69329  Passagens aï¿½reas, aquï¿½ticas e terrestres n...  22.052.777/0001-32   \n",
       "69330  Passagens aï¿½reas, aquï¿½ticas e terrestres n...  22.052.777/0001-32   \n",
       "69331  Passagens aï¿½reas, aquï¿½ticas e terrestres n...  22.052.777/0001-32   \n",
       "69332  Passagens aï¿½reas, aquï¿½ticas e terrestres n...  22.052.777/0001-32   \n",
       "\n",
       "                          FORNECEDOR  DOCUMENTO        DATA  \\\n",
       "0                           ENERGISA  006582758  04/01/2019   \n",
       "1                           ENERGISA  006582755  04/01/2019   \n",
       "2      GILBERTO PISELO DO NASCIMENTO      00119  07/01/2019   \n",
       "3                    OI Mï¿½VEL S.A.   86161151  25/12/2018   \n",
       "4                           ENERGISA  007236036  04/02/2019   \n",
       "...                              ...        ...         ...   \n",
       "69328                  Exceller Tour     WIXHAI  06/12/2022   \n",
       "69329                  Exceller Tour     WITOLM  09/12/2022   \n",
       "69330                  Exceller Tour     THPKVQ  20/12/2022   \n",
       "69331                  Exceller Tour     QNN9HX  21/12/2022   \n",
       "69332                  Exceller Tour     WMQWBX  30/12/2022   \n",
       "\n",
       "                                            DETALHAMENTO VALOR_REEMBOLSADO  \\\n",
       "0      Despesa com pagamento de energia elï¿½trica do...             66,02   \n",
       "1      Despesa com pagamento de energia elï¿½trica do...            139,98   \n",
       "2      Despesa com pagamento de aluguel de imï¿½vel p...              6000   \n",
       "3      Despesa com pagamento de telefonia para o escr...            316,39   \n",
       "4      Despesa com pagamento de energia elï¿½trica pa...             99,45   \n",
       "...                                                  ...               ...   \n",
       "69328  Companhia Aï¿½rea: LATAM, Localizador: WIXHAI....           2893,04   \n",
       "69329  Companhia Aï¿½rea: GOL, Localizador: WITOLM. P...           1180,19   \n",
       "69330  Companhia Aï¿½rea: TAM, Localizador: THPKVQ. P...            2671,9   \n",
       "69331  Companhia Aï¿½rea: AZUL, Localizador: QNN9HX. ...           1334,31   \n",
       "69332  Companhia Aï¿½rea: TAM, Localizador: WMQWBX. P...           2250,72   \n",
       "\n",
       "       COD_DOCUMENTO  \n",
       "0            2116543  \n",
       "1            2116546  \n",
       "2            2113817  \n",
       "3            2116541  \n",
       "4            2116550  \n",
       "...              ...  \n",
       "69328        2191398  \n",
       "69329        2192272  \n",
       "69330        2192274  \n",
       "69331        2192244  \n",
       "69332        2193622  \n",
       "\n",
       "[69333 rows x 11 columns]"
      ]
     },
     "execution_count": 61,
     "metadata": {},
     "output_type": "execute_result"
    }
   ],
   "source": [
    "combined_df"
   ]
  },
  {
   "cell_type": "code",
   "execution_count": 62,
   "metadata": {},
   "outputs": [
    {
     "data": {
      "text/html": [
       "<div>\n",
       "<style scoped>\n",
       "    .dataframe tbody tr th:only-of-type {\n",
       "        vertical-align: middle;\n",
       "    }\n",
       "\n",
       "    .dataframe tbody tr th {\n",
       "        vertical-align: top;\n",
       "    }\n",
       "\n",
       "    .dataframe thead th {\n",
       "        text-align: right;\n",
       "    }\n",
       "</style>\n",
       "<table border=\"1\" class=\"dataframe\">\n",
       "  <thead>\n",
       "    <tr style=\"text-align: right;\">\n",
       "      <th></th>\n",
       "      <th>ANO</th>\n",
       "      <th>MES</th>\n",
       "      <th>SENADOR</th>\n",
       "      <th>TIPO_DESPESA</th>\n",
       "      <th>CNPJ_CPF</th>\n",
       "      <th>FORNECEDOR</th>\n",
       "      <th>DOCUMENTO</th>\n",
       "      <th>DATA</th>\n",
       "      <th>DETALHAMENTO</th>\n",
       "      <th>VALOR_REEMBOLSADO</th>\n",
       "      <th>COD_DOCUMENTO</th>\n",
       "    </tr>\n",
       "  </thead>\n",
       "  <tbody>\n",
       "    <tr>\n",
       "      <th>0</th>\n",
       "      <td>2019</td>\n",
       "      <td>1</td>\n",
       "      <td>ACIR GURGACZ</td>\n",
       "      <td>Aluguel de imï¿½veis para escritï¿½rio polï¿½t...</td>\n",
       "      <td>05.914.650/0001-66</td>\n",
       "      <td>ENERGISA</td>\n",
       "      <td>006582758</td>\n",
       "      <td>04/01/2019</td>\n",
       "      <td>Despesa com pagamento de energia elï¿½trica do...</td>\n",
       "      <td>66,02</td>\n",
       "      <td>2116543</td>\n",
       "    </tr>\n",
       "    <tr>\n",
       "      <th>1</th>\n",
       "      <td>2019</td>\n",
       "      <td>1</td>\n",
       "      <td>ACIR GURGACZ</td>\n",
       "      <td>Aluguel de imï¿½veis para escritï¿½rio polï¿½t...</td>\n",
       "      <td>05.914.650/0001-66</td>\n",
       "      <td>ENERGISA</td>\n",
       "      <td>006582755</td>\n",
       "      <td>04/01/2019</td>\n",
       "      <td>Despesa com pagamento de energia elï¿½trica do...</td>\n",
       "      <td>139,98</td>\n",
       "      <td>2116546</td>\n",
       "    </tr>\n",
       "    <tr>\n",
       "      <th>2</th>\n",
       "      <td>2019</td>\n",
       "      <td>1</td>\n",
       "      <td>ACIR GURGACZ</td>\n",
       "      <td>Aluguel de imï¿½veis para escritï¿½rio polï¿½t...</td>\n",
       "      <td>004.948.028-63</td>\n",
       "      <td>GILBERTO PISELO DO NASCIMENTO</td>\n",
       "      <td>00119</td>\n",
       "      <td>07/01/2019</td>\n",
       "      <td>Despesa com pagamento de aluguel de imï¿½vel p...</td>\n",
       "      <td>6000</td>\n",
       "      <td>2113817</td>\n",
       "    </tr>\n",
       "    <tr>\n",
       "      <th>3</th>\n",
       "      <td>2019</td>\n",
       "      <td>1</td>\n",
       "      <td>ACIR GURGACZ</td>\n",
       "      <td>Aluguel de imï¿½veis para escritï¿½rio polï¿½t...</td>\n",
       "      <td>05.423.963/0001-11</td>\n",
       "      <td>OI Mï¿½VEL S.A.</td>\n",
       "      <td>86161151</td>\n",
       "      <td>25/12/2018</td>\n",
       "      <td>Despesa com pagamento de telefonia para o escr...</td>\n",
       "      <td>316,39</td>\n",
       "      <td>2116541</td>\n",
       "    </tr>\n",
       "    <tr>\n",
       "      <th>4</th>\n",
       "      <td>2019</td>\n",
       "      <td>2</td>\n",
       "      <td>ACIR GURGACZ</td>\n",
       "      <td>Aluguel de imï¿½veis para escritï¿½rio polï¿½t...</td>\n",
       "      <td>05.914.650/0001-66</td>\n",
       "      <td>ENERGISA</td>\n",
       "      <td>007236036</td>\n",
       "      <td>04/02/2019</td>\n",
       "      <td>Despesa com pagamento de energia elï¿½trica pa...</td>\n",
       "      <td>99,45</td>\n",
       "      <td>2116550</td>\n",
       "    </tr>\n",
       "    <tr>\n",
       "      <th>...</th>\n",
       "      <td>...</td>\n",
       "      <td>...</td>\n",
       "      <td>...</td>\n",
       "      <td>...</td>\n",
       "      <td>...</td>\n",
       "      <td>...</td>\n",
       "      <td>...</td>\n",
       "      <td>...</td>\n",
       "      <td>...</td>\n",
       "      <td>...</td>\n",
       "      <td>...</td>\n",
       "    </tr>\n",
       "    <tr>\n",
       "      <th>69328</th>\n",
       "      <td>2022</td>\n",
       "      <td>12</td>\n",
       "      <td>ZEQUINHA MARINHO</td>\n",
       "      <td>Passagens aï¿½reas, aquï¿½ticas e terrestres n...</td>\n",
       "      <td>22.052.777/0001-32</td>\n",
       "      <td>Exceller Tour</td>\n",
       "      <td>WIXHAI</td>\n",
       "      <td>06/12/2022</td>\n",
       "      <td>Companhia Aï¿½rea: LATAM, Localizador: WIXHAI....</td>\n",
       "      <td>2893,04</td>\n",
       "      <td>2191398</td>\n",
       "    </tr>\n",
       "    <tr>\n",
       "      <th>69329</th>\n",
       "      <td>2022</td>\n",
       "      <td>12</td>\n",
       "      <td>ZEQUINHA MARINHO</td>\n",
       "      <td>Passagens aï¿½reas, aquï¿½ticas e terrestres n...</td>\n",
       "      <td>22.052.777/0001-32</td>\n",
       "      <td>Exceller Tour</td>\n",
       "      <td>WITOLM</td>\n",
       "      <td>09/12/2022</td>\n",
       "      <td>Companhia Aï¿½rea: GOL, Localizador: WITOLM. P...</td>\n",
       "      <td>1180,19</td>\n",
       "      <td>2192272</td>\n",
       "    </tr>\n",
       "    <tr>\n",
       "      <th>69330</th>\n",
       "      <td>2022</td>\n",
       "      <td>12</td>\n",
       "      <td>ZEQUINHA MARINHO</td>\n",
       "      <td>Passagens aï¿½reas, aquï¿½ticas e terrestres n...</td>\n",
       "      <td>22.052.777/0001-32</td>\n",
       "      <td>Exceller Tour</td>\n",
       "      <td>THPKVQ</td>\n",
       "      <td>20/12/2022</td>\n",
       "      <td>Companhia Aï¿½rea: TAM, Localizador: THPKVQ. P...</td>\n",
       "      <td>2671,9</td>\n",
       "      <td>2192274</td>\n",
       "    </tr>\n",
       "    <tr>\n",
       "      <th>69331</th>\n",
       "      <td>2022</td>\n",
       "      <td>12</td>\n",
       "      <td>ZEQUINHA MARINHO</td>\n",
       "      <td>Passagens aï¿½reas, aquï¿½ticas e terrestres n...</td>\n",
       "      <td>22.052.777/0001-32</td>\n",
       "      <td>Exceller Tour</td>\n",
       "      <td>QNN9HX</td>\n",
       "      <td>21/12/2022</td>\n",
       "      <td>Companhia Aï¿½rea: AZUL, Localizador: QNN9HX. ...</td>\n",
       "      <td>1334,31</td>\n",
       "      <td>2192244</td>\n",
       "    </tr>\n",
       "    <tr>\n",
       "      <th>69332</th>\n",
       "      <td>2022</td>\n",
       "      <td>12</td>\n",
       "      <td>ZEQUINHA MARINHO</td>\n",
       "      <td>Passagens aï¿½reas, aquï¿½ticas e terrestres n...</td>\n",
       "      <td>22.052.777/0001-32</td>\n",
       "      <td>Exceller Tour</td>\n",
       "      <td>WMQWBX</td>\n",
       "      <td>30/12/2022</td>\n",
       "      <td>Companhia Aï¿½rea: TAM, Localizador: WMQWBX. P...</td>\n",
       "      <td>2250,72</td>\n",
       "      <td>2193622</td>\n",
       "    </tr>\n",
       "  </tbody>\n",
       "</table>\n",
       "<p>69333 rows × 11 columns</p>\n",
       "</div>"
      ],
      "text/plain": [
       "        ANO  MES           SENADOR  \\\n",
       "0      2019    1      ACIR GURGACZ   \n",
       "1      2019    1      ACIR GURGACZ   \n",
       "2      2019    1      ACIR GURGACZ   \n",
       "3      2019    1      ACIR GURGACZ   \n",
       "4      2019    2      ACIR GURGACZ   \n",
       "...     ...  ...               ...   \n",
       "69328  2022   12  ZEQUINHA MARINHO   \n",
       "69329  2022   12  ZEQUINHA MARINHO   \n",
       "69330  2022   12  ZEQUINHA MARINHO   \n",
       "69331  2022   12  ZEQUINHA MARINHO   \n",
       "69332  2022   12  ZEQUINHA MARINHO   \n",
       "\n",
       "                                            TIPO_DESPESA            CNPJ_CPF  \\\n",
       "0      Aluguel de imï¿½veis para escritï¿½rio polï¿½t...  05.914.650/0001-66   \n",
       "1      Aluguel de imï¿½veis para escritï¿½rio polï¿½t...  05.914.650/0001-66   \n",
       "2      Aluguel de imï¿½veis para escritï¿½rio polï¿½t...      004.948.028-63   \n",
       "3      Aluguel de imï¿½veis para escritï¿½rio polï¿½t...  05.423.963/0001-11   \n",
       "4      Aluguel de imï¿½veis para escritï¿½rio polï¿½t...  05.914.650/0001-66   \n",
       "...                                                  ...                 ...   \n",
       "69328  Passagens aï¿½reas, aquï¿½ticas e terrestres n...  22.052.777/0001-32   \n",
       "69329  Passagens aï¿½reas, aquï¿½ticas e terrestres n...  22.052.777/0001-32   \n",
       "69330  Passagens aï¿½reas, aquï¿½ticas e terrestres n...  22.052.777/0001-32   \n",
       "69331  Passagens aï¿½reas, aquï¿½ticas e terrestres n...  22.052.777/0001-32   \n",
       "69332  Passagens aï¿½reas, aquï¿½ticas e terrestres n...  22.052.777/0001-32   \n",
       "\n",
       "                          FORNECEDOR  DOCUMENTO        DATA  \\\n",
       "0                           ENERGISA  006582758  04/01/2019   \n",
       "1                           ENERGISA  006582755  04/01/2019   \n",
       "2      GILBERTO PISELO DO NASCIMENTO      00119  07/01/2019   \n",
       "3                    OI Mï¿½VEL S.A.   86161151  25/12/2018   \n",
       "4                           ENERGISA  007236036  04/02/2019   \n",
       "...                              ...        ...         ...   \n",
       "69328                  Exceller Tour     WIXHAI  06/12/2022   \n",
       "69329                  Exceller Tour     WITOLM  09/12/2022   \n",
       "69330                  Exceller Tour     THPKVQ  20/12/2022   \n",
       "69331                  Exceller Tour     QNN9HX  21/12/2022   \n",
       "69332                  Exceller Tour     WMQWBX  30/12/2022   \n",
       "\n",
       "                                            DETALHAMENTO VALOR_REEMBOLSADO  \\\n",
       "0      Despesa com pagamento de energia elï¿½trica do...             66,02   \n",
       "1      Despesa com pagamento de energia elï¿½trica do...            139,98   \n",
       "2      Despesa com pagamento de aluguel de imï¿½vel p...              6000   \n",
       "3      Despesa com pagamento de telefonia para o escr...            316,39   \n",
       "4      Despesa com pagamento de energia elï¿½trica pa...             99,45   \n",
       "...                                                  ...               ...   \n",
       "69328  Companhia Aï¿½rea: LATAM, Localizador: WIXHAI....           2893,04   \n",
       "69329  Companhia Aï¿½rea: GOL, Localizador: WITOLM. P...           1180,19   \n",
       "69330  Companhia Aï¿½rea: TAM, Localizador: THPKVQ. P...            2671,9   \n",
       "69331  Companhia Aï¿½rea: AZUL, Localizador: QNN9HX. ...           1334,31   \n",
       "69332  Companhia Aï¿½rea: TAM, Localizador: WMQWBX. P...           2250,72   \n",
       "\n",
       "       COD_DOCUMENTO  \n",
       "0            2116543  \n",
       "1            2116546  \n",
       "2            2113817  \n",
       "3            2116541  \n",
       "4            2116550  \n",
       "...              ...  \n",
       "69328        2191398  \n",
       "69329        2192272  \n",
       "69330        2192274  \n",
       "69331        2192244  \n",
       "69332        2193622  \n",
       "\n",
       "[69333 rows x 11 columns]"
      ]
     },
     "execution_count": 62,
     "metadata": {},
     "output_type": "execute_result"
    }
   ],
   "source": [
    "combined_df.drop_duplicates()"
   ]
  },
  {
   "cell_type": "code",
   "execution_count": 63,
   "metadata": {},
   "outputs": [
    {
     "data": {
      "text/html": [
       "<div>\n",
       "<style scoped>\n",
       "    .dataframe tbody tr th:only-of-type {\n",
       "        vertical-align: middle;\n",
       "    }\n",
       "\n",
       "    .dataframe tbody tr th {\n",
       "        vertical-align: top;\n",
       "    }\n",
       "\n",
       "    .dataframe thead th {\n",
       "        text-align: right;\n",
       "    }\n",
       "</style>\n",
       "<table border=\"1\" class=\"dataframe\">\n",
       "  <thead>\n",
       "    <tr style=\"text-align: right;\">\n",
       "      <th></th>\n",
       "      <th>ANO</th>\n",
       "      <th>MES</th>\n",
       "      <th>SENADOR</th>\n",
       "      <th>TIPO_DESPESA</th>\n",
       "      <th>CNPJ_CPF</th>\n",
       "      <th>FORNECEDOR</th>\n",
       "      <th>DOCUMENTO</th>\n",
       "      <th>DATA</th>\n",
       "      <th>DETALHAMENTO</th>\n",
       "      <th>VALOR_REEMBOLSADO</th>\n",
       "      <th>COD_DOCUMENTO</th>\n",
       "    </tr>\n",
       "  </thead>\n",
       "  <tbody>\n",
       "    <tr>\n",
       "      <th>0</th>\n",
       "      <td>2019</td>\n",
       "      <td>1</td>\n",
       "      <td>ACIR GURGACZ</td>\n",
       "      <td>Aluguel de imï¿½veis para escritï¿½rio polï¿½t...</td>\n",
       "      <td>05.914.650/0001-66</td>\n",
       "      <td>ENERGISA</td>\n",
       "      <td>006582758</td>\n",
       "      <td>04/01/2019</td>\n",
       "      <td>Despesa com pagamento de energia elï¿½trica do...</td>\n",
       "      <td>66,02</td>\n",
       "      <td>2116543</td>\n",
       "    </tr>\n",
       "    <tr>\n",
       "      <th>1</th>\n",
       "      <td>2019</td>\n",
       "      <td>1</td>\n",
       "      <td>ACIR GURGACZ</td>\n",
       "      <td>Aluguel de imï¿½veis para escritï¿½rio polï¿½t...</td>\n",
       "      <td>05.914.650/0001-66</td>\n",
       "      <td>ENERGISA</td>\n",
       "      <td>006582755</td>\n",
       "      <td>04/01/2019</td>\n",
       "      <td>Despesa com pagamento de energia elï¿½trica do...</td>\n",
       "      <td>139,98</td>\n",
       "      <td>2116546</td>\n",
       "    </tr>\n",
       "    <tr>\n",
       "      <th>2</th>\n",
       "      <td>2019</td>\n",
       "      <td>1</td>\n",
       "      <td>ACIR GURGACZ</td>\n",
       "      <td>Aluguel de imï¿½veis para escritï¿½rio polï¿½t...</td>\n",
       "      <td>004.948.028-63</td>\n",
       "      <td>GILBERTO PISELO DO NASCIMENTO</td>\n",
       "      <td>00119</td>\n",
       "      <td>07/01/2019</td>\n",
       "      <td>Despesa com pagamento de aluguel de imï¿½vel p...</td>\n",
       "      <td>6000</td>\n",
       "      <td>2113817</td>\n",
       "    </tr>\n",
       "    <tr>\n",
       "      <th>3</th>\n",
       "      <td>2019</td>\n",
       "      <td>1</td>\n",
       "      <td>ACIR GURGACZ</td>\n",
       "      <td>Aluguel de imï¿½veis para escritï¿½rio polï¿½t...</td>\n",
       "      <td>05.423.963/0001-11</td>\n",
       "      <td>OI Mï¿½VEL S.A.</td>\n",
       "      <td>86161151</td>\n",
       "      <td>25/12/2018</td>\n",
       "      <td>Despesa com pagamento de telefonia para o escr...</td>\n",
       "      <td>316,39</td>\n",
       "      <td>2116541</td>\n",
       "    </tr>\n",
       "    <tr>\n",
       "      <th>4</th>\n",
       "      <td>2019</td>\n",
       "      <td>2</td>\n",
       "      <td>ACIR GURGACZ</td>\n",
       "      <td>Aluguel de imï¿½veis para escritï¿½rio polï¿½t...</td>\n",
       "      <td>05.914.650/0001-66</td>\n",
       "      <td>ENERGISA</td>\n",
       "      <td>007236036</td>\n",
       "      <td>04/02/2019</td>\n",
       "      <td>Despesa com pagamento de energia elï¿½trica pa...</td>\n",
       "      <td>99,45</td>\n",
       "      <td>2116550</td>\n",
       "    </tr>\n",
       "    <tr>\n",
       "      <th>...</th>\n",
       "      <td>...</td>\n",
       "      <td>...</td>\n",
       "      <td>...</td>\n",
       "      <td>...</td>\n",
       "      <td>...</td>\n",
       "      <td>...</td>\n",
       "      <td>...</td>\n",
       "      <td>...</td>\n",
       "      <td>...</td>\n",
       "      <td>...</td>\n",
       "      <td>...</td>\n",
       "    </tr>\n",
       "    <tr>\n",
       "      <th>69328</th>\n",
       "      <td>2022</td>\n",
       "      <td>12</td>\n",
       "      <td>ZEQUINHA MARINHO</td>\n",
       "      <td>Passagens aï¿½reas, aquï¿½ticas e terrestres n...</td>\n",
       "      <td>22.052.777/0001-32</td>\n",
       "      <td>Exceller Tour</td>\n",
       "      <td>WIXHAI</td>\n",
       "      <td>06/12/2022</td>\n",
       "      <td>Companhia Aï¿½rea: LATAM, Localizador: WIXHAI....</td>\n",
       "      <td>2893,04</td>\n",
       "      <td>2191398</td>\n",
       "    </tr>\n",
       "    <tr>\n",
       "      <th>69329</th>\n",
       "      <td>2022</td>\n",
       "      <td>12</td>\n",
       "      <td>ZEQUINHA MARINHO</td>\n",
       "      <td>Passagens aï¿½reas, aquï¿½ticas e terrestres n...</td>\n",
       "      <td>22.052.777/0001-32</td>\n",
       "      <td>Exceller Tour</td>\n",
       "      <td>WITOLM</td>\n",
       "      <td>09/12/2022</td>\n",
       "      <td>Companhia Aï¿½rea: GOL, Localizador: WITOLM. P...</td>\n",
       "      <td>1180,19</td>\n",
       "      <td>2192272</td>\n",
       "    </tr>\n",
       "    <tr>\n",
       "      <th>69330</th>\n",
       "      <td>2022</td>\n",
       "      <td>12</td>\n",
       "      <td>ZEQUINHA MARINHO</td>\n",
       "      <td>Passagens aï¿½reas, aquï¿½ticas e terrestres n...</td>\n",
       "      <td>22.052.777/0001-32</td>\n",
       "      <td>Exceller Tour</td>\n",
       "      <td>THPKVQ</td>\n",
       "      <td>20/12/2022</td>\n",
       "      <td>Companhia Aï¿½rea: TAM, Localizador: THPKVQ. P...</td>\n",
       "      <td>2671,9</td>\n",
       "      <td>2192274</td>\n",
       "    </tr>\n",
       "    <tr>\n",
       "      <th>69331</th>\n",
       "      <td>2022</td>\n",
       "      <td>12</td>\n",
       "      <td>ZEQUINHA MARINHO</td>\n",
       "      <td>Passagens aï¿½reas, aquï¿½ticas e terrestres n...</td>\n",
       "      <td>22.052.777/0001-32</td>\n",
       "      <td>Exceller Tour</td>\n",
       "      <td>QNN9HX</td>\n",
       "      <td>21/12/2022</td>\n",
       "      <td>Companhia Aï¿½rea: AZUL, Localizador: QNN9HX. ...</td>\n",
       "      <td>1334,31</td>\n",
       "      <td>2192244</td>\n",
       "    </tr>\n",
       "    <tr>\n",
       "      <th>69332</th>\n",
       "      <td>2022</td>\n",
       "      <td>12</td>\n",
       "      <td>ZEQUINHA MARINHO</td>\n",
       "      <td>Passagens aï¿½reas, aquï¿½ticas e terrestres n...</td>\n",
       "      <td>22.052.777/0001-32</td>\n",
       "      <td>Exceller Tour</td>\n",
       "      <td>WMQWBX</td>\n",
       "      <td>30/12/2022</td>\n",
       "      <td>Companhia Aï¿½rea: TAM, Localizador: WMQWBX. P...</td>\n",
       "      <td>2250,72</td>\n",
       "      <td>2193622</td>\n",
       "    </tr>\n",
       "  </tbody>\n",
       "</table>\n",
       "<p>36752 rows × 11 columns</p>\n",
       "</div>"
      ],
      "text/plain": [
       "        ANO  MES           SENADOR  \\\n",
       "0      2019    1      ACIR GURGACZ   \n",
       "1      2019    1      ACIR GURGACZ   \n",
       "2      2019    1      ACIR GURGACZ   \n",
       "3      2019    1      ACIR GURGACZ   \n",
       "4      2019    2      ACIR GURGACZ   \n",
       "...     ...  ...               ...   \n",
       "69328  2022   12  ZEQUINHA MARINHO   \n",
       "69329  2022   12  ZEQUINHA MARINHO   \n",
       "69330  2022   12  ZEQUINHA MARINHO   \n",
       "69331  2022   12  ZEQUINHA MARINHO   \n",
       "69332  2022   12  ZEQUINHA MARINHO   \n",
       "\n",
       "                                            TIPO_DESPESA            CNPJ_CPF  \\\n",
       "0      Aluguel de imï¿½veis para escritï¿½rio polï¿½t...  05.914.650/0001-66   \n",
       "1      Aluguel de imï¿½veis para escritï¿½rio polï¿½t...  05.914.650/0001-66   \n",
       "2      Aluguel de imï¿½veis para escritï¿½rio polï¿½t...      004.948.028-63   \n",
       "3      Aluguel de imï¿½veis para escritï¿½rio polï¿½t...  05.423.963/0001-11   \n",
       "4      Aluguel de imï¿½veis para escritï¿½rio polï¿½t...  05.914.650/0001-66   \n",
       "...                                                  ...                 ...   \n",
       "69328  Passagens aï¿½reas, aquï¿½ticas e terrestres n...  22.052.777/0001-32   \n",
       "69329  Passagens aï¿½reas, aquï¿½ticas e terrestres n...  22.052.777/0001-32   \n",
       "69330  Passagens aï¿½reas, aquï¿½ticas e terrestres n...  22.052.777/0001-32   \n",
       "69331  Passagens aï¿½reas, aquï¿½ticas e terrestres n...  22.052.777/0001-32   \n",
       "69332  Passagens aï¿½reas, aquï¿½ticas e terrestres n...  22.052.777/0001-32   \n",
       "\n",
       "                          FORNECEDOR  DOCUMENTO        DATA  \\\n",
       "0                           ENERGISA  006582758  04/01/2019   \n",
       "1                           ENERGISA  006582755  04/01/2019   \n",
       "2      GILBERTO PISELO DO NASCIMENTO      00119  07/01/2019   \n",
       "3                    OI Mï¿½VEL S.A.   86161151  25/12/2018   \n",
       "4                           ENERGISA  007236036  04/02/2019   \n",
       "...                              ...        ...         ...   \n",
       "69328                  Exceller Tour     WIXHAI  06/12/2022   \n",
       "69329                  Exceller Tour     WITOLM  09/12/2022   \n",
       "69330                  Exceller Tour     THPKVQ  20/12/2022   \n",
       "69331                  Exceller Tour     QNN9HX  21/12/2022   \n",
       "69332                  Exceller Tour     WMQWBX  30/12/2022   \n",
       "\n",
       "                                            DETALHAMENTO VALOR_REEMBOLSADO  \\\n",
       "0      Despesa com pagamento de energia elï¿½trica do...             66,02   \n",
       "1      Despesa com pagamento de energia elï¿½trica do...            139,98   \n",
       "2      Despesa com pagamento de aluguel de imï¿½vel p...              6000   \n",
       "3      Despesa com pagamento de telefonia para o escr...            316,39   \n",
       "4      Despesa com pagamento de energia elï¿½trica pa...             99,45   \n",
       "...                                                  ...               ...   \n",
       "69328  Companhia Aï¿½rea: LATAM, Localizador: WIXHAI....           2893,04   \n",
       "69329  Companhia Aï¿½rea: GOL, Localizador: WITOLM. P...           1180,19   \n",
       "69330  Companhia Aï¿½rea: TAM, Localizador: THPKVQ. P...            2671,9   \n",
       "69331  Companhia Aï¿½rea: AZUL, Localizador: QNN9HX. ...           1334,31   \n",
       "69332  Companhia Aï¿½rea: TAM, Localizador: WMQWBX. P...           2250,72   \n",
       "\n",
       "       COD_DOCUMENTO  \n",
       "0            2116543  \n",
       "1            2116546  \n",
       "2            2113817  \n",
       "3            2116541  \n",
       "4            2116550  \n",
       "...              ...  \n",
       "69328        2191398  \n",
       "69329        2192272  \n",
       "69330        2192274  \n",
       "69331        2192244  \n",
       "69332        2193622  \n",
       "\n",
       "[36752 rows x 11 columns]"
      ]
     },
     "execution_count": 63,
     "metadata": {},
     "output_type": "execute_result"
    }
   ],
   "source": [
    "combined_df.dropna()"
   ]
  },
  {
   "cell_type": "code",
   "execution_count": 64,
   "metadata": {},
   "outputs": [],
   "source": [
    "# Substituir vírgulas por pontos na coluna 'VALOR_REEMBOLSADO'\n",
    "combined_df['VALOR_REEMBOLSADO'] = combined_df['VALOR_REEMBOLSADO'].str.replace(',', '.')\n",
    "\n",
    "# Convertendo a coluna 'VALOR_REEMBOLSADO' para tipo numérico (float)\n",
    "combined_df['VALOR_REEMBOLSADO'] = combined_df['VALOR_REEMBOLSADO'].astype(float)\n",
    "\n"
   ]
  },
  {
   "cell_type": "code",
   "execution_count": 65,
   "metadata": {},
   "outputs": [
    {
     "data": {
      "text/html": [
       "<div>\n",
       "<style scoped>\n",
       "    .dataframe tbody tr th:only-of-type {\n",
       "        vertical-align: middle;\n",
       "    }\n",
       "\n",
       "    .dataframe tbody tr th {\n",
       "        vertical-align: top;\n",
       "    }\n",
       "\n",
       "    .dataframe thead th {\n",
       "        text-align: right;\n",
       "    }\n",
       "</style>\n",
       "<table border=\"1\" class=\"dataframe\">\n",
       "  <thead>\n",
       "    <tr style=\"text-align: right;\">\n",
       "      <th></th>\n",
       "      <th>ANO</th>\n",
       "      <th>MES</th>\n",
       "      <th>SENADOR</th>\n",
       "      <th>TIPO_DESPESA</th>\n",
       "      <th>CNPJ_CPF</th>\n",
       "      <th>FORNECEDOR</th>\n",
       "      <th>DOCUMENTO</th>\n",
       "      <th>DATA</th>\n",
       "      <th>DETALHAMENTO</th>\n",
       "      <th>VALOR_REEMBOLSADO</th>\n",
       "      <th>COD_DOCUMENTO</th>\n",
       "    </tr>\n",
       "  </thead>\n",
       "  <tbody>\n",
       "    <tr>\n",
       "      <th>0</th>\n",
       "      <td>2019</td>\n",
       "      <td>1</td>\n",
       "      <td>ACIR GURGACZ</td>\n",
       "      <td>Aluguel de imï¿½veis para escritï¿½rio polï¿½t...</td>\n",
       "      <td>05.914.650/0001-66</td>\n",
       "      <td>ENERGISA</td>\n",
       "      <td>006582758</td>\n",
       "      <td>04/01/2019</td>\n",
       "      <td>Despesa com pagamento de energia elï¿½trica do...</td>\n",
       "      <td>66.02</td>\n",
       "      <td>2116543</td>\n",
       "    </tr>\n",
       "    <tr>\n",
       "      <th>1</th>\n",
       "      <td>2019</td>\n",
       "      <td>1</td>\n",
       "      <td>ACIR GURGACZ</td>\n",
       "      <td>Aluguel de imï¿½veis para escritï¿½rio polï¿½t...</td>\n",
       "      <td>05.914.650/0001-66</td>\n",
       "      <td>ENERGISA</td>\n",
       "      <td>006582755</td>\n",
       "      <td>04/01/2019</td>\n",
       "      <td>Despesa com pagamento de energia elï¿½trica do...</td>\n",
       "      <td>139.98</td>\n",
       "      <td>2116546</td>\n",
       "    </tr>\n",
       "    <tr>\n",
       "      <th>2</th>\n",
       "      <td>2019</td>\n",
       "      <td>1</td>\n",
       "      <td>ACIR GURGACZ</td>\n",
       "      <td>Aluguel de imï¿½veis para escritï¿½rio polï¿½t...</td>\n",
       "      <td>004.948.028-63</td>\n",
       "      <td>GILBERTO PISELO DO NASCIMENTO</td>\n",
       "      <td>00119</td>\n",
       "      <td>07/01/2019</td>\n",
       "      <td>Despesa com pagamento de aluguel de imï¿½vel p...</td>\n",
       "      <td>6000.00</td>\n",
       "      <td>2113817</td>\n",
       "    </tr>\n",
       "    <tr>\n",
       "      <th>3</th>\n",
       "      <td>2019</td>\n",
       "      <td>1</td>\n",
       "      <td>ACIR GURGACZ</td>\n",
       "      <td>Aluguel de imï¿½veis para escritï¿½rio polï¿½t...</td>\n",
       "      <td>05.423.963/0001-11</td>\n",
       "      <td>OI Mï¿½VEL S.A.</td>\n",
       "      <td>86161151</td>\n",
       "      <td>25/12/2018</td>\n",
       "      <td>Despesa com pagamento de telefonia para o escr...</td>\n",
       "      <td>316.39</td>\n",
       "      <td>2116541</td>\n",
       "    </tr>\n",
       "    <tr>\n",
       "      <th>4</th>\n",
       "      <td>2019</td>\n",
       "      <td>2</td>\n",
       "      <td>ACIR GURGACZ</td>\n",
       "      <td>Aluguel de imï¿½veis para escritï¿½rio polï¿½t...</td>\n",
       "      <td>05.914.650/0001-66</td>\n",
       "      <td>ENERGISA</td>\n",
       "      <td>007236036</td>\n",
       "      <td>04/02/2019</td>\n",
       "      <td>Despesa com pagamento de energia elï¿½trica pa...</td>\n",
       "      <td>99.45</td>\n",
       "      <td>2116550</td>\n",
       "    </tr>\n",
       "    <tr>\n",
       "      <th>...</th>\n",
       "      <td>...</td>\n",
       "      <td>...</td>\n",
       "      <td>...</td>\n",
       "      <td>...</td>\n",
       "      <td>...</td>\n",
       "      <td>...</td>\n",
       "      <td>...</td>\n",
       "      <td>...</td>\n",
       "      <td>...</td>\n",
       "      <td>...</td>\n",
       "      <td>...</td>\n",
       "    </tr>\n",
       "    <tr>\n",
       "      <th>69328</th>\n",
       "      <td>2022</td>\n",
       "      <td>12</td>\n",
       "      <td>ZEQUINHA MARINHO</td>\n",
       "      <td>Passagens aï¿½reas, aquï¿½ticas e terrestres n...</td>\n",
       "      <td>22.052.777/0001-32</td>\n",
       "      <td>Exceller Tour</td>\n",
       "      <td>WIXHAI</td>\n",
       "      <td>06/12/2022</td>\n",
       "      <td>Companhia Aï¿½rea: LATAM, Localizador: WIXHAI....</td>\n",
       "      <td>2893.04</td>\n",
       "      <td>2191398</td>\n",
       "    </tr>\n",
       "    <tr>\n",
       "      <th>69329</th>\n",
       "      <td>2022</td>\n",
       "      <td>12</td>\n",
       "      <td>ZEQUINHA MARINHO</td>\n",
       "      <td>Passagens aï¿½reas, aquï¿½ticas e terrestres n...</td>\n",
       "      <td>22.052.777/0001-32</td>\n",
       "      <td>Exceller Tour</td>\n",
       "      <td>WITOLM</td>\n",
       "      <td>09/12/2022</td>\n",
       "      <td>Companhia Aï¿½rea: GOL, Localizador: WITOLM. P...</td>\n",
       "      <td>1180.19</td>\n",
       "      <td>2192272</td>\n",
       "    </tr>\n",
       "    <tr>\n",
       "      <th>69330</th>\n",
       "      <td>2022</td>\n",
       "      <td>12</td>\n",
       "      <td>ZEQUINHA MARINHO</td>\n",
       "      <td>Passagens aï¿½reas, aquï¿½ticas e terrestres n...</td>\n",
       "      <td>22.052.777/0001-32</td>\n",
       "      <td>Exceller Tour</td>\n",
       "      <td>THPKVQ</td>\n",
       "      <td>20/12/2022</td>\n",
       "      <td>Companhia Aï¿½rea: TAM, Localizador: THPKVQ. P...</td>\n",
       "      <td>2671.90</td>\n",
       "      <td>2192274</td>\n",
       "    </tr>\n",
       "    <tr>\n",
       "      <th>69331</th>\n",
       "      <td>2022</td>\n",
       "      <td>12</td>\n",
       "      <td>ZEQUINHA MARINHO</td>\n",
       "      <td>Passagens aï¿½reas, aquï¿½ticas e terrestres n...</td>\n",
       "      <td>22.052.777/0001-32</td>\n",
       "      <td>Exceller Tour</td>\n",
       "      <td>QNN9HX</td>\n",
       "      <td>21/12/2022</td>\n",
       "      <td>Companhia Aï¿½rea: AZUL, Localizador: QNN9HX. ...</td>\n",
       "      <td>1334.31</td>\n",
       "      <td>2192244</td>\n",
       "    </tr>\n",
       "    <tr>\n",
       "      <th>69332</th>\n",
       "      <td>2022</td>\n",
       "      <td>12</td>\n",
       "      <td>ZEQUINHA MARINHO</td>\n",
       "      <td>Passagens aï¿½reas, aquï¿½ticas e terrestres n...</td>\n",
       "      <td>22.052.777/0001-32</td>\n",
       "      <td>Exceller Tour</td>\n",
       "      <td>WMQWBX</td>\n",
       "      <td>30/12/2022</td>\n",
       "      <td>Companhia Aï¿½rea: TAM, Localizador: WMQWBX. P...</td>\n",
       "      <td>2250.72</td>\n",
       "      <td>2193622</td>\n",
       "    </tr>\n",
       "  </tbody>\n",
       "</table>\n",
       "<p>69333 rows × 11 columns</p>\n",
       "</div>"
      ],
      "text/plain": [
       "        ANO  MES           SENADOR  \\\n",
       "0      2019    1      ACIR GURGACZ   \n",
       "1      2019    1      ACIR GURGACZ   \n",
       "2      2019    1      ACIR GURGACZ   \n",
       "3      2019    1      ACIR GURGACZ   \n",
       "4      2019    2      ACIR GURGACZ   \n",
       "...     ...  ...               ...   \n",
       "69328  2022   12  ZEQUINHA MARINHO   \n",
       "69329  2022   12  ZEQUINHA MARINHO   \n",
       "69330  2022   12  ZEQUINHA MARINHO   \n",
       "69331  2022   12  ZEQUINHA MARINHO   \n",
       "69332  2022   12  ZEQUINHA MARINHO   \n",
       "\n",
       "                                            TIPO_DESPESA            CNPJ_CPF  \\\n",
       "0      Aluguel de imï¿½veis para escritï¿½rio polï¿½t...  05.914.650/0001-66   \n",
       "1      Aluguel de imï¿½veis para escritï¿½rio polï¿½t...  05.914.650/0001-66   \n",
       "2      Aluguel de imï¿½veis para escritï¿½rio polï¿½t...      004.948.028-63   \n",
       "3      Aluguel de imï¿½veis para escritï¿½rio polï¿½t...  05.423.963/0001-11   \n",
       "4      Aluguel de imï¿½veis para escritï¿½rio polï¿½t...  05.914.650/0001-66   \n",
       "...                                                  ...                 ...   \n",
       "69328  Passagens aï¿½reas, aquï¿½ticas e terrestres n...  22.052.777/0001-32   \n",
       "69329  Passagens aï¿½reas, aquï¿½ticas e terrestres n...  22.052.777/0001-32   \n",
       "69330  Passagens aï¿½reas, aquï¿½ticas e terrestres n...  22.052.777/0001-32   \n",
       "69331  Passagens aï¿½reas, aquï¿½ticas e terrestres n...  22.052.777/0001-32   \n",
       "69332  Passagens aï¿½reas, aquï¿½ticas e terrestres n...  22.052.777/0001-32   \n",
       "\n",
       "                          FORNECEDOR  DOCUMENTO        DATA  \\\n",
       "0                           ENERGISA  006582758  04/01/2019   \n",
       "1                           ENERGISA  006582755  04/01/2019   \n",
       "2      GILBERTO PISELO DO NASCIMENTO      00119  07/01/2019   \n",
       "3                    OI Mï¿½VEL S.A.   86161151  25/12/2018   \n",
       "4                           ENERGISA  007236036  04/02/2019   \n",
       "...                              ...        ...         ...   \n",
       "69328                  Exceller Tour     WIXHAI  06/12/2022   \n",
       "69329                  Exceller Tour     WITOLM  09/12/2022   \n",
       "69330                  Exceller Tour     THPKVQ  20/12/2022   \n",
       "69331                  Exceller Tour     QNN9HX  21/12/2022   \n",
       "69332                  Exceller Tour     WMQWBX  30/12/2022   \n",
       "\n",
       "                                            DETALHAMENTO  VALOR_REEMBOLSADO  \\\n",
       "0      Despesa com pagamento de energia elï¿½trica do...              66.02   \n",
       "1      Despesa com pagamento de energia elï¿½trica do...             139.98   \n",
       "2      Despesa com pagamento de aluguel de imï¿½vel p...            6000.00   \n",
       "3      Despesa com pagamento de telefonia para o escr...             316.39   \n",
       "4      Despesa com pagamento de energia elï¿½trica pa...              99.45   \n",
       "...                                                  ...                ...   \n",
       "69328  Companhia Aï¿½rea: LATAM, Localizador: WIXHAI....            2893.04   \n",
       "69329  Companhia Aï¿½rea: GOL, Localizador: WITOLM. P...            1180.19   \n",
       "69330  Companhia Aï¿½rea: TAM, Localizador: THPKVQ. P...            2671.90   \n",
       "69331  Companhia Aï¿½rea: AZUL, Localizador: QNN9HX. ...            1334.31   \n",
       "69332  Companhia Aï¿½rea: TAM, Localizador: WMQWBX. P...            2250.72   \n",
       "\n",
       "       COD_DOCUMENTO  \n",
       "0            2116543  \n",
       "1            2116546  \n",
       "2            2113817  \n",
       "3            2116541  \n",
       "4            2116550  \n",
       "...              ...  \n",
       "69328        2191398  \n",
       "69329        2192272  \n",
       "69330        2192274  \n",
       "69331        2192244  \n",
       "69332        2193622  \n",
       "\n",
       "[69333 rows x 11 columns]"
      ]
     },
     "execution_count": 65,
     "metadata": {},
     "output_type": "execute_result"
    }
   ],
   "source": [
    "combined_df"
   ]
  },
  {
   "cell_type": "markdown",
   "metadata": {},
   "source": [
    "# Day 2: Data Visualization & Storytelling"
   ]
  },
  {
   "cell_type": "code",
   "execution_count": 66,
   "metadata": {},
   "outputs": [
    {
     "data": {
      "text/plain": [
       "Index(['ANO', 'MES', 'SENADOR', 'TIPO_DESPESA', 'CNPJ_CPF', 'FORNECEDOR',\n",
       "       'DOCUMENTO', 'DATA', 'DETALHAMENTO', 'VALOR_REEMBOLSADO',\n",
       "       'COD_DOCUMENTO'],\n",
       "      dtype='object')"
      ]
     },
     "execution_count": 66,
     "metadata": {},
     "output_type": "execute_result"
    }
   ],
   "source": [
    "combined_df.columns"
   ]
  },
  {
   "cell_type": "code",
   "execution_count": 67,
   "metadata": {},
   "outputs": [
    {
     "data": {
      "text/html": [
       "<div>\n",
       "<style scoped>\n",
       "    .dataframe tbody tr th:only-of-type {\n",
       "        vertical-align: middle;\n",
       "    }\n",
       "\n",
       "    .dataframe tbody tr th {\n",
       "        vertical-align: top;\n",
       "    }\n",
       "\n",
       "    .dataframe thead th {\n",
       "        text-align: right;\n",
       "    }\n",
       "</style>\n",
       "<table border=\"1\" class=\"dataframe\">\n",
       "  <thead>\n",
       "    <tr style=\"text-align: right;\">\n",
       "      <th></th>\n",
       "      <th>ANO</th>\n",
       "      <th>MES</th>\n",
       "      <th>VALOR_REEMBOLSADO</th>\n",
       "      <th>COD_DOCUMENTO</th>\n",
       "    </tr>\n",
       "  </thead>\n",
       "  <tbody>\n",
       "    <tr>\n",
       "      <th>count</th>\n",
       "      <td>69333.000000</td>\n",
       "      <td>69333.000000</td>\n",
       "      <td>69333.000000</td>\n",
       "      <td>6.933300e+04</td>\n",
       "    </tr>\n",
       "    <tr>\n",
       "      <th>mean</th>\n",
       "      <td>2020.414766</td>\n",
       "      <td>6.584945</td>\n",
       "      <td>1413.131098</td>\n",
       "      <td>2.153664e+06</td>\n",
       "    </tr>\n",
       "    <tr>\n",
       "      <th>std</th>\n",
       "      <td>1.162288</td>\n",
       "      <td>3.369021</td>\n",
       "      <td>3098.174309</td>\n",
       "      <td>2.257438e+04</td>\n",
       "    </tr>\n",
       "    <tr>\n",
       "      <th>min</th>\n",
       "      <td>2019.000000</td>\n",
       "      <td>1.000000</td>\n",
       "      <td>0.010000</td>\n",
       "      <td>2.112846e+06</td>\n",
       "    </tr>\n",
       "    <tr>\n",
       "      <th>25%</th>\n",
       "      <td>2019.000000</td>\n",
       "      <td>4.000000</td>\n",
       "      <td>158.140000</td>\n",
       "      <td>2.134374e+06</td>\n",
       "    </tr>\n",
       "    <tr>\n",
       "      <th>50%</th>\n",
       "      <td>2020.000000</td>\n",
       "      <td>7.000000</td>\n",
       "      <td>426.040000</td>\n",
       "      <td>2.153693e+06</td>\n",
       "    </tr>\n",
       "    <tr>\n",
       "      <th>75%</th>\n",
       "      <td>2021.000000</td>\n",
       "      <td>10.000000</td>\n",
       "      <td>1570.560000</td>\n",
       "      <td>2.172904e+06</td>\n",
       "    </tr>\n",
       "    <tr>\n",
       "      <th>max</th>\n",
       "      <td>2022.000000</td>\n",
       "      <td>12.000000</td>\n",
       "      <td>120000.000000</td>\n",
       "      <td>2.198297e+06</td>\n",
       "    </tr>\n",
       "  </tbody>\n",
       "</table>\n",
       "</div>"
      ],
      "text/plain": [
       "                ANO           MES  VALOR_REEMBOLSADO  COD_DOCUMENTO\n",
       "count  69333.000000  69333.000000       69333.000000   6.933300e+04\n",
       "mean    2020.414766      6.584945        1413.131098   2.153664e+06\n",
       "std        1.162288      3.369021        3098.174309   2.257438e+04\n",
       "min     2019.000000      1.000000           0.010000   2.112846e+06\n",
       "25%     2019.000000      4.000000         158.140000   2.134374e+06\n",
       "50%     2020.000000      7.000000         426.040000   2.153693e+06\n",
       "75%     2021.000000     10.000000        1570.560000   2.172904e+06\n",
       "max     2022.000000     12.000000      120000.000000   2.198297e+06"
      ]
     },
     "execution_count": 67,
     "metadata": {},
     "output_type": "execute_result"
    }
   ],
   "source": [
    "combined_df.describe()"
   ]
  },
  {
   "cell_type": "code",
   "execution_count": 68,
   "metadata": {},
   "outputs": [
    {
     "name": "stdout",
     "output_type": "stream",
     "text": [
      "Requirement already satisfied: plotly in c:\\users\\camil\\appdata\\local\\programs\\python\\python310\\lib\\site-packages (5.18.0)\n",
      "Requirement already satisfied: packaging in c:\\users\\camil\\appdata\\roaming\\python\\python310\\site-packages (from plotly) (23.1)\n",
      "Requirement already satisfied: tenacity>=6.2.0 in c:\\users\\camil\\appdata\\local\\programs\\python\\python310\\lib\\site-packages (from plotly) (8.2.3)\n",
      "Note: you may need to restart the kernel to use updated packages.\n"
     ]
    },
    {
     "name": "stderr",
     "output_type": "stream",
     "text": [
      "WARNING: You are using pip version 21.2.3; however, version 24.0 is available.\n",
      "You should consider upgrading via the 'c:\\Users\\camil\\AppData\\Local\\Programs\\Python\\Python310\\python.exe -m pip install --upgrade pip' command.\n"
     ]
    }
   ],
   "source": [
    "pip install plotly"
   ]
  },
  {
   "cell_type": "code",
   "execution_count": 69,
   "metadata": {},
   "outputs": [],
   "source": [
    "import plotly.offline as py\n",
    "import plotly.graph_objs as go"
   ]
  },
  {
   "cell_type": "markdown",
   "metadata": {},
   "source": [
    "### Qual foi o senador que mais declarou despesas?"
   ]
  },
  {
   "cell_type": "code",
   "execution_count": 70,
   "metadata": {},
   "outputs": [
    {
     "name": "stdout",
     "output_type": "stream",
     "text": [
      "O senador que mais declarou despesas é: TELMï¿½RIO MOTA\n"
     ]
    }
   ],
   "source": [
    "total_por_senador = combined_df.groupby('SENADOR')['VALOR_REEMBOLSADO'].sum()\n",
    "\n",
    "# Ordenar os resultados em ordem decrescente\n",
    "total_por_senador = total_por_senador.sort_values(ascending=False)\n",
    "\n",
    "# Obter o senador que mais declarou despesas\n",
    "senador_mais_despesas = total_por_senador.idxmax()\n",
    "\n",
    "print(\"O senador que mais declarou despesas é:\", senador_mais_despesas)\n"
   ]
  },
  {
   "cell_type": "code",
   "execution_count": 71,
   "metadata": {},
   "outputs": [
    {
     "data": {
      "application/vnd.plotly.v1+json": {
       "config": {
        "plotlyServerURL": "https://plot.ly"
       },
       "data": [
        {
         "type": "bar",
         "x": [
          "TELMï¿½RIO MOTA",
          "ROGï¿½RIO CARVALHO",
          "MECIAS DE JESUS",
          "PAULO ROCHA",
          "MAILZA GOMES",
          "ROBERTO ROCHA",
          "ZEQUINHA MARINHO",
          "ELIZIANE GAMA",
          "EDUARDO BRAGA",
          "WELLINGTON FAGUNDES",
          "DAVI ALCOLUMBRE",
          "JEAN PAUL PRATES",
          "MARCIO BITTAR",
          "CHICO RODRIGUES",
          "JAQUES WAGNER",
          "OMAR AZIZ",
          "LUCAS BARRETO",
          "ANGELO CORONEL",
          "Sï¿½RGIO PETECï¿½O",
          "ELMANO Fï¿½RRER",
          "MARCOS ROGï¿½RIO",
          "ALESSANDRO VIEIRA",
          "NELSINHO TRAD",
          "ACIR GURGACZ",
          "HUMBERTO COSTA",
          "FERNANDO BEZERRA COELHO",
          "FERNANDO COLLOR",
          "WEVERTON ROCHA",
          "MARCELO CASTRO",
          "RANDOLFE RODRIGUES",
          "ZENAIDE MAIA",
          "VENEZIANO VITAL DO Rï¿½GO",
          "LUIS CARLOS HEINZE",
          "CARLOS VIANA",
          "PLï¿½NIO VALï¿½RIO",
          "JARBAS VASCONCELOS",
          "JADER BARBALHO",
          "RODRIGO CUNHA",
          "JORGINHO MELLO",
          "DANIELLA RIBEIRO",
          "ESPERIDIï¿½O AMIN",
          "IRAJï¿½",
          "CIRO NOGUEIRA",
          "ROMï¿½RIO",
          "PAULO PAIM",
          "MARA GABRILLI",
          "RENAN CALHEIROS",
          "Dï¿½RIO BERGER",
          "CID GOMES",
          "EDUARDO GOMES",
          "LUIZ CARLOS DO CARMO",
          "RODRIGO PACHECO",
          "CARLOS Fï¿½VARO",
          "IZALCI LUCAS",
          "MARIA DO CARMO ALVES",
          "LASIER MARTINS",
          "JOSï¿½ SERRA",
          "SORAYA THRONICKE",
          "ANTONIO ANASTASIA",
          "MARCOS DO VAL",
          "JAYME CAMPOS",
          "CARLOS PORTINHO",
          "SIMONE TEBET",
          "CONFï¿½CIO MOURA",
          "Kï¿½TIA ABREU",
          "ROSE DE FREITAS",
          "FLï¿½VIO ARNS",
          "TASSO JEREISSATI",
          "OTTO ALENCAR",
          "FLï¿½VIO BOLSONARO",
          "FABIANO CONTARATO",
          "STYVENSON VALENTIM",
          "MAJOR OLIMPIO",
          "JOSï¿½ MARANHï¿½O",
          "NILDA GONDIM",
          "ELIANE NOGUEIRA",
          "AROLDE DE OLIVEIRA",
          "JUï¿½ZA SELMA",
          "GIORDANO",
          "VANDERLAN CARDOSO",
          "ALEXANDRE SILVEIRA",
          "ALVARO DIAS",
          "ORIOVISTO GUIMARï¿½ES",
          "JOSï¿½ ANï¿½BAL",
          "EDUARDO VELLOSO",
          "PAULO ALBUQUERQUE",
          "MARGARETH BUZETTI",
          "EDUARDO GIRï¿½O",
          "DRA. EUDï¿½CIA",
          "RENILDE BULHï¿½ES",
          "JULIO VENTURA",
          "MARIA DAS VITï¿½RIAS",
          "CHIQUINHO FEITOSA",
          "ROBERTH BRINGEL",
          "IVETE DA SILVEIRA",
          "RAFAEL TENï¿½RIO",
          "DIEGO TAVARES",
          "FABIO GARCIA",
          "MARIA ELIZA DE AGUIAR E SILVA",
          "LUIZ PASTORE",
          "PRISCO BEZERRA",
          "NEY SUASSUNA",
          "FERNANDO DUEIRE",
          "GUARACY SILVEIRA",
          "JOï¿½O CAPIBERIBE",
          "ANTï¿½NIO CARLOS VALADARES",
          "OGARI PACHECO",
          "ï¿½NGELA PORTELA",
          "Zï¿½ SANTANA",
          "EDISON LOBï¿½O",
          "ARMANDO MONTEIRO",
          "JOSï¿½ MEDEIROS",
          "IVO CASSOL",
          "VALDIR RAUPP",
          "FLEXA RIBEIRO",
          "VANESSA GRAZZIOTIN",
          "JORGE VIANA",
          "GLEISI HOFFMANN",
          "JOSï¿½ AGRIPINO",
          "VICENTINHO ALVES",
          "ATAï¿½DES OLIVEIRA",
          "Lï¿½CIA Vï¿½NIA",
          "RICARDO FERRAï¿½O",
          "WILDER MORAIS",
          "Hï¿½LIO JOSï¿½",
          "Aï¿½CIO NEVES",
          "Lï¿½DICE DA MATA",
          "LINDBERGH FARIAS",
          "ALOYSIO NUNES FERREIRA",
          "PAULO BAUER",
          "ROBERTO REQUIï¿½O",
          "ROMERO JUCï¿½",
          "ANA AMï¿½LIA",
          "DALIRIO BEBER",
          "RAIMUNDO LIRA",
          "MARTA SUPLICY",
          "EDUARDO AMORIM",
          "Cï¿½SSIO CUNHA LIMA",
          "JOï¿½O ALBERTO SOUZA",
          "WALTER PINHEIRO",
          "PEDRO CHAVES DOS SANTOS FILHO",
          "GARIBALDI ALVES FILHO",
          "LEILA BARROS",
          "BLAIRO MAGGI",
          "BENEDITO DE LIRA",
          "ZEZï¿½ PERRELLA",
          "SAMUEL ARAUJO",
          "WALDEMIR MOKA",
          "SIQUEIRA CAMPOS",
          "VIRGINIO DE CARVALHO",
          "MAGNO MALTA",
          "JOSï¿½ PIMENTEL",
          "NAILDE PANTA"
         ],
         "y": [
          1951401.21,
          1928300.49,
          1913241.64,
          1885315.28,
          1793120.58,
          1727057.62,
          1698140.72,
          1697709.01,
          1683525.68,
          1671934.35,
          1660472.68,
          1651654.38,
          1644885.07,
          1640967.75,
          1640880.43,
          1628325.53,
          1596777.49,
          1584308.03,
          1574648.24,
          1566917.21,
          1556065.51,
          1552531.31,
          1546415.06,
          1503143.33,
          1502329.79,
          1477856.19,
          1475529.26,
          1466484.84,
          1452035.67,
          1426900.15,
          1372918.98,
          1366926.1,
          1346962.08,
          1306418.45,
          1298402.08,
          1265313.1,
          1258146.97,
          1228559.78,
          1227729.68,
          1224185.15,
          1215137.57,
          1184770.52,
          1141032.32,
          1106681.73,
          1078519.85,
          1069633.69,
          1045615.42,
          1042374.23,
          1023049.99,
          986152,
          949707.97,
          935853.77,
          931513.65,
          918382.95,
          889657.99,
          888641.61,
          885001.33,
          858733.1,
          857489.51,
          848604.91,
          835382.63,
          824604.37,
          795978.14,
          794187.05,
          789778.3,
          757864.99,
          733724.09,
          713858.46,
          690473.67,
          652969.6,
          562350.97,
          554292.71,
          516835.08,
          496884.6,
          467401.35,
          446282.26,
          429084.01,
          393556.47000000003,
          368673.47000000003,
          344251.23,
          243079.18,
          219253.43,
          213045.51,
          167344.5,
          155344.72,
          143591.24,
          141726.55,
          140284.37,
          137039.53,
          134978.27,
          129336.67,
          128518.22,
          123347.22,
          122079.31,
          120394.89,
          119423.79,
          106364.41,
          101915.43000000001,
          63084.59,
          60406.189999999995,
          51998.36,
          50123.91,
          50109.17,
          44501.020000000004,
          42855.2,
          41844.45,
          39771.86,
          39411.85,
          38678.43,
          37396.6,
          34974.54,
          34934.45,
          34016.2,
          33526.85,
          33263.42,
          31853.02,
          28663.81,
          28134.75,
          26222.93,
          25215.2,
          24621.579999999998,
          21045.2,
          20897.1,
          20887.38,
          20850,
          19739.01,
          19053.78,
          18886.420000000002,
          18450.05,
          18428.66,
          18037.04,
          16909.27,
          16596.829999999998,
          14635.33,
          14090.7,
          13323.43,
          12810.46,
          12032.51,
          11595.28,
          11505.99,
          10948.09,
          10668.93,
          10567.64,
          8543.95,
          8508.78,
          7961.09,
          7710.9,
          7096.87,
          5926.99,
          5720.5599999999995,
          4725.79,
          4713.74,
          1650.62
         ]
        }
       ],
       "layout": {
        "template": {
         "data": {
          "bar": [
           {
            "error_x": {
             "color": "#2a3f5f"
            },
            "error_y": {
             "color": "#2a3f5f"
            },
            "marker": {
             "line": {
              "color": "#E5ECF6",
              "width": 0.5
             },
             "pattern": {
              "fillmode": "overlay",
              "size": 10,
              "solidity": 0.2
             }
            },
            "type": "bar"
           }
          ],
          "barpolar": [
           {
            "marker": {
             "line": {
              "color": "#E5ECF6",
              "width": 0.5
             },
             "pattern": {
              "fillmode": "overlay",
              "size": 10,
              "solidity": 0.2
             }
            },
            "type": "barpolar"
           }
          ],
          "carpet": [
           {
            "aaxis": {
             "endlinecolor": "#2a3f5f",
             "gridcolor": "white",
             "linecolor": "white",
             "minorgridcolor": "white",
             "startlinecolor": "#2a3f5f"
            },
            "baxis": {
             "endlinecolor": "#2a3f5f",
             "gridcolor": "white",
             "linecolor": "white",
             "minorgridcolor": "white",
             "startlinecolor": "#2a3f5f"
            },
            "type": "carpet"
           }
          ],
          "choropleth": [
           {
            "colorbar": {
             "outlinewidth": 0,
             "ticks": ""
            },
            "type": "choropleth"
           }
          ],
          "contour": [
           {
            "colorbar": {
             "outlinewidth": 0,
             "ticks": ""
            },
            "colorscale": [
             [
              0,
              "#0d0887"
             ],
             [
              0.1111111111111111,
              "#46039f"
             ],
             [
              0.2222222222222222,
              "#7201a8"
             ],
             [
              0.3333333333333333,
              "#9c179e"
             ],
             [
              0.4444444444444444,
              "#bd3786"
             ],
             [
              0.5555555555555556,
              "#d8576b"
             ],
             [
              0.6666666666666666,
              "#ed7953"
             ],
             [
              0.7777777777777778,
              "#fb9f3a"
             ],
             [
              0.8888888888888888,
              "#fdca26"
             ],
             [
              1,
              "#f0f921"
             ]
            ],
            "type": "contour"
           }
          ],
          "contourcarpet": [
           {
            "colorbar": {
             "outlinewidth": 0,
             "ticks": ""
            },
            "type": "contourcarpet"
           }
          ],
          "heatmap": [
           {
            "colorbar": {
             "outlinewidth": 0,
             "ticks": ""
            },
            "colorscale": [
             [
              0,
              "#0d0887"
             ],
             [
              0.1111111111111111,
              "#46039f"
             ],
             [
              0.2222222222222222,
              "#7201a8"
             ],
             [
              0.3333333333333333,
              "#9c179e"
             ],
             [
              0.4444444444444444,
              "#bd3786"
             ],
             [
              0.5555555555555556,
              "#d8576b"
             ],
             [
              0.6666666666666666,
              "#ed7953"
             ],
             [
              0.7777777777777778,
              "#fb9f3a"
             ],
             [
              0.8888888888888888,
              "#fdca26"
             ],
             [
              1,
              "#f0f921"
             ]
            ],
            "type": "heatmap"
           }
          ],
          "heatmapgl": [
           {
            "colorbar": {
             "outlinewidth": 0,
             "ticks": ""
            },
            "colorscale": [
             [
              0,
              "#0d0887"
             ],
             [
              0.1111111111111111,
              "#46039f"
             ],
             [
              0.2222222222222222,
              "#7201a8"
             ],
             [
              0.3333333333333333,
              "#9c179e"
             ],
             [
              0.4444444444444444,
              "#bd3786"
             ],
             [
              0.5555555555555556,
              "#d8576b"
             ],
             [
              0.6666666666666666,
              "#ed7953"
             ],
             [
              0.7777777777777778,
              "#fb9f3a"
             ],
             [
              0.8888888888888888,
              "#fdca26"
             ],
             [
              1,
              "#f0f921"
             ]
            ],
            "type": "heatmapgl"
           }
          ],
          "histogram": [
           {
            "marker": {
             "pattern": {
              "fillmode": "overlay",
              "size": 10,
              "solidity": 0.2
             }
            },
            "type": "histogram"
           }
          ],
          "histogram2d": [
           {
            "colorbar": {
             "outlinewidth": 0,
             "ticks": ""
            },
            "colorscale": [
             [
              0,
              "#0d0887"
             ],
             [
              0.1111111111111111,
              "#46039f"
             ],
             [
              0.2222222222222222,
              "#7201a8"
             ],
             [
              0.3333333333333333,
              "#9c179e"
             ],
             [
              0.4444444444444444,
              "#bd3786"
             ],
             [
              0.5555555555555556,
              "#d8576b"
             ],
             [
              0.6666666666666666,
              "#ed7953"
             ],
             [
              0.7777777777777778,
              "#fb9f3a"
             ],
             [
              0.8888888888888888,
              "#fdca26"
             ],
             [
              1,
              "#f0f921"
             ]
            ],
            "type": "histogram2d"
           }
          ],
          "histogram2dcontour": [
           {
            "colorbar": {
             "outlinewidth": 0,
             "ticks": ""
            },
            "colorscale": [
             [
              0,
              "#0d0887"
             ],
             [
              0.1111111111111111,
              "#46039f"
             ],
             [
              0.2222222222222222,
              "#7201a8"
             ],
             [
              0.3333333333333333,
              "#9c179e"
             ],
             [
              0.4444444444444444,
              "#bd3786"
             ],
             [
              0.5555555555555556,
              "#d8576b"
             ],
             [
              0.6666666666666666,
              "#ed7953"
             ],
             [
              0.7777777777777778,
              "#fb9f3a"
             ],
             [
              0.8888888888888888,
              "#fdca26"
             ],
             [
              1,
              "#f0f921"
             ]
            ],
            "type": "histogram2dcontour"
           }
          ],
          "mesh3d": [
           {
            "colorbar": {
             "outlinewidth": 0,
             "ticks": ""
            },
            "type": "mesh3d"
           }
          ],
          "parcoords": [
           {
            "line": {
             "colorbar": {
              "outlinewidth": 0,
              "ticks": ""
             }
            },
            "type": "parcoords"
           }
          ],
          "pie": [
           {
            "automargin": true,
            "type": "pie"
           }
          ],
          "scatter": [
           {
            "fillpattern": {
             "fillmode": "overlay",
             "size": 10,
             "solidity": 0.2
            },
            "type": "scatter"
           }
          ],
          "scatter3d": [
           {
            "line": {
             "colorbar": {
              "outlinewidth": 0,
              "ticks": ""
             }
            },
            "marker": {
             "colorbar": {
              "outlinewidth": 0,
              "ticks": ""
             }
            },
            "type": "scatter3d"
           }
          ],
          "scattercarpet": [
           {
            "marker": {
             "colorbar": {
              "outlinewidth": 0,
              "ticks": ""
             }
            },
            "type": "scattercarpet"
           }
          ],
          "scattergeo": [
           {
            "marker": {
             "colorbar": {
              "outlinewidth": 0,
              "ticks": ""
             }
            },
            "type": "scattergeo"
           }
          ],
          "scattergl": [
           {
            "marker": {
             "colorbar": {
              "outlinewidth": 0,
              "ticks": ""
             }
            },
            "type": "scattergl"
           }
          ],
          "scattermapbox": [
           {
            "marker": {
             "colorbar": {
              "outlinewidth": 0,
              "ticks": ""
             }
            },
            "type": "scattermapbox"
           }
          ],
          "scatterpolar": [
           {
            "marker": {
             "colorbar": {
              "outlinewidth": 0,
              "ticks": ""
             }
            },
            "type": "scatterpolar"
           }
          ],
          "scatterpolargl": [
           {
            "marker": {
             "colorbar": {
              "outlinewidth": 0,
              "ticks": ""
             }
            },
            "type": "scatterpolargl"
           }
          ],
          "scatterternary": [
           {
            "marker": {
             "colorbar": {
              "outlinewidth": 0,
              "ticks": ""
             }
            },
            "type": "scatterternary"
           }
          ],
          "surface": [
           {
            "colorbar": {
             "outlinewidth": 0,
             "ticks": ""
            },
            "colorscale": [
             [
              0,
              "#0d0887"
             ],
             [
              0.1111111111111111,
              "#46039f"
             ],
             [
              0.2222222222222222,
              "#7201a8"
             ],
             [
              0.3333333333333333,
              "#9c179e"
             ],
             [
              0.4444444444444444,
              "#bd3786"
             ],
             [
              0.5555555555555556,
              "#d8576b"
             ],
             [
              0.6666666666666666,
              "#ed7953"
             ],
             [
              0.7777777777777778,
              "#fb9f3a"
             ],
             [
              0.8888888888888888,
              "#fdca26"
             ],
             [
              1,
              "#f0f921"
             ]
            ],
            "type": "surface"
           }
          ],
          "table": [
           {
            "cells": {
             "fill": {
              "color": "#EBF0F8"
             },
             "line": {
              "color": "white"
             }
            },
            "header": {
             "fill": {
              "color": "#C8D4E3"
             },
             "line": {
              "color": "white"
             }
            },
            "type": "table"
           }
          ]
         },
         "layout": {
          "annotationdefaults": {
           "arrowcolor": "#2a3f5f",
           "arrowhead": 0,
           "arrowwidth": 1
          },
          "autotypenumbers": "strict",
          "coloraxis": {
           "colorbar": {
            "outlinewidth": 0,
            "ticks": ""
           }
          },
          "colorscale": {
           "diverging": [
            [
             0,
             "#8e0152"
            ],
            [
             0.1,
             "#c51b7d"
            ],
            [
             0.2,
             "#de77ae"
            ],
            [
             0.3,
             "#f1b6da"
            ],
            [
             0.4,
             "#fde0ef"
            ],
            [
             0.5,
             "#f7f7f7"
            ],
            [
             0.6,
             "#e6f5d0"
            ],
            [
             0.7,
             "#b8e186"
            ],
            [
             0.8,
             "#7fbc41"
            ],
            [
             0.9,
             "#4d9221"
            ],
            [
             1,
             "#276419"
            ]
           ],
           "sequential": [
            [
             0,
             "#0d0887"
            ],
            [
             0.1111111111111111,
             "#46039f"
            ],
            [
             0.2222222222222222,
             "#7201a8"
            ],
            [
             0.3333333333333333,
             "#9c179e"
            ],
            [
             0.4444444444444444,
             "#bd3786"
            ],
            [
             0.5555555555555556,
             "#d8576b"
            ],
            [
             0.6666666666666666,
             "#ed7953"
            ],
            [
             0.7777777777777778,
             "#fb9f3a"
            ],
            [
             0.8888888888888888,
             "#fdca26"
            ],
            [
             1,
             "#f0f921"
            ]
           ],
           "sequentialminus": [
            [
             0,
             "#0d0887"
            ],
            [
             0.1111111111111111,
             "#46039f"
            ],
            [
             0.2222222222222222,
             "#7201a8"
            ],
            [
             0.3333333333333333,
             "#9c179e"
            ],
            [
             0.4444444444444444,
             "#bd3786"
            ],
            [
             0.5555555555555556,
             "#d8576b"
            ],
            [
             0.6666666666666666,
             "#ed7953"
            ],
            [
             0.7777777777777778,
             "#fb9f3a"
            ],
            [
             0.8888888888888888,
             "#fdca26"
            ],
            [
             1,
             "#f0f921"
            ]
           ]
          },
          "colorway": [
           "#636efa",
           "#EF553B",
           "#00cc96",
           "#ab63fa",
           "#FFA15A",
           "#19d3f3",
           "#FF6692",
           "#B6E880",
           "#FF97FF",
           "#FECB52"
          ],
          "font": {
           "color": "#2a3f5f"
          },
          "geo": {
           "bgcolor": "white",
           "lakecolor": "white",
           "landcolor": "#E5ECF6",
           "showlakes": true,
           "showland": true,
           "subunitcolor": "white"
          },
          "hoverlabel": {
           "align": "left"
          },
          "hovermode": "closest",
          "mapbox": {
           "style": "light"
          },
          "paper_bgcolor": "white",
          "plot_bgcolor": "#E5ECF6",
          "polar": {
           "angularaxis": {
            "gridcolor": "white",
            "linecolor": "white",
            "ticks": ""
           },
           "bgcolor": "#E5ECF6",
           "radialaxis": {
            "gridcolor": "white",
            "linecolor": "white",
            "ticks": ""
           }
          },
          "scene": {
           "xaxis": {
            "backgroundcolor": "#E5ECF6",
            "gridcolor": "white",
            "gridwidth": 2,
            "linecolor": "white",
            "showbackground": true,
            "ticks": "",
            "zerolinecolor": "white"
           },
           "yaxis": {
            "backgroundcolor": "#E5ECF6",
            "gridcolor": "white",
            "gridwidth": 2,
            "linecolor": "white",
            "showbackground": true,
            "ticks": "",
            "zerolinecolor": "white"
           },
           "zaxis": {
            "backgroundcolor": "#E5ECF6",
            "gridcolor": "white",
            "gridwidth": 2,
            "linecolor": "white",
            "showbackground": true,
            "ticks": "",
            "zerolinecolor": "white"
           }
          },
          "shapedefaults": {
           "line": {
            "color": "#2a3f5f"
           }
          },
          "ternary": {
           "aaxis": {
            "gridcolor": "white",
            "linecolor": "white",
            "ticks": ""
           },
           "baxis": {
            "gridcolor": "white",
            "linecolor": "white",
            "ticks": ""
           },
           "bgcolor": "#E5ECF6",
           "caxis": {
            "gridcolor": "white",
            "linecolor": "white",
            "ticks": ""
           }
          },
          "title": {
           "x": 0.05
          },
          "xaxis": {
           "automargin": true,
           "gridcolor": "white",
           "linecolor": "white",
           "ticks": "",
           "title": {
            "standoff": 15
           },
           "zerolinecolor": "white",
           "zerolinewidth": 2
          },
          "yaxis": {
           "automargin": true,
           "gridcolor": "white",
           "linecolor": "white",
           "ticks": "",
           "title": {
            "standoff": 15
           },
           "zerolinecolor": "white",
           "zerolinewidth": 2
          }
         }
        },
        "title": {
         "text": "Despesas Reembolsadas por Senador"
        },
        "xaxis": {
         "title": {
          "text": "Senador"
         }
        },
        "yaxis": {
         "title": {
          "text": "Valor Reembolsado (R$)"
         }
        }
       }
      }
     },
     "metadata": {},
     "output_type": "display_data"
    }
   ],
   "source": [
    "trace = go.Bar(\n",
    "    x=total_por_senador.index,  # Senadores no eixo x\n",
    "    y=total_por_senador.values,  # Valores reembolsados no eixo y\n",
    ")\n",
    "\n",
    "data = [trace]\n",
    "\n",
    "layout = go.Layout(\n",
    "    title='Despesas Reembolsadas por Senador',\n",
    "    xaxis=dict(title='Senador'),\n",
    "    yaxis=dict(title='Valor Reembolsado (R$)'),\n",
    ")\n",
    "\n",
    "fig = go.Figure(data=data, layout=layout)\n",
    "\n",
    "fig.show()"
   ]
  },
  {
   "cell_type": "markdown",
   "metadata": {},
   "source": [
    "### Qual foi o percentual da cota que os senadores gastaram? \n"
   ]
  },
  {
   "cell_type": "code",
   "execution_count": 72,
   "metadata": {},
   "outputs": [
    {
     "data": {
      "application/vnd.plotly.v1+json": {
       "config": {
        "plotlyServerURL": "https://plot.ly"
       },
       "data": [
        {
         "marker": {
          "color": "skyblue"
         },
         "type": "bar",
         "x": [
          "TELMï¿½RIO MOTA",
          "ROGï¿½RIO CARVALHO",
          "MECIAS DE JESUS",
          "PAULO ROCHA",
          "MAILZA GOMES",
          "ROBERTO ROCHA",
          "ZEQUINHA MARINHO",
          "ELIZIANE GAMA",
          "EDUARDO BRAGA",
          "WELLINGTON FAGUNDES",
          "DAVI ALCOLUMBRE",
          "JEAN PAUL PRATES",
          "MARCIO BITTAR",
          "CHICO RODRIGUES",
          "JAQUES WAGNER",
          "OMAR AZIZ",
          "LUCAS BARRETO",
          "ANGELO CORONEL",
          "Sï¿½RGIO PETECï¿½O",
          "ELMANO Fï¿½RRER",
          "MARCOS ROGï¿½RIO",
          "ALESSANDRO VIEIRA",
          "NELSINHO TRAD",
          "ACIR GURGACZ",
          "HUMBERTO COSTA",
          "FERNANDO BEZERRA COELHO",
          "FERNANDO COLLOR",
          "WEVERTON ROCHA",
          "MARCELO CASTRO",
          "RANDOLFE RODRIGUES",
          "ZENAIDE MAIA",
          "VENEZIANO VITAL DO Rï¿½GO",
          "LUIS CARLOS HEINZE",
          "CARLOS VIANA",
          "PLï¿½NIO VALï¿½RIO",
          "JARBAS VASCONCELOS",
          "JADER BARBALHO",
          "RODRIGO CUNHA",
          "JORGINHO MELLO",
          "DANIELLA RIBEIRO",
          "ESPERIDIï¿½O AMIN",
          "IRAJï¿½",
          "CIRO NOGUEIRA",
          "ROMï¿½RIO",
          "PAULO PAIM",
          "MARA GABRILLI",
          "RENAN CALHEIROS",
          "Dï¿½RIO BERGER",
          "CID GOMES",
          "EDUARDO GOMES",
          "LUIZ CARLOS DO CARMO",
          "RODRIGO PACHECO",
          "CARLOS Fï¿½VARO",
          "IZALCI LUCAS",
          "MARIA DO CARMO ALVES",
          "LASIER MARTINS",
          "JOSï¿½ SERRA",
          "SORAYA THRONICKE",
          "ANTONIO ANASTASIA",
          "MARCOS DO VAL",
          "JAYME CAMPOS",
          "CARLOS PORTINHO",
          "SIMONE TEBET",
          "CONFï¿½CIO MOURA",
          "Kï¿½TIA ABREU",
          "ROSE DE FREITAS",
          "FLï¿½VIO ARNS",
          "TASSO JEREISSATI",
          "OTTO ALENCAR",
          "FLï¿½VIO BOLSONARO",
          "FABIANO CONTARATO",
          "STYVENSON VALENTIM",
          "MAJOR OLIMPIO",
          "JOSï¿½ MARANHï¿½O",
          "NILDA GONDIM",
          "ELIANE NOGUEIRA",
          "AROLDE DE OLIVEIRA",
          "JUï¿½ZA SELMA",
          "GIORDANO",
          "VANDERLAN CARDOSO",
          "ALEXANDRE SILVEIRA",
          "ALVARO DIAS",
          "ORIOVISTO GUIMARï¿½ES",
          "JOSï¿½ ANï¿½BAL",
          "EDUARDO VELLOSO",
          "PAULO ALBUQUERQUE",
          "MARGARETH BUZETTI",
          "EDUARDO GIRï¿½O",
          "DRA. EUDï¿½CIA",
          "RENILDE BULHï¿½ES",
          "JULIO VENTURA",
          "MARIA DAS VITï¿½RIAS",
          "CHIQUINHO FEITOSA",
          "ROBERTH BRINGEL",
          "IVETE DA SILVEIRA",
          "RAFAEL TENï¿½RIO",
          "DIEGO TAVARES",
          "FABIO GARCIA",
          "MARIA ELIZA DE AGUIAR E SILVA",
          "LUIZ PASTORE",
          "PRISCO BEZERRA",
          "NEY SUASSUNA",
          "FERNANDO DUEIRE",
          "GUARACY SILVEIRA",
          "JOï¿½O CAPIBERIBE",
          "ANTï¿½NIO CARLOS VALADARES",
          "OGARI PACHECO",
          "ï¿½NGELA PORTELA",
          "Zï¿½ SANTANA",
          "EDISON LOBï¿½O",
          "ARMANDO MONTEIRO",
          "JOSï¿½ MEDEIROS",
          "IVO CASSOL",
          "VALDIR RAUPP",
          "FLEXA RIBEIRO",
          "VANESSA GRAZZIOTIN",
          "JORGE VIANA",
          "GLEISI HOFFMANN",
          "JOSï¿½ AGRIPINO",
          "VICENTINHO ALVES",
          "ATAï¿½DES OLIVEIRA",
          "Lï¿½CIA Vï¿½NIA",
          "RICARDO FERRAï¿½O",
          "WILDER MORAIS",
          "Hï¿½LIO JOSï¿½",
          "Aï¿½CIO NEVES",
          "Lï¿½DICE DA MATA",
          "LINDBERGH FARIAS",
          "ALOYSIO NUNES FERREIRA",
          "PAULO BAUER",
          "ROBERTO REQUIï¿½O",
          "ROMERO JUCï¿½",
          "ANA AMï¿½LIA",
          "DALIRIO BEBER",
          "RAIMUNDO LIRA",
          "MARTA SUPLICY",
          "EDUARDO AMORIM",
          "Cï¿½SSIO CUNHA LIMA",
          "JOï¿½O ALBERTO SOUZA",
          "WALTER PINHEIRO",
          "PEDRO CHAVES DOS SANTOS FILHO",
          "GARIBALDI ALVES FILHO",
          "LEILA BARROS",
          "BLAIRO MAGGI",
          "BENEDITO DE LIRA",
          "ZEZï¿½ PERRELLA",
          "SAMUEL ARAUJO",
          "WALDEMIR MOKA",
          "SIQUEIRA CAMPOS",
          "VIRGINIO DE CARVALHO",
          "MAGNO MALTA",
          "JOSï¿½ PIMENTEL",
          "NAILDE PANTA"
         ],
         "y": [
          1.991700919127986,
          1.9681231305006444,
          1.9527532899817845,
          1.924250203791785,
          1.8301515285487129,
          1.7627242575815518,
          1.7332101750785835,
          1.7327695495427429,
          1.7182933099808662,
          1.7064625995679545,
          1.6947642268515912,
          1.6857638141608837,
          1.6788547065515562,
          1.6748564873209149,
          1.6747673640164058,
          1.6619531842662765,
          1.6297536243076731,
          1.6170266490368985,
          1.607167368165804,
          1.5992766794248627,
          1.5882008736124327,
          1.584593686452606,
          1.5783511256280094,
          1.534185761800415,
          1.533355420834424,
          1.5083763999316078,
          1.5060014149228886,
          1.4967702124747877,
          1.4820226428708736,
          1.4563680322094608,
          1.401272060477126,
          1.3951554174500247,
          1.374779106940568,
          1.3333981829552923,
          1.325216261464596,
          1.2914439385095395,
          1.284129815901411,
          1.2539316007853025,
          1.2530843578275264,
          1.2494666273358677,
          1.2402321996284646,
          1.2092380190948748,
          1.1645965518791177,
          1.1295365645607802,
          1.1007930944876156,
          1.0917234203740496,
          1.067209132799705,
          1.0639010067880028,
          1.0441776888089953,
          1.006517693406525,
          0.9693210330397273,
          0.9551807205645788,
          0.9507509698045462,
          0.9373490988183159,
          0.9080309201983925,
          0.9069935502460682,
          0.903278092356256,
          0.8764673793328357,
          0.8751981071127891,
          0.8661300252158406,
          0.8526346829489535,
          0.8416338337957441,
          0.8124164241159739,
          0.8105883451023091,
          0.8060885470176264,
          0.7735161736206578,
          0.7488767235310595,
          0.7286008349401857,
          0.7047331097907199,
          0.6664545178193434,
          0.573964461066166,
          0.5657397844766849,
          0.5275085915692275,
          0.5071461006834886,
          0.47705397210277506,
          0.4554987374597942,
          0.43794531474136056,
          0.40168407143078777,
          0.3762871957310634,
          0.3513605954984212,
          0.24809917291528025,
          0.22378138120195362,
          0.21744525723804922,
          0.17080044470250852,
          0.1585528491117824,
          0.14655664002930857,
          0.14465344105215475,
          0.14318147761540562,
          0.13986962622507917,
          0.13776579774761205,
          0.13200768924190276,
          0.13117233687617358,
          0.12589454705005634,
          0.12460045258120463,
          0.12288124648201523,
          0.12189009163766355,
          0.10856101352909683,
          0.10402015462741458,
          0.06438739262942865,
          0.06165367917549859,
          0.05307221337899441,
          0.05115905284146485,
          0.05114400843573347,
          0.04542004072864795,
          0.043740231784223225,
          0.04270860810084516,
          0.040593215639868126,
          0.04022577082932849,
          0.039477204475766144,
          0.038168902535558866,
          0.035696822932726635,
          0.03565590500696198,
          0.03471869160378423,
          0.03421923570523261,
          0.03395036543373888,
          0.03251083830731156,
          0.029255765769823396,
          0.02871577979314469,
          0.026764477502414195,
          0.025735936187103212,
          0.025130056938103076,
          0.021479818690505113,
          0.021328660177016817,
          0.021318739442708203,
          0.021280587482990495,
          0.02014665367542562,
          0.019447272526218445,
          0.019276456261414936,
          0.018831074488755338,
          0.018809242749366312,
          0.018409535139290115,
          0.017258474796571065,
          0.016939582386346335,
          0.014937574120260684,
          0.014381696596957995,
          0.013598581184100721,
          0.013075017492918483,
          0.012281001520141869,
          0.01183474198703933,
          0.011743607998724884,
          0.011174186427657237,
          0.01088926130527107,
          0.010785879496822526,
          0.008720396902891926,
          0.008684500583382248,
          0.008125499865945362,
          0.007870143022666254,
          0.007243432272921378,
          0.006049392288048433,
          0.0058386991621916596,
          0.004823385492625499,
          0.0048110866399075115,
          0.001684708072478358
         ]
        }
       ],
       "layout": {
        "template": {
         "data": {
          "bar": [
           {
            "error_x": {
             "color": "#2a3f5f"
            },
            "error_y": {
             "color": "#2a3f5f"
            },
            "marker": {
             "line": {
              "color": "#E5ECF6",
              "width": 0.5
             },
             "pattern": {
              "fillmode": "overlay",
              "size": 10,
              "solidity": 0.2
             }
            },
            "type": "bar"
           }
          ],
          "barpolar": [
           {
            "marker": {
             "line": {
              "color": "#E5ECF6",
              "width": 0.5
             },
             "pattern": {
              "fillmode": "overlay",
              "size": 10,
              "solidity": 0.2
             }
            },
            "type": "barpolar"
           }
          ],
          "carpet": [
           {
            "aaxis": {
             "endlinecolor": "#2a3f5f",
             "gridcolor": "white",
             "linecolor": "white",
             "minorgridcolor": "white",
             "startlinecolor": "#2a3f5f"
            },
            "baxis": {
             "endlinecolor": "#2a3f5f",
             "gridcolor": "white",
             "linecolor": "white",
             "minorgridcolor": "white",
             "startlinecolor": "#2a3f5f"
            },
            "type": "carpet"
           }
          ],
          "choropleth": [
           {
            "colorbar": {
             "outlinewidth": 0,
             "ticks": ""
            },
            "type": "choropleth"
           }
          ],
          "contour": [
           {
            "colorbar": {
             "outlinewidth": 0,
             "ticks": ""
            },
            "colorscale": [
             [
              0,
              "#0d0887"
             ],
             [
              0.1111111111111111,
              "#46039f"
             ],
             [
              0.2222222222222222,
              "#7201a8"
             ],
             [
              0.3333333333333333,
              "#9c179e"
             ],
             [
              0.4444444444444444,
              "#bd3786"
             ],
             [
              0.5555555555555556,
              "#d8576b"
             ],
             [
              0.6666666666666666,
              "#ed7953"
             ],
             [
              0.7777777777777778,
              "#fb9f3a"
             ],
             [
              0.8888888888888888,
              "#fdca26"
             ],
             [
              1,
              "#f0f921"
             ]
            ],
            "type": "contour"
           }
          ],
          "contourcarpet": [
           {
            "colorbar": {
             "outlinewidth": 0,
             "ticks": ""
            },
            "type": "contourcarpet"
           }
          ],
          "heatmap": [
           {
            "colorbar": {
             "outlinewidth": 0,
             "ticks": ""
            },
            "colorscale": [
             [
              0,
              "#0d0887"
             ],
             [
              0.1111111111111111,
              "#46039f"
             ],
             [
              0.2222222222222222,
              "#7201a8"
             ],
             [
              0.3333333333333333,
              "#9c179e"
             ],
             [
              0.4444444444444444,
              "#bd3786"
             ],
             [
              0.5555555555555556,
              "#d8576b"
             ],
             [
              0.6666666666666666,
              "#ed7953"
             ],
             [
              0.7777777777777778,
              "#fb9f3a"
             ],
             [
              0.8888888888888888,
              "#fdca26"
             ],
             [
              1,
              "#f0f921"
             ]
            ],
            "type": "heatmap"
           }
          ],
          "heatmapgl": [
           {
            "colorbar": {
             "outlinewidth": 0,
             "ticks": ""
            },
            "colorscale": [
             [
              0,
              "#0d0887"
             ],
             [
              0.1111111111111111,
              "#46039f"
             ],
             [
              0.2222222222222222,
              "#7201a8"
             ],
             [
              0.3333333333333333,
              "#9c179e"
             ],
             [
              0.4444444444444444,
              "#bd3786"
             ],
             [
              0.5555555555555556,
              "#d8576b"
             ],
             [
              0.6666666666666666,
              "#ed7953"
             ],
             [
              0.7777777777777778,
              "#fb9f3a"
             ],
             [
              0.8888888888888888,
              "#fdca26"
             ],
             [
              1,
              "#f0f921"
             ]
            ],
            "type": "heatmapgl"
           }
          ],
          "histogram": [
           {
            "marker": {
             "pattern": {
              "fillmode": "overlay",
              "size": 10,
              "solidity": 0.2
             }
            },
            "type": "histogram"
           }
          ],
          "histogram2d": [
           {
            "colorbar": {
             "outlinewidth": 0,
             "ticks": ""
            },
            "colorscale": [
             [
              0,
              "#0d0887"
             ],
             [
              0.1111111111111111,
              "#46039f"
             ],
             [
              0.2222222222222222,
              "#7201a8"
             ],
             [
              0.3333333333333333,
              "#9c179e"
             ],
             [
              0.4444444444444444,
              "#bd3786"
             ],
             [
              0.5555555555555556,
              "#d8576b"
             ],
             [
              0.6666666666666666,
              "#ed7953"
             ],
             [
              0.7777777777777778,
              "#fb9f3a"
             ],
             [
              0.8888888888888888,
              "#fdca26"
             ],
             [
              1,
              "#f0f921"
             ]
            ],
            "type": "histogram2d"
           }
          ],
          "histogram2dcontour": [
           {
            "colorbar": {
             "outlinewidth": 0,
             "ticks": ""
            },
            "colorscale": [
             [
              0,
              "#0d0887"
             ],
             [
              0.1111111111111111,
              "#46039f"
             ],
             [
              0.2222222222222222,
              "#7201a8"
             ],
             [
              0.3333333333333333,
              "#9c179e"
             ],
             [
              0.4444444444444444,
              "#bd3786"
             ],
             [
              0.5555555555555556,
              "#d8576b"
             ],
             [
              0.6666666666666666,
              "#ed7953"
             ],
             [
              0.7777777777777778,
              "#fb9f3a"
             ],
             [
              0.8888888888888888,
              "#fdca26"
             ],
             [
              1,
              "#f0f921"
             ]
            ],
            "type": "histogram2dcontour"
           }
          ],
          "mesh3d": [
           {
            "colorbar": {
             "outlinewidth": 0,
             "ticks": ""
            },
            "type": "mesh3d"
           }
          ],
          "parcoords": [
           {
            "line": {
             "colorbar": {
              "outlinewidth": 0,
              "ticks": ""
             }
            },
            "type": "parcoords"
           }
          ],
          "pie": [
           {
            "automargin": true,
            "type": "pie"
           }
          ],
          "scatter": [
           {
            "fillpattern": {
             "fillmode": "overlay",
             "size": 10,
             "solidity": 0.2
            },
            "type": "scatter"
           }
          ],
          "scatter3d": [
           {
            "line": {
             "colorbar": {
              "outlinewidth": 0,
              "ticks": ""
             }
            },
            "marker": {
             "colorbar": {
              "outlinewidth": 0,
              "ticks": ""
             }
            },
            "type": "scatter3d"
           }
          ],
          "scattercarpet": [
           {
            "marker": {
             "colorbar": {
              "outlinewidth": 0,
              "ticks": ""
             }
            },
            "type": "scattercarpet"
           }
          ],
          "scattergeo": [
           {
            "marker": {
             "colorbar": {
              "outlinewidth": 0,
              "ticks": ""
             }
            },
            "type": "scattergeo"
           }
          ],
          "scattergl": [
           {
            "marker": {
             "colorbar": {
              "outlinewidth": 0,
              "ticks": ""
             }
            },
            "type": "scattergl"
           }
          ],
          "scattermapbox": [
           {
            "marker": {
             "colorbar": {
              "outlinewidth": 0,
              "ticks": ""
             }
            },
            "type": "scattermapbox"
           }
          ],
          "scatterpolar": [
           {
            "marker": {
             "colorbar": {
              "outlinewidth": 0,
              "ticks": ""
             }
            },
            "type": "scatterpolar"
           }
          ],
          "scatterpolargl": [
           {
            "marker": {
             "colorbar": {
              "outlinewidth": 0,
              "ticks": ""
             }
            },
            "type": "scatterpolargl"
           }
          ],
          "scatterternary": [
           {
            "marker": {
             "colorbar": {
              "outlinewidth": 0,
              "ticks": ""
             }
            },
            "type": "scatterternary"
           }
          ],
          "surface": [
           {
            "colorbar": {
             "outlinewidth": 0,
             "ticks": ""
            },
            "colorscale": [
             [
              0,
              "#0d0887"
             ],
             [
              0.1111111111111111,
              "#46039f"
             ],
             [
              0.2222222222222222,
              "#7201a8"
             ],
             [
              0.3333333333333333,
              "#9c179e"
             ],
             [
              0.4444444444444444,
              "#bd3786"
             ],
             [
              0.5555555555555556,
              "#d8576b"
             ],
             [
              0.6666666666666666,
              "#ed7953"
             ],
             [
              0.7777777777777778,
              "#fb9f3a"
             ],
             [
              0.8888888888888888,
              "#fdca26"
             ],
             [
              1,
              "#f0f921"
             ]
            ],
            "type": "surface"
           }
          ],
          "table": [
           {
            "cells": {
             "fill": {
              "color": "#EBF0F8"
             },
             "line": {
              "color": "white"
             }
            },
            "header": {
             "fill": {
              "color": "#C8D4E3"
             },
             "line": {
              "color": "white"
             }
            },
            "type": "table"
           }
          ]
         },
         "layout": {
          "annotationdefaults": {
           "arrowcolor": "#2a3f5f",
           "arrowhead": 0,
           "arrowwidth": 1
          },
          "autotypenumbers": "strict",
          "coloraxis": {
           "colorbar": {
            "outlinewidth": 0,
            "ticks": ""
           }
          },
          "colorscale": {
           "diverging": [
            [
             0,
             "#8e0152"
            ],
            [
             0.1,
             "#c51b7d"
            ],
            [
             0.2,
             "#de77ae"
            ],
            [
             0.3,
             "#f1b6da"
            ],
            [
             0.4,
             "#fde0ef"
            ],
            [
             0.5,
             "#f7f7f7"
            ],
            [
             0.6,
             "#e6f5d0"
            ],
            [
             0.7,
             "#b8e186"
            ],
            [
             0.8,
             "#7fbc41"
            ],
            [
             0.9,
             "#4d9221"
            ],
            [
             1,
             "#276419"
            ]
           ],
           "sequential": [
            [
             0,
             "#0d0887"
            ],
            [
             0.1111111111111111,
             "#46039f"
            ],
            [
             0.2222222222222222,
             "#7201a8"
            ],
            [
             0.3333333333333333,
             "#9c179e"
            ],
            [
             0.4444444444444444,
             "#bd3786"
            ],
            [
             0.5555555555555556,
             "#d8576b"
            ],
            [
             0.6666666666666666,
             "#ed7953"
            ],
            [
             0.7777777777777778,
             "#fb9f3a"
            ],
            [
             0.8888888888888888,
             "#fdca26"
            ],
            [
             1,
             "#f0f921"
            ]
           ],
           "sequentialminus": [
            [
             0,
             "#0d0887"
            ],
            [
             0.1111111111111111,
             "#46039f"
            ],
            [
             0.2222222222222222,
             "#7201a8"
            ],
            [
             0.3333333333333333,
             "#9c179e"
            ],
            [
             0.4444444444444444,
             "#bd3786"
            ],
            [
             0.5555555555555556,
             "#d8576b"
            ],
            [
             0.6666666666666666,
             "#ed7953"
            ],
            [
             0.7777777777777778,
             "#fb9f3a"
            ],
            [
             0.8888888888888888,
             "#fdca26"
            ],
            [
             1,
             "#f0f921"
            ]
           ]
          },
          "colorway": [
           "#636efa",
           "#EF553B",
           "#00cc96",
           "#ab63fa",
           "#FFA15A",
           "#19d3f3",
           "#FF6692",
           "#B6E880",
           "#FF97FF",
           "#FECB52"
          ],
          "font": {
           "color": "#2a3f5f"
          },
          "geo": {
           "bgcolor": "white",
           "lakecolor": "white",
           "landcolor": "#E5ECF6",
           "showlakes": true,
           "showland": true,
           "subunitcolor": "white"
          },
          "hoverlabel": {
           "align": "left"
          },
          "hovermode": "closest",
          "mapbox": {
           "style": "light"
          },
          "paper_bgcolor": "white",
          "plot_bgcolor": "#E5ECF6",
          "polar": {
           "angularaxis": {
            "gridcolor": "white",
            "linecolor": "white",
            "ticks": ""
           },
           "bgcolor": "#E5ECF6",
           "radialaxis": {
            "gridcolor": "white",
            "linecolor": "white",
            "ticks": ""
           }
          },
          "scene": {
           "xaxis": {
            "backgroundcolor": "#E5ECF6",
            "gridcolor": "white",
            "gridwidth": 2,
            "linecolor": "white",
            "showbackground": true,
            "ticks": "",
            "zerolinecolor": "white"
           },
           "yaxis": {
            "backgroundcolor": "#E5ECF6",
            "gridcolor": "white",
            "gridwidth": 2,
            "linecolor": "white",
            "showbackground": true,
            "ticks": "",
            "zerolinecolor": "white"
           },
           "zaxis": {
            "backgroundcolor": "#E5ECF6",
            "gridcolor": "white",
            "gridwidth": 2,
            "linecolor": "white",
            "showbackground": true,
            "ticks": "",
            "zerolinecolor": "white"
           }
          },
          "shapedefaults": {
           "line": {
            "color": "#2a3f5f"
           }
          },
          "ternary": {
           "aaxis": {
            "gridcolor": "white",
            "linecolor": "white",
            "ticks": ""
           },
           "baxis": {
            "gridcolor": "white",
            "linecolor": "white",
            "ticks": ""
           },
           "bgcolor": "#E5ECF6",
           "caxis": {
            "gridcolor": "white",
            "linecolor": "white",
            "ticks": ""
           }
          },
          "title": {
           "x": 0.05
          },
          "xaxis": {
           "automargin": true,
           "gridcolor": "white",
           "linecolor": "white",
           "ticks": "",
           "title": {
            "standoff": 15
           },
           "zerolinecolor": "white",
           "zerolinewidth": 2
          },
          "yaxis": {
           "automargin": true,
           "gridcolor": "white",
           "linecolor": "white",
           "ticks": "",
           "title": {
            "standoff": 15
           },
           "zerolinecolor": "white",
           "zerolinewidth": 2
          }
         }
        },
        "title": {
         "text": "Percentual da Cota que os Senadores Gastaram"
        },
        "xaxis": {
         "title": {
          "text": "Senador"
         }
        },
        "yaxis": {
         "title": {
          "text": "Percentual da Cota"
         }
        }
       }
      }
     },
     "metadata": {},
     "output_type": "display_data"
    }
   ],
   "source": [
    "total_cota = combined_df['VALOR_REEMBOLSADO'].sum()\n",
    "\n",
    "# Calcula o percentual da cota gasto por senador\n",
    "percentual_por_senador = (total_por_senador / total_cota) * 100\n",
    "\n",
    "trace = go.Bar(\n",
    "    x=percentual_por_senador.index,   # Senadores no eixo x\n",
    "    y=percentual_por_senador.values,  # Percentuais no eixo y\n",
    "    marker=dict(color='skyblue'),     # Cor das barras\n",
    ")\n",
    "\n",
    "data = [trace]\n",
    "\n",
    "layout = go.Layout(\n",
    "    title='Percentual da Cota que os Senadores Gastaram',\n",
    "    xaxis=dict(title='Senador'),           # Título do eixo x\n",
    "    yaxis=dict(title='Percentual da Cota'), # Título do eixo y\n",
    ")\n",
    "\n",
    "fig = go.Figure(data=data, layout=layout)\n",
    "\n",
    "fig.show()"
   ]
  },
  {
   "cell_type": "code",
   "execution_count": 74,
   "metadata": {},
   "outputs": [
    {
     "name": "stdout",
     "output_type": "stream",
     "text": [
      "10986   NaT\n",
      "31996   NaT\n",
      "37872   NaT\n",
      "Name: DATA, dtype: datetime64[ns]\n"
     ]
    }
   ],
   "source": [
    "# Converte a coluna 'DATA' para o formato de data adequado\n",
    "combined_df['DATA'] = pd.to_datetime(combined_df['DATA'], format='%d/%m/%Y', errors='coerce')\n",
    "\n",
    "# Verifica se há valores incorretos após a correção\n",
    "print(combined_df['DATA'].loc[combined_df['DATA'].isnull()])"
   ]
  },
  {
   "cell_type": "code",
   "execution_count": 75,
   "metadata": {},
   "outputs": [
    {
     "data": {
      "application/vnd.plotly.v1+json": {
       "config": {
        "plotlyServerURL": "https://plot.ly"
       },
       "data": [
        {
         "marker": {
          "color": "blue"
         },
         "mode": "lines+markers",
         "type": "scatter",
         "x": [
          2000,
          2002,
          2009,
          2010,
          2014,
          2016,
          2018,
          2019,
          2020,
          2021,
          2022,
          2023
         ],
         "y": [
          1070.92,
          4290.51,
          1697.34,
          916.1025,
          1632.08,
          3800,
          770.1881818181818,
          1162.7823259479003,
          1407.3756188843654,
          1505.1307635672724,
          1636.5550349608557,
          4464.535333333333
         ]
        }
       ],
       "layout": {
        "template": {
         "data": {
          "bar": [
           {
            "error_x": {
             "color": "#2a3f5f"
            },
            "error_y": {
             "color": "#2a3f5f"
            },
            "marker": {
             "line": {
              "color": "#E5ECF6",
              "width": 0.5
             },
             "pattern": {
              "fillmode": "overlay",
              "size": 10,
              "solidity": 0.2
             }
            },
            "type": "bar"
           }
          ],
          "barpolar": [
           {
            "marker": {
             "line": {
              "color": "#E5ECF6",
              "width": 0.5
             },
             "pattern": {
              "fillmode": "overlay",
              "size": 10,
              "solidity": 0.2
             }
            },
            "type": "barpolar"
           }
          ],
          "carpet": [
           {
            "aaxis": {
             "endlinecolor": "#2a3f5f",
             "gridcolor": "white",
             "linecolor": "white",
             "minorgridcolor": "white",
             "startlinecolor": "#2a3f5f"
            },
            "baxis": {
             "endlinecolor": "#2a3f5f",
             "gridcolor": "white",
             "linecolor": "white",
             "minorgridcolor": "white",
             "startlinecolor": "#2a3f5f"
            },
            "type": "carpet"
           }
          ],
          "choropleth": [
           {
            "colorbar": {
             "outlinewidth": 0,
             "ticks": ""
            },
            "type": "choropleth"
           }
          ],
          "contour": [
           {
            "colorbar": {
             "outlinewidth": 0,
             "ticks": ""
            },
            "colorscale": [
             [
              0,
              "#0d0887"
             ],
             [
              0.1111111111111111,
              "#46039f"
             ],
             [
              0.2222222222222222,
              "#7201a8"
             ],
             [
              0.3333333333333333,
              "#9c179e"
             ],
             [
              0.4444444444444444,
              "#bd3786"
             ],
             [
              0.5555555555555556,
              "#d8576b"
             ],
             [
              0.6666666666666666,
              "#ed7953"
             ],
             [
              0.7777777777777778,
              "#fb9f3a"
             ],
             [
              0.8888888888888888,
              "#fdca26"
             ],
             [
              1,
              "#f0f921"
             ]
            ],
            "type": "contour"
           }
          ],
          "contourcarpet": [
           {
            "colorbar": {
             "outlinewidth": 0,
             "ticks": ""
            },
            "type": "contourcarpet"
           }
          ],
          "heatmap": [
           {
            "colorbar": {
             "outlinewidth": 0,
             "ticks": ""
            },
            "colorscale": [
             [
              0,
              "#0d0887"
             ],
             [
              0.1111111111111111,
              "#46039f"
             ],
             [
              0.2222222222222222,
              "#7201a8"
             ],
             [
              0.3333333333333333,
              "#9c179e"
             ],
             [
              0.4444444444444444,
              "#bd3786"
             ],
             [
              0.5555555555555556,
              "#d8576b"
             ],
             [
              0.6666666666666666,
              "#ed7953"
             ],
             [
              0.7777777777777778,
              "#fb9f3a"
             ],
             [
              0.8888888888888888,
              "#fdca26"
             ],
             [
              1,
              "#f0f921"
             ]
            ],
            "type": "heatmap"
           }
          ],
          "heatmapgl": [
           {
            "colorbar": {
             "outlinewidth": 0,
             "ticks": ""
            },
            "colorscale": [
             [
              0,
              "#0d0887"
             ],
             [
              0.1111111111111111,
              "#46039f"
             ],
             [
              0.2222222222222222,
              "#7201a8"
             ],
             [
              0.3333333333333333,
              "#9c179e"
             ],
             [
              0.4444444444444444,
              "#bd3786"
             ],
             [
              0.5555555555555556,
              "#d8576b"
             ],
             [
              0.6666666666666666,
              "#ed7953"
             ],
             [
              0.7777777777777778,
              "#fb9f3a"
             ],
             [
              0.8888888888888888,
              "#fdca26"
             ],
             [
              1,
              "#f0f921"
             ]
            ],
            "type": "heatmapgl"
           }
          ],
          "histogram": [
           {
            "marker": {
             "pattern": {
              "fillmode": "overlay",
              "size": 10,
              "solidity": 0.2
             }
            },
            "type": "histogram"
           }
          ],
          "histogram2d": [
           {
            "colorbar": {
             "outlinewidth": 0,
             "ticks": ""
            },
            "colorscale": [
             [
              0,
              "#0d0887"
             ],
             [
              0.1111111111111111,
              "#46039f"
             ],
             [
              0.2222222222222222,
              "#7201a8"
             ],
             [
              0.3333333333333333,
              "#9c179e"
             ],
             [
              0.4444444444444444,
              "#bd3786"
             ],
             [
              0.5555555555555556,
              "#d8576b"
             ],
             [
              0.6666666666666666,
              "#ed7953"
             ],
             [
              0.7777777777777778,
              "#fb9f3a"
             ],
             [
              0.8888888888888888,
              "#fdca26"
             ],
             [
              1,
              "#f0f921"
             ]
            ],
            "type": "histogram2d"
           }
          ],
          "histogram2dcontour": [
           {
            "colorbar": {
             "outlinewidth": 0,
             "ticks": ""
            },
            "colorscale": [
             [
              0,
              "#0d0887"
             ],
             [
              0.1111111111111111,
              "#46039f"
             ],
             [
              0.2222222222222222,
              "#7201a8"
             ],
             [
              0.3333333333333333,
              "#9c179e"
             ],
             [
              0.4444444444444444,
              "#bd3786"
             ],
             [
              0.5555555555555556,
              "#d8576b"
             ],
             [
              0.6666666666666666,
              "#ed7953"
             ],
             [
              0.7777777777777778,
              "#fb9f3a"
             ],
             [
              0.8888888888888888,
              "#fdca26"
             ],
             [
              1,
              "#f0f921"
             ]
            ],
            "type": "histogram2dcontour"
           }
          ],
          "mesh3d": [
           {
            "colorbar": {
             "outlinewidth": 0,
             "ticks": ""
            },
            "type": "mesh3d"
           }
          ],
          "parcoords": [
           {
            "line": {
             "colorbar": {
              "outlinewidth": 0,
              "ticks": ""
             }
            },
            "type": "parcoords"
           }
          ],
          "pie": [
           {
            "automargin": true,
            "type": "pie"
           }
          ],
          "scatter": [
           {
            "fillpattern": {
             "fillmode": "overlay",
             "size": 10,
             "solidity": 0.2
            },
            "type": "scatter"
           }
          ],
          "scatter3d": [
           {
            "line": {
             "colorbar": {
              "outlinewidth": 0,
              "ticks": ""
             }
            },
            "marker": {
             "colorbar": {
              "outlinewidth": 0,
              "ticks": ""
             }
            },
            "type": "scatter3d"
           }
          ],
          "scattercarpet": [
           {
            "marker": {
             "colorbar": {
              "outlinewidth": 0,
              "ticks": ""
             }
            },
            "type": "scattercarpet"
           }
          ],
          "scattergeo": [
           {
            "marker": {
             "colorbar": {
              "outlinewidth": 0,
              "ticks": ""
             }
            },
            "type": "scattergeo"
           }
          ],
          "scattergl": [
           {
            "marker": {
             "colorbar": {
              "outlinewidth": 0,
              "ticks": ""
             }
            },
            "type": "scattergl"
           }
          ],
          "scattermapbox": [
           {
            "marker": {
             "colorbar": {
              "outlinewidth": 0,
              "ticks": ""
             }
            },
            "type": "scattermapbox"
           }
          ],
          "scatterpolar": [
           {
            "marker": {
             "colorbar": {
              "outlinewidth": 0,
              "ticks": ""
             }
            },
            "type": "scatterpolar"
           }
          ],
          "scatterpolargl": [
           {
            "marker": {
             "colorbar": {
              "outlinewidth": 0,
              "ticks": ""
             }
            },
            "type": "scatterpolargl"
           }
          ],
          "scatterternary": [
           {
            "marker": {
             "colorbar": {
              "outlinewidth": 0,
              "ticks": ""
             }
            },
            "type": "scatterternary"
           }
          ],
          "surface": [
           {
            "colorbar": {
             "outlinewidth": 0,
             "ticks": ""
            },
            "colorscale": [
             [
              0,
              "#0d0887"
             ],
             [
              0.1111111111111111,
              "#46039f"
             ],
             [
              0.2222222222222222,
              "#7201a8"
             ],
             [
              0.3333333333333333,
              "#9c179e"
             ],
             [
              0.4444444444444444,
              "#bd3786"
             ],
             [
              0.5555555555555556,
              "#d8576b"
             ],
             [
              0.6666666666666666,
              "#ed7953"
             ],
             [
              0.7777777777777778,
              "#fb9f3a"
             ],
             [
              0.8888888888888888,
              "#fdca26"
             ],
             [
              1,
              "#f0f921"
             ]
            ],
            "type": "surface"
           }
          ],
          "table": [
           {
            "cells": {
             "fill": {
              "color": "#EBF0F8"
             },
             "line": {
              "color": "white"
             }
            },
            "header": {
             "fill": {
              "color": "#C8D4E3"
             },
             "line": {
              "color": "white"
             }
            },
            "type": "table"
           }
          ]
         },
         "layout": {
          "annotationdefaults": {
           "arrowcolor": "#2a3f5f",
           "arrowhead": 0,
           "arrowwidth": 1
          },
          "autotypenumbers": "strict",
          "coloraxis": {
           "colorbar": {
            "outlinewidth": 0,
            "ticks": ""
           }
          },
          "colorscale": {
           "diverging": [
            [
             0,
             "#8e0152"
            ],
            [
             0.1,
             "#c51b7d"
            ],
            [
             0.2,
             "#de77ae"
            ],
            [
             0.3,
             "#f1b6da"
            ],
            [
             0.4,
             "#fde0ef"
            ],
            [
             0.5,
             "#f7f7f7"
            ],
            [
             0.6,
             "#e6f5d0"
            ],
            [
             0.7,
             "#b8e186"
            ],
            [
             0.8,
             "#7fbc41"
            ],
            [
             0.9,
             "#4d9221"
            ],
            [
             1,
             "#276419"
            ]
           ],
           "sequential": [
            [
             0,
             "#0d0887"
            ],
            [
             0.1111111111111111,
             "#46039f"
            ],
            [
             0.2222222222222222,
             "#7201a8"
            ],
            [
             0.3333333333333333,
             "#9c179e"
            ],
            [
             0.4444444444444444,
             "#bd3786"
            ],
            [
             0.5555555555555556,
             "#d8576b"
            ],
            [
             0.6666666666666666,
             "#ed7953"
            ],
            [
             0.7777777777777778,
             "#fb9f3a"
            ],
            [
             0.8888888888888888,
             "#fdca26"
            ],
            [
             1,
             "#f0f921"
            ]
           ],
           "sequentialminus": [
            [
             0,
             "#0d0887"
            ],
            [
             0.1111111111111111,
             "#46039f"
            ],
            [
             0.2222222222222222,
             "#7201a8"
            ],
            [
             0.3333333333333333,
             "#9c179e"
            ],
            [
             0.4444444444444444,
             "#bd3786"
            ],
            [
             0.5555555555555556,
             "#d8576b"
            ],
            [
             0.6666666666666666,
             "#ed7953"
            ],
            [
             0.7777777777777778,
             "#fb9f3a"
            ],
            [
             0.8888888888888888,
             "#fdca26"
            ],
            [
             1,
             "#f0f921"
            ]
           ]
          },
          "colorway": [
           "#636efa",
           "#EF553B",
           "#00cc96",
           "#ab63fa",
           "#FFA15A",
           "#19d3f3",
           "#FF6692",
           "#B6E880",
           "#FF97FF",
           "#FECB52"
          ],
          "font": {
           "color": "#2a3f5f"
          },
          "geo": {
           "bgcolor": "white",
           "lakecolor": "white",
           "landcolor": "#E5ECF6",
           "showlakes": true,
           "showland": true,
           "subunitcolor": "white"
          },
          "hoverlabel": {
           "align": "left"
          },
          "hovermode": "closest",
          "mapbox": {
           "style": "light"
          },
          "paper_bgcolor": "white",
          "plot_bgcolor": "#E5ECF6",
          "polar": {
           "angularaxis": {
            "gridcolor": "white",
            "linecolor": "white",
            "ticks": ""
           },
           "bgcolor": "#E5ECF6",
           "radialaxis": {
            "gridcolor": "white",
            "linecolor": "white",
            "ticks": ""
           }
          },
          "scene": {
           "xaxis": {
            "backgroundcolor": "#E5ECF6",
            "gridcolor": "white",
            "gridwidth": 2,
            "linecolor": "white",
            "showbackground": true,
            "ticks": "",
            "zerolinecolor": "white"
           },
           "yaxis": {
            "backgroundcolor": "#E5ECF6",
            "gridcolor": "white",
            "gridwidth": 2,
            "linecolor": "white",
            "showbackground": true,
            "ticks": "",
            "zerolinecolor": "white"
           },
           "zaxis": {
            "backgroundcolor": "#E5ECF6",
            "gridcolor": "white",
            "gridwidth": 2,
            "linecolor": "white",
            "showbackground": true,
            "ticks": "",
            "zerolinecolor": "white"
           }
          },
          "shapedefaults": {
           "line": {
            "color": "#2a3f5f"
           }
          },
          "ternary": {
           "aaxis": {
            "gridcolor": "white",
            "linecolor": "white",
            "ticks": ""
           },
           "baxis": {
            "gridcolor": "white",
            "linecolor": "white",
            "ticks": ""
           },
           "bgcolor": "#E5ECF6",
           "caxis": {
            "gridcolor": "white",
            "linecolor": "white",
            "ticks": ""
           }
          },
          "title": {
           "x": 0.05
          },
          "xaxis": {
           "automargin": true,
           "gridcolor": "white",
           "linecolor": "white",
           "ticks": "",
           "title": {
            "standoff": 15
           },
           "zerolinecolor": "white",
           "zerolinewidth": 2
          },
          "yaxis": {
           "automargin": true,
           "gridcolor": "white",
           "linecolor": "white",
           "ticks": "",
           "title": {
            "standoff": 15
           },
           "zerolinecolor": "white",
           "zerolinewidth": 2
          }
         }
        },
        "title": {
         "text": "Média dos Gastos dos Senadores por Ano"
        },
        "xaxis": {
         "title": {
          "text": "Ano"
         }
        },
        "yaxis": {
         "title": {
          "text": "Média Reembolsada"
         }
        }
       }
      }
     },
     "metadata": {},
     "output_type": "display_data"
    }
   ],
   "source": [
    "combined_df['ANO'] = pd.to_datetime(combined_df['DATA'], format='%d/%m/%Y').dt.year\n",
    "\n",
    "# Agrupar os gastos por ano e calcular a média dos valores reembolsados em cada ano\n",
    "media_por_ano = combined_df.groupby('ANO')['VALOR_REEMBOLSADO'].mean()\n",
    "\n",
    "trace = go.Scatter(\n",
    "    x=media_por_ano.index,    # Ano no eixo x\n",
    "    y=media_por_ano.values,   # Média dos valores reembolsados no eixo y\n",
    "    mode='lines+markers',     # Tipo de gráfico (linhas com marcadores)\n",
    "    marker=dict(color='blue'),# Cor da linha\n",
    ")\n",
    "\n",
    "data = [trace]\n",
    "\n",
    "layout = go.Layout(\n",
    "    title='Média dos Gastos dos Senadores por Ano',\n",
    "    xaxis=dict(title='Ano'),                # Título do eixo x\n",
    "    yaxis=dict(title='Média Reembolsada'),  # Título do eixo y\n",
    ")\n",
    "\n",
    "fig = go.Figure(data=data, layout=layout)\n",
    "\n",
    "fig.show()"
   ]
  }
 ],
 "metadata": {
  "kernelspec": {
   "display_name": "Python 3",
   "language": "python",
   "name": "python3"
  },
  "language_info": {
   "codemirror_mode": {
    "name": "ipython",
    "version": 3
   },
   "file_extension": ".py",
   "mimetype": "text/x-python",
   "name": "python",
   "nbconvert_exporter": "python",
   "pygments_lexer": "ipython3",
   "version": "3.10.0rc2"
  }
 },
 "nbformat": 4,
 "nbformat_minor": 2
}
